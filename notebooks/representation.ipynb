{
 "cells": [
  {
   "cell_type": "markdown",
   "metadata": {},
   "source": [
    "### Index:\n",
    "\n",
    "1. [**Gap-to-tex**](#Gap-to-tex:)<br>\n",
    "Transfer gap to tex\n",
    "\n",
    "2. [**Representation of WreathProduct with given irreducable representation degree**](#Representation-of-WreathProduct-with-given-irreducable-representation-degree:)<br>\n",
    "<t>With use of ``show_degs`` and ``show_reps`` functions showed histogram of irreducible representations of group $D_{34}$ - ``DihedralGroup(34)``\n",
    " \n",
    "3. [**Define some matrix representations of groups $C_{3}$ and $T$**](#Define-some-matrix-representations-of-groups-$C_{3}$-and-$T$)\n",
    "\n",
    "4. [**Define tetrahedron group**](#Define-tetrahedron-group:)\n",
    "\n",
    "5. [**Representation of direct product $F\\times F$\n",
    "of irreducible representation $F$\n",
    "of degry 3 of group $T$**](#Representation-of-direct-product-$F\\times-F$--of-irreducible-representation-$F$-of-degry-3-of-group-$T$)\n",
    "\n",
    "6. [**To get some orbits of** ``mats_tetra_FxF`` **representation of group** $T$](#To-get-some-orbits-of-mats_tetra_FxF-representation-of-group-$T$)\n",
    "\n",
    "7. [**To find** $H$ **as such** $D(g)H=HD′(g)$ **where** $D′(g)$ **is block-diagonal matrix of given (i.e. fixed) element** $g$](#to-find-$D(g)-H-=-H-D'(g)$-where-$D'(g)$-is-block-diagonal-matrix-of-given-(i.e.-fixed)-element-g)\n",
    "\n",
    "8. [**To find** $H$ **as such**  $D(g)H=HD(g) \\ \\ \\ \\forall g\\in G$](#To-find-$D(g)-H-=-H-D(g)-\\-\\-\\--\\forall-g-\\in-G$)\n",
    "\n",
    "9. [**To find** $H$ **as such** $D(g)H=HD(g) \\ \\ \\   \\forall g \\in G$\n",
    "**for reresentation** $F$\n",
    "](#To-find-$D(g)-H-=-H-D(g)-\\-\\-\\--\\forall-g-\\in-G$-for-reresentation-$F$)\n",
    "\n",
    "10. [**Attempt to find projection** $P_{i,k}^{j}$ **for** $F$ **component of** $F \\times F$\n",
    "](#Attempt-to-find-$P_{i,k}^{j}$-for-$F$-in-FxF)\n",
    "\n",
    "11. [$F_{3}$-**component**](#$F_{3}$-component)\n",
    "\n",
    "\n",
    "\n"
   ]
  },
  {
   "cell_type": "code",
   "execution_count": 1,
   "metadata": {},
   "outputs": [],
   "source": [
    "H = DihedralGroup(4);"
   ]
  },
  {
   "cell_type": "code",
   "execution_count": 4,
   "metadata": {},
   "outputs": [
    {
     "data": {
      "text/plain": [
       "[Character of Dihedral group of order 8 as a permutation group,\n",
       " Character of Dihedral group of order 8 as a permutation group,\n",
       " Character of Dihedral group of order 8 as a permutation group,\n",
       " Character of Dihedral group of order 8 as a permutation group,\n",
       " Character of Dihedral group of order 8 as a permutation group]"
      ]
     },
     "execution_count": 4,
     "metadata": {},
     "output_type": "execute_result"
    }
   ],
   "source": [
    "H.irreducible_characters()"
   ]
  },
  {
   "cell_type": "code",
   "execution_count": 16,
   "metadata": {},
   "outputs": [],
   "source": [
    "m1 = gap(\"[[-1/2, -Sqrt(3)/2],[Sqrt(3)/2, -1/2]];\")\n",
    "m2 = gap(\"[[-1/2, Sqrt(3)/2], [Sqrt(3)/2, 1/2]];\")\n",
    "gap.set(\"m1\",m1);\n",
    "gap.set(\"m2\",m2);\n",
    "gap.set(\"s3\",\"Group((1,2,3),(1,2));\");\n",
    "gap.set(\"map\",\"GroupGeneralMappingByImages(s3,GeneratorsOfGroup(s3),[m1,m2]);\")\n",
    "s=gap(\"Image(map, (2,3))\")"
   ]
  },
  {
   "cell_type": "markdown",
   "metadata": {},
   "source": [
    "### Gap to tex:"
   ]
  },
  {
   "cell_type": "code",
   "execution_count": 21,
   "metadata": {},
   "outputs": [],
   "source": [
    "m=matrix([ [ -1/2, 1/2*E(12)^7-1/2*E(12)^11 ], [ 1/2*E(12)^7-1/2*E(12)^11, 1/2 ] ])"
   ]
  },
  {
   "cell_type": "code",
   "execution_count": 22,
   "metadata": {},
   "outputs": [
    {
     "data": {
      "text/plain": [
       "\\left(\\begin{array}{rr}\n",
       "\\text{\\texttt{{-}1/2}} & \\text{\\texttt{1/2*E(12){\\char`\\^}7{ }{-}{ }1/2*E(12){\\char`\\^}11}} \\\\\n",
       "\\text{\\texttt{1/2*E(12){\\char`\\^}7{ }{-}{ }1/2*E(12){\\char`\\^}11}} & \\text{\\texttt{1/2}}\n",
       "\\end{array}\\right)"
      ]
     },
     "execution_count": 22,
     "metadata": {},
     "output_type": "execute_result"
    }
   ],
   "source": [
    "latex(m)"
   ]
  },
  {
   "cell_type": "code",
   "execution_count": 48,
   "metadata": {},
   "outputs": [],
   "source": [
    "s=gap(\"[ (), (5,6), (4,5,6), (2,3)(5,6), (2,3)(4,5,6), (1,2,3)(4,5,6), (1,4)(2,5)(3,6), (1,4)(2,5,3,6), (1,4,2,5,3,6) ];\")\n"
   ]
  },
  {
   "cell_type": "code",
   "execution_count": 69,
   "metadata": {},
   "outputs": [
    {
     "data": {
      "text/html": [
       "<html><script type=\"math/tex; mode=display\">\\newcommand{\\Bold}[1]{\\mathbf{#1}}() \\verb|->| \\left(\\begin{array}{rr}\n",
       "1 & 0 \\\\\n",
       "0 & 1\n",
       "\\end{array}\\right)</script></html>"
      ],
      "text/plain": [
       "() '->' \\left(\\begin{array}{rr}\n",
       "1 & 0 \\\\\n",
       "0 & 1\n",
       "\\end{array}\\right)"
      ]
     },
     "metadata": {},
     "output_type": "display_data"
    },
    {
     "data": {
      "text/html": [
       "<html><script type=\"math/tex; mode=display\">\\newcommand{\\Bold}[1]{\\mathbf{#1}}(5,6) \\verb|->| \\left(\\begin{array}{rr}\n",
       "-1 & 0 \\\\\n",
       "0 & 1\n",
       "\\end{array}\\right)</script></html>"
      ],
      "text/plain": [
       "(5,6) '->' \\left(\\begin{array}{rr}\n",
       "-1 & 0 \\\\\n",
       "0 & 1\n",
       "\\end{array}\\right)"
      ]
     },
     "metadata": {},
     "output_type": "display_data"
    },
    {
     "data": {
      "text/html": [
       "<html><script type=\"math/tex; mode=display\">\\newcommand{\\Bold}[1]{\\mathbf{#1}}(4,5,6) \\verb|->| \\left(\\begin{array}{rr}\n",
       "1 & 0 \\\\\n",
       "0 & 1\n",
       "\\end{array}\\right)</script></html>"
      ],
      "text/plain": [
       "(4,5,6) '->' \\left(\\begin{array}{rr}\n",
       "1 & 0 \\\\\n",
       "0 & 1\n",
       "\\end{array}\\right)"
      ]
     },
     "metadata": {},
     "output_type": "display_data"
    },
    {
     "data": {
      "text/html": [
       "<html><script type=\"math/tex; mode=display\">\\newcommand{\\Bold}[1]{\\mathbf{#1}}(2,3)(5,6) \\verb|->| \\left(\\begin{array}{rr}\n",
       "-1 & 0 \\\\\n",
       "0 & -1\n",
       "\\end{array}\\right)</script></html>"
      ],
      "text/plain": [
       "(2,3)(5,6) '->' \\left(\\begin{array}{rr}\n",
       "-1 & 0 \\\\\n",
       "0 & -1\n",
       "\\end{array}\\right)"
      ]
     },
     "metadata": {},
     "output_type": "display_data"
    },
    {
     "data": {
      "text/html": [
       "<html><script type=\"math/tex; mode=display\">\\newcommand{\\Bold}[1]{\\mathbf{#1}}(2,3)(4,5,6) \\verb|->| \\left(\\begin{array}{rr}\n",
       "1 & 0 \\\\\n",
       "0 & -1\n",
       "\\end{array}\\right)</script></html>"
      ],
      "text/plain": [
       "(2,3)(4,5,6) '->' \\left(\\begin{array}{rr}\n",
       "1 & 0 \\\\\n",
       "0 & -1\n",
       "\\end{array}\\right)"
      ]
     },
     "metadata": {},
     "output_type": "display_data"
    },
    {
     "data": {
      "text/html": [
       "<html><script type=\"math/tex; mode=display\">\\newcommand{\\Bold}[1]{\\mathbf{#1}}(1,2,3)(4,5,6) \\verb|->| \\left(\\begin{array}{rr}\n",
       "1 & 0 \\\\\n",
       "0 & 1\n",
       "\\end{array}\\right)</script></html>"
      ],
      "text/plain": [
       "(1,2,3)(4,5,6) '->' \\left(\\begin{array}{rr}\n",
       "1 & 0 \\\\\n",
       "0 & 1\n",
       "\\end{array}\\right)"
      ]
     },
     "metadata": {},
     "output_type": "display_data"
    },
    {
     "data": {
      "text/html": [
       "<html><script type=\"math/tex; mode=display\">\\newcommand{\\Bold}[1]{\\mathbf{#1}}(1,4)(2,5)(3,6) \\verb|->| \\left(\\begin{array}{rr}\n",
       "0 & 1 \\\\\n",
       "1 & 0\n",
       "\\end{array}\\right)</script></html>"
      ],
      "text/plain": [
       "(1,4)(2,5)(3,6) '->' \\left(\\begin{array}{rr}\n",
       "0 & 1 \\\\\n",
       "1 & 0\n",
       "\\end{array}\\right)"
      ]
     },
     "metadata": {},
     "output_type": "display_data"
    },
    {
     "data": {
      "text/html": [
       "<html><script type=\"math/tex; mode=display\">\\newcommand{\\Bold}[1]{\\mathbf{#1}}(1,4)(2,5,3,6) \\verb|->| \\left(\\begin{array}{rr}\n",
       "0 & -1 \\\\\n",
       "1 & 0\n",
       "\\end{array}\\right)</script></html>"
      ],
      "text/plain": [
       "(1,4)(2,5,3,6) '->' \\left(\\begin{array}{rr}\n",
       "0 & -1 \\\\\n",
       "1 & 0\n",
       "\\end{array}\\right)"
      ]
     },
     "metadata": {},
     "output_type": "display_data"
    },
    {
     "data": {
      "text/html": [
       "<html><script type=\"math/tex; mode=display\">\\newcommand{\\Bold}[1]{\\mathbf{#1}}(1,4,2,5,3,6) \\verb|->| \\left(\\begin{array}{rr}\n",
       "0 & 1 \\\\\n",
       "1 & 0\n",
       "\\end{array}\\right)</script></html>"
      ],
      "text/plain": [
       "(1,4,2,5,3,6) '->' \\left(\\begin{array}{rr}\n",
       "0 & 1 \\\\\n",
       "1 & 0\n",
       "\\end{array}\\right)"
      ]
     },
     "metadata": {},
     "output_type": "display_data"
    }
   ],
   "source": [
    "cls_repr =s\n",
    "\n",
    "reprs = [ [ [ 1, 0 ], [ 0, 1 ] ], [ [ -1, 0 ], [ 0, 1 ] ], \n",
    "  [ [ 1, 0 ], [ 0, 1 ] ], [ [ -1, 0 ], [ 0, -1 ] ], \n",
    "  [ [ 1, 0 ], [ 0, -1 ] ], [ [ 1, 0 ], [ 0, 1 ] ], \n",
    "  [ [ 0, 1 ], [ 1, 0 ] ], [ [ 0, -1 ], [ 1, 0 ] ], \n",
    "  [ [ 0, 1 ], [ 1, 0 ] ] ]\n",
    "\n",
    "for i, cls in enumerate(cls_repr):\n",
    "    show(cls,\"->\", latex(matrix(reprs[i])))"
   ]
  },
  {
   "cell_type": "code",
   "execution_count": 27,
   "metadata": {},
   "outputs": [],
   "source": [
    "matrix?"
   ]
  },
  {
   "cell_type": "markdown",
   "metadata": {},
   "source": [
    "### Representation of WreathProduct with given irreducable representation degree:\n"
   ]
  },
  {
   "cell_type": "code",
   "execution_count": 1,
   "metadata": {},
   "outputs": [],
   "source": [
    "def show_degs(G):\n",
    "    gap.set(\"G\", G)\n",
    "    gap.set(\"w\",\"WreathProduct(G, Group((1,2)));\")\n",
    "    gap.set(\"irrs\",\"Irr(w);\")\n",
    "    gap.set(\"degs\",\"List(irrs,e->e[1])\")\n",
    "    gap.set(\"degs1\",\"Collected(degs)\")\n",
    "    print(gap.get(\"degs1\"))\n",
    "    return(gap.get(\"degs\"))\n",
    "    \n",
    "def show_reps(char_idx):\n",
    "    gap.set(\"char\", \"irrs[%s]\"%str(char_idx))\n",
    "    gap.set(\"hom\", \"IrreducibleRepresentationsDixon(w,char:unary);\")\n",
    "    gap.set(\"cls\", \"List(ConjugacyClasses(w),Representative);\")\n",
    "    res_cls = gap(\"cls\")\n",
    "    # res_cls.replace(\"\\n\",\"\")\n",
    "    \n",
    "    gap.set(\"reps\", \"List(cls,e->Image(hom,e));\")\n",
    "    res_reps = gap.get(\"reps\")\n",
    "    res_reps.replace(\"\\n\",\"\")\n",
    "    print(res_reps)\n",
    "    res_reps = gap(\"reps\")\n",
    "    return(res_cls,res_reps)"
   ]
  },
  {
   "cell_type": "code",
   "execution_count": 2,
   "metadata": {},
   "outputs": [],
   "source": [
    "import numpy as np\n",
    "import matplotlib.pyplot as plt\n"
   ]
  },
  {
   "cell_type": "code",
   "execution_count": 4,
   "metadata": {},
   "outputs": [
    {
     "name": "stdout",
     "output_type": "stream",
     "text": [
      "[ [ 1, 4 ], [ 2, 1 ], [ 4, 32 ], [ 8, 28 ] ]\n"
     ]
    },
    {
     "data": {
      "text/plain": [
       "array([1, 1, 1, 1, 2, 4, 4, 4, 4, 4, 4, 4, 4, 4, 4, 4, 4, 4, 4, 4, 4, 4,\n",
       "       4, 4, 4, 4, 4, 4, 4, 4, 4, 4, 4, 4, 4, 4, 4, 8, 8, 8, 8, 8, 8, 8,\n",
       "       8, 8, 8, 8, 8, 8, 8, 8, 8, 8, 8, 8, 8, 8, 8, 8, 8, 8, 8, 8, 8])"
      ]
     },
     "execution_count": 4,
     "metadata": {},
     "output_type": "execute_result"
    }
   ],
   "source": [
    "np.array(eval(show_degs(\"DihedralGroup(34)\")))"
   ]
  },
  {
   "cell_type": "code",
   "execution_count": 5,
   "metadata": {},
   "outputs": [
    {
     "name": "stdout",
     "output_type": "stream",
     "text": [
      "[ [ 1, 8 ], [ 2, 6 ], [ 4, 48 ], [ 8, 28 ] ]\n"
     ]
    },
    {
     "data": {
      "text/plain": [
       "array([1, 1, 1, 1, 1, 1, 1, 1, 2, 2, 2, 2, 2, 2, 4, 4, 4, 4, 4, 4, 4, 4,\n",
       "       4, 4, 4, 4, 4, 4, 4, 4, 4, 4, 4, 4, 4, 4, 4, 4, 4, 4, 4, 4, 4, 4,\n",
       "       4, 4, 4, 4, 4, 4, 4, 4, 4, 4, 4, 4, 4, 4, 4, 4, 4, 4, 8, 8, 8, 8,\n",
       "       8, 8, 8, 8, 8, 8, 8, 8, 8, 8, 8, 8, 8, 8, 8, 8, 8, 8, 8, 8, 8, 8,\n",
       "       8, 8])"
      ]
     },
     "execution_count": 5,
     "metadata": {},
     "output_type": "execute_result"
    }
   ],
   "source": [
    "degs=np.array(eval(show_degs(\"DihedralGroup(36)\")))\n",
    "degs"
   ]
  },
  {
   "cell_type": "code",
   "execution_count": 88,
   "metadata": {},
   "outputs": [
    {
     "data": {
      "image/png": "[encoded data removed]",
      "text/plain": [
       "<Figure size 432x288 with 1 Axes>"
      ]
     },
     "metadata": {},
     "output_type": "display_data"
    }
   ],
   "source": [
    "fig, ax = plt.subplots()\n",
    "\n",
    "v, b, p = ax.hist(degs, sum(degs), # normed=True, # density=True, \n",
    "                stacked=True)\n",
    "plt.show()"
   ]
  },
  {
   "cell_type": "code",
   "execution_count": 120,
   "metadata": {},
   "outputs": [],
   "source": [
    "res_x=[10 , 12 , 14 , 16 , 18 , 20 , 22 , 24 , 26 , 28 , 30 , 32, 34, 36, 38,40, 42, 44, 46, 48, 50 ,  52 ,  54 ,  56 ,  58, 60 ,  62 ,  64 ,  66 ,  68,70 ,  72 ,  74 ,  76 ,  78,80 ,  82 ,  84 ,  86 ,  88,90 ,  92 ,  94 ,  96 ,  98]\n",
    "res_y=[2400 ,  10368 ,  14112 ,  49152 ,  46656 , 153600 , 116160 ,  359424 ,  243360 ,  733824 ,  453600 ,  1327104,\n",
    " 776832, 2239488, 1247616,3532800, 1905120, 5343360, 2793120, 7741440,3960000 ,  10902528 ,  5458752 ,  14902272 ,  7346976,19958400 ,  9686880 ,  26148864 ,  12545280 ,  33736704,15993600 ,  42799104 ,  20107872 ,  53647488 ,  24968736,66355200 ,  30661440 ,  81285120 ,  37275840 ,  98503680,44906400 ,  118428288 ,  53652192 ,  141115392 ,  63616896]"
   ]
  },
  {
   "cell_type": "code",
   "execution_count": 121,
   "metadata": {},
   "outputs": [],
   "source": [
    "import matplotlib.pyplot as plt\n",
    "plt.plot(res_x,res_y)\n",
    "plt.savefig(\"tmp.svg\")\n",
    "plt.savefig(\"tmp.png\")\n"
   ]
  },
  {
   "cell_type": "code",
   "execution_count": 12,
   "metadata": {
    "collapsed": true
   },
   "outputs": [
    {
     "name": "stdout",
     "output_type": "stream",
     "text": [
      "[ [ [ 1, 0, 0, 0 ], [ 0, 1, 0, 0 ], [ 0, 0, 1, 0 ], [ 0, 0, 0, 1 ] ], \n",
      "  [ [ 0, 0, -1, 0 ], [ 0, 0, 0, -1 ], [ -1, 0, 0, 0 ], [ 0, -1, 0, 0 ] ], \n",
      "  [ [ 1, 0, 0, 0 ], [ 0, -1, 0, 0 ], [ 0, 0, 1, 0 ], [ 0, 0, 0, 1 ] ], \n",
      "  [ [ 0, 0, -1, 0 ], [ 0, 0, 0, 1 ], [ -1, 0, 0, 0 ], [ 0, -1, 0, 0 ] ], \n",
      "  [ [ 1, 0, 0, 0 ], [ 0, 0, 1, 0 ], [ 0, -1, 0, 0 ], [ 0, 0, 0, 1 ] ], \n",
      "  [ [ 0, 0, -1, 0 ], [ -1, 0, 0, 0 ], [ 0, 0, 0, 1 ], [ 0, -1, 0, 0 ] ], \n",
      "  [ [ 1, 0, 0, 0 ], [ 0, -1, 0, 0 ], [ 0, 0, -1, 0 ], [ 0, 0, 0, 1 ] ], \n",
      "  [ [ 0, 0, -1, 0 ], [ 0, 0, 0, 1 ], [ 1, 0, 0, 0 ], [ 0, -1, 0, 0 ] ], \n",
      "  [ [ 1, 0, 0, 0 ], [ 0, 0, -1, 0 ], [ 0, -1, 0, 0 ], [ 0, 0, 0, 1 ] ], \n",
      "  [ [ 0, 0, -1, 0 ], [ 1, 0, 0, 0 ], [ 0, 0, 0, 1 ], [ 0, -1, 0, 0 ] ], \n",
      "  [ [ 1, 0, 0, 0 ], [ 0, -1, 0, 0 ], [ 0, 0, 1, 0 ], [ 0, 0, 0, -1 ] ], \n",
      "  [ [ 1, 0, 0, 0 ], [ 0, 0, 1, 0 ], [ 0, -1, 0, 0 ], [ 0, 0, 0, -1 ] ], \n",
      "  [ [ 1, 0, 0, 0 ], [ 0, -1, 0, 0 ], [ 0, 0, -1, 0 ], [ 0, 0, 0, -1 ] ], \n",
      "  [ [ 1, 0, 0, 0 ], [ 0, 0, -1, 0 ], [ 0, -1, 0, 0 ], [ 0, 0, 0, -1 ] ], \n",
      "  [ [ 0, 0, 0, -1 ], [ 0, 0, 1, 0 ], [ 0, -1, 0, 0 ], [ 1, 0, 0, 0 ] ], \n",
      "  [ [ 0, 0, 0, -1 ], [ 0, -1, 0, 0 ], [ 0, 0, -1, 0 ], [ 1, 0, 0, 0 ] ], \n",
      "  [ [ 0, 0, 0, -1 ], [ 0, 0, -1, 0 ], [ 0, -1, 0, 0 ], [ 1, 0, 0, 0 ] ], \n",
      "  [ [ -1, 0, 0, 0 ], [ 0, -1, 0, 0 ], [ 0, 0, -1, 0 ], [ 0, 0, 0, -1 ] ], \n",
      "  [ [ -1, 0, 0, 0 ], [ 0, 0, -1, 0 ], [ 0, -1, 0, 0 ], [ 0, 0, 0, -1 ] ], \n",
      "  [ [ 0, 0, 0, -1 ], [ 0, 0, -1, 0 ], [ 0, -1, 0, 0 ], [ -1, 0, 0, 0 ] ] ]\n"
     ]
    },
    {
     "ename": "TypeError",
     "evalue": "Gap produced error output\nError, no method found! For debugging hints type ?Recovery from NoMethodFound\nError, no 1st choice method found for `[]' on 2 arguments\n\n   executing \\$sage25:=\\$sage26[0];;",
     "output_type": "error",
     "traceback": [
      "\u001b[0;31m--------------------------------------------------------------------------\u001b[0m",
      "\u001b[0;31mRuntimeError\u001b[0m                             Traceback (most recent call last)",
      "\u001b[0;32m/home/valdecar/programs/sage-9.0/local/lib/python3.7/site-packages/sage/interfaces/gap.py\u001b[0m in \u001b[0;36m_eval_line\u001b[0;34m(self, line, allow_use_file, wait_for_prompt, restart_if_needed)\u001b[0m\n\u001b[1;32m    767\u001b[0m                 \u001b[0merror\u001b[0m \u001b[0;34m=\u001b[0m \u001b[0merror\u001b[0m\u001b[0;34m.\u001b[0m\u001b[0mreplace\u001b[0m\u001b[0;34m(\u001b[0m\u001b[0;34m'\\r'\u001b[0m\u001b[0;34m,\u001b[0m\u001b[0;34m''\u001b[0m\u001b[0;34m)\u001b[0m\u001b[0;34m\u001b[0m\u001b[0;34m\u001b[0m\u001b[0m\n\u001b[0;32m--> 768\u001b[0;31m                 \u001b[0;32mraise\u001b[0m \u001b[0mRuntimeError\u001b[0m\u001b[0;34m(\u001b[0m\u001b[0;34m\"%s produced error output\\n%s\\n   executing %s\"\u001b[0m\u001b[0;34m%\u001b[0m\u001b[0;34m(\u001b[0m\u001b[0mself\u001b[0m\u001b[0;34m,\u001b[0m \u001b[0merror\u001b[0m\u001b[0;34m,\u001b[0m\u001b[0mline\u001b[0m\u001b[0;34m)\u001b[0m\u001b[0;34m)\u001b[0m\u001b[0;34m\u001b[0m\u001b[0;34m\u001b[0m\u001b[0m\n\u001b[0m\u001b[1;32m    769\u001b[0m             \u001b[0;32mif\u001b[0m \u001b[0;32mnot\u001b[0m \u001b[0mlen\u001b[0m\u001b[0;34m(\u001b[0m\u001b[0mnormal\u001b[0m\u001b[0;34m)\u001b[0m\u001b[0;34m:\u001b[0m\u001b[0;34m\u001b[0m\u001b[0;34m\u001b[0m\u001b[0m\n",
      "\u001b[0;31mRuntimeError\u001b[0m: Gap produced error output\nError, no method found! For debugging hints type ?Recovery from NoMethodFound\nError, no 1st choice method found for `[]' on 2 arguments\n\n   executing \\$sage25:=\\$sage26[0];;",
      "\nDuring handling of the above exception, another exception occurred:\n",
      "\u001b[0;31mRuntimeError\u001b[0m                             Traceback (most recent call last)",
      "\u001b[0;32m/home/valdecar/programs/sage-9.0/local/lib/python3.7/site-packages/sage/interfaces/expect.py\u001b[0m in \u001b[0;36m__init__\u001b[0;34m(self, parent, value, is_name, name)\u001b[0m\n\u001b[1;32m   1470\u001b[0m             \u001b[0;32mtry\u001b[0m\u001b[0;34m:\u001b[0m\u001b[0;34m\u001b[0m\u001b[0;34m\u001b[0m\u001b[0m\n\u001b[0;32m-> 1471\u001b[0;31m                 \u001b[0mself\u001b[0m\u001b[0;34m.\u001b[0m\u001b[0m_name\u001b[0m \u001b[0;34m=\u001b[0m \u001b[0mparent\u001b[0m\u001b[0;34m.\u001b[0m\u001b[0m_create\u001b[0m\u001b[0;34m(\u001b[0m\u001b[0mvalue\u001b[0m\u001b[0;34m,\u001b[0m \u001b[0mname\u001b[0m\u001b[0;34m=\u001b[0m\u001b[0mname\u001b[0m\u001b[0;34m)\u001b[0m\u001b[0;34m\u001b[0m\u001b[0;34m\u001b[0m\u001b[0m\n\u001b[0m\u001b[1;32m   1472\u001b[0m             \u001b[0;31m# Convert ValueError and RuntimeError to TypeError for\u001b[0m\u001b[0;34m\u001b[0m\u001b[0;34m\u001b[0m\u001b[0;34m\u001b[0m\u001b[0m\n",
      "\u001b[0;32m/home/valdecar/programs/sage-9.0/local/lib/python3.7/site-packages/sage/interfaces/interface.py\u001b[0m in \u001b[0;36m_create\u001b[0;34m(self, value, name)\u001b[0m\n\u001b[1;32m    500\u001b[0m         \u001b[0mname\u001b[0m \u001b[0;34m=\u001b[0m \u001b[0mself\u001b[0m\u001b[0;34m.\u001b[0m\u001b[0m_next_var_name\u001b[0m\u001b[0;34m(\u001b[0m\u001b[0;34m)\u001b[0m \u001b[0;32mif\u001b[0m \u001b[0mname\u001b[0m \u001b[0;32mis\u001b[0m \u001b[0;32mNone\u001b[0m \u001b[0;32melse\u001b[0m \u001b[0mname\u001b[0m\u001b[0;34m\u001b[0m\u001b[0;34m\u001b[0m\u001b[0m\n\u001b[0;32m--> 501\u001b[0;31m         \u001b[0mself\u001b[0m\u001b[0;34m.\u001b[0m\u001b[0mset\u001b[0m\u001b[0;34m(\u001b[0m\u001b[0mname\u001b[0m\u001b[0;34m,\u001b[0m \u001b[0mvalue\u001b[0m\u001b[0;34m)\u001b[0m\u001b[0;34m\u001b[0m\u001b[0;34m\u001b[0m\u001b[0m\n\u001b[0m\u001b[1;32m    502\u001b[0m         \u001b[0;32mreturn\u001b[0m \u001b[0mname\u001b[0m\u001b[0;34m\u001b[0m\u001b[0;34m\u001b[0m\u001b[0m\n",
      "\u001b[0;32m/home/valdecar/programs/sage-9.0/local/lib/python3.7/site-packages/sage/interfaces/gap.py\u001b[0m in \u001b[0;36mset\u001b[0;34m(self, var, value)\u001b[0m\n\u001b[1;32m   1426\u001b[0m         \u001b[0mcmd\u001b[0m \u001b[0;34m=\u001b[0m \u001b[0;34m(\u001b[0m\u001b[0;34m'%s:=%s;;'\u001b[0m \u001b[0;34m%\u001b[0m \u001b[0;34m(\u001b[0m\u001b[0mvar\u001b[0m\u001b[0;34m,\u001b[0m \u001b[0mvalue\u001b[0m\u001b[0;34m)\u001b[0m\u001b[0;34m)\u001b[0m\u001b[0;34m.\u001b[0m\u001b[0mreplace\u001b[0m\u001b[0;34m(\u001b[0m\u001b[0;34m'\\n'\u001b[0m\u001b[0;34m,\u001b[0m\u001b[0;34m''\u001b[0m\u001b[0;34m)\u001b[0m\u001b[0;34m\u001b[0m\u001b[0;34m\u001b[0m\u001b[0m\n\u001b[0;32m-> 1427\u001b[0;31m         \u001b[0mself\u001b[0m\u001b[0;34m.\u001b[0m\u001b[0m_eval_line\u001b[0m\u001b[0;34m(\u001b[0m\u001b[0mcmd\u001b[0m\u001b[0;34m,\u001b[0m \u001b[0mallow_use_file\u001b[0m\u001b[0;34m=\u001b[0m\u001b[0;32mTrue\u001b[0m\u001b[0;34m)\u001b[0m\u001b[0;34m\u001b[0m\u001b[0;34m\u001b[0m\u001b[0m\n\u001b[0m\u001b[1;32m   1428\u001b[0m \u001b[0;34m\u001b[0m\u001b[0m\n",
      "\u001b[0;32m/home/valdecar/programs/sage-9.0/local/lib/python3.7/site-packages/sage/interfaces/gap.py\u001b[0m in \u001b[0;36m_eval_line\u001b[0;34m(self, line, allow_use_file, wait_for_prompt, restart_if_needed)\u001b[0m\n\u001b[1;32m    801\u001b[0m             \u001b[0;32melse\u001b[0m\u001b[0;34m:\u001b[0m\u001b[0;34m\u001b[0m\u001b[0;34m\u001b[0m\u001b[0m\n\u001b[0;32m--> 802\u001b[0;31m                 \u001b[0;32mraise\u001b[0m \u001b[0mRuntimeError\u001b[0m\u001b[0;34m(\u001b[0m\u001b[0mexc\u001b[0m\u001b[0;34m)\u001b[0m\u001b[0;34m\u001b[0m\u001b[0;34m\u001b[0m\u001b[0m\n\u001b[0m\u001b[1;32m    803\u001b[0m \u001b[0;34m\u001b[0m\u001b[0m\n",
      "\u001b[0;31mRuntimeError\u001b[0m: Gap produced error output\nError, no method found! For debugging hints type ?Recovery from NoMethodFound\nError, no 1st choice method found for `[]' on 2 arguments\n\n   executing \\$sage25:=\\$sage26[0];;",
      "\nDuring handling of the above exception, another exception occurred:\n",
      "\u001b[0;31mTypeError\u001b[0m                                Traceback (most recent call last)",
      "\u001b[0;32m<ipython-input-12-bdc5ef8af620>\u001b[0m in \u001b[0;36m<module>\u001b[0;34m()\u001b[0m\n\u001b[1;32m      5\u001b[0m \u001b[0;32mfor\u001b[0m \u001b[0mi\u001b[0m\u001b[0;34m,\u001b[0m \u001b[0mc\u001b[0m \u001b[0;32min\u001b[0m \u001b[0menumerate\u001b[0m\u001b[0;34m(\u001b[0m\u001b[0mcls\u001b[0m\u001b[0;34m)\u001b[0m\u001b[0;34m:\u001b[0m\u001b[0;34m\u001b[0m\u001b[0;34m\u001b[0m\u001b[0m\n\u001b[1;32m      6\u001b[0m     \u001b[0;31m# show(c, \"->\",latex(matrix(reps[i])))\u001b[0m\u001b[0;34m\u001b[0m\u001b[0;34m\u001b[0m\u001b[0;34m\u001b[0m\u001b[0m\n\u001b[0;32m----> 7\u001b[0;31m     \u001b[0mshow\u001b[0m\u001b[0;34m(\u001b[0m\u001b[0mc\u001b[0m\u001b[0;34m,\u001b[0m \u001b[0;34m\"->\"\u001b[0m\u001b[0;34m,\u001b[0m \u001b[0mreps\u001b[0m\u001b[0;34m[\u001b[0m\u001b[0mi\u001b[0m\u001b[0;34m]\u001b[0m\u001b[0;34m)\u001b[0m\u001b[0;34m\u001b[0m\u001b[0;34m\u001b[0m\u001b[0m\n\u001b[0m",
      "\u001b[0;32m/home/valdecar/programs/sage-9.0/local/lib/python3.7/site-packages/sage/interfaces/gap.py\u001b[0m in \u001b[0;36m__getitem__\u001b[0;34m(self, n)\u001b[0m\n\u001b[1;32m   1616\u001b[0m         \u001b[0mself\u001b[0m\u001b[0;34m.\u001b[0m\u001b[0m_check_valid\u001b[0m\u001b[0;34m(\u001b[0m\u001b[0;34m)\u001b[0m\u001b[0;34m\u001b[0m\u001b[0;34m\u001b[0m\u001b[0m\n\u001b[1;32m   1617\u001b[0m         \u001b[0;32mif\u001b[0m \u001b[0;32mnot\u001b[0m \u001b[0misinstance\u001b[0m\u001b[0;34m(\u001b[0m\u001b[0mn\u001b[0m\u001b[0;34m,\u001b[0m \u001b[0mtuple\u001b[0m\u001b[0;34m)\u001b[0m\u001b[0;34m:\u001b[0m\u001b[0;34m\u001b[0m\u001b[0;34m\u001b[0m\u001b[0m\n\u001b[0;32m-> 1618\u001b[0;31m             \u001b[0;32mreturn\u001b[0m \u001b[0mself\u001b[0m\u001b[0;34m.\u001b[0m\u001b[0mparent\u001b[0m\u001b[0;34m(\u001b[0m\u001b[0;34m)\u001b[0m\u001b[0;34m.\u001b[0m\u001b[0mnew\u001b[0m\u001b[0;34m(\u001b[0m\u001b[0;34m'%s[%s]'\u001b[0m\u001b[0;34m%\u001b[0m\u001b[0;34m(\u001b[0m\u001b[0mself\u001b[0m\u001b[0;34m.\u001b[0m\u001b[0m_name\u001b[0m\u001b[0;34m,\u001b[0m \u001b[0mn\u001b[0m\u001b[0;34m)\u001b[0m\u001b[0;34m)\u001b[0m\u001b[0;34m\u001b[0m\u001b[0;34m\u001b[0m\u001b[0m\n\u001b[0m\u001b[1;32m   1619\u001b[0m         \u001b[0;32melse\u001b[0m\u001b[0;34m:\u001b[0m\u001b[0;34m\u001b[0m\u001b[0;34m\u001b[0m\u001b[0m\n\u001b[1;32m   1620\u001b[0m             \u001b[0;32mreturn\u001b[0m \u001b[0mself\u001b[0m\u001b[0;34m.\u001b[0m\u001b[0mparent\u001b[0m\u001b[0;34m(\u001b[0m\u001b[0;34m)\u001b[0m\u001b[0;34m.\u001b[0m\u001b[0mnew\u001b[0m\u001b[0;34m(\u001b[0m\u001b[0;34m'%s%s'\u001b[0m\u001b[0;34m%\u001b[0m\u001b[0;34m(\u001b[0m\u001b[0mself\u001b[0m\u001b[0;34m.\u001b[0m\u001b[0m_name\u001b[0m\u001b[0;34m,\u001b[0m \u001b[0;34m''\u001b[0m\u001b[0;34m.\u001b[0m\u001b[0mjoin\u001b[0m\u001b[0;34m(\u001b[0m\u001b[0;34m[\u001b[0m\u001b[0;34m'[%s]'\u001b[0m\u001b[0;34m%\u001b[0m\u001b[0mx\u001b[0m \u001b[0;32mfor\u001b[0m \u001b[0mx\u001b[0m \u001b[0;32min\u001b[0m \u001b[0mn\u001b[0m\u001b[0;34m]\u001b[0m\u001b[0;34m)\u001b[0m\u001b[0;34m)\u001b[0m\u001b[0;34m)\u001b[0m\u001b[0;34m\u001b[0m\u001b[0;34m\u001b[0m\u001b[0m\n",
      "\u001b[0;32m/home/valdecar/programs/sage-9.0/local/lib/python3.7/site-packages/sage/interfaces/interface.py\u001b[0m in \u001b[0;36mnew\u001b[0;34m(self, code)\u001b[0m\n\u001b[1;32m    368\u001b[0m \u001b[0;34m\u001b[0m\u001b[0m\n\u001b[1;32m    369\u001b[0m     \u001b[0;32mdef\u001b[0m \u001b[0mnew\u001b[0m\u001b[0;34m(\u001b[0m\u001b[0mself\u001b[0m\u001b[0;34m,\u001b[0m \u001b[0mcode\u001b[0m\u001b[0;34m)\u001b[0m\u001b[0;34m:\u001b[0m\u001b[0;34m\u001b[0m\u001b[0;34m\u001b[0m\u001b[0m\n\u001b[0;32m--> 370\u001b[0;31m         \u001b[0;32mreturn\u001b[0m \u001b[0mself\u001b[0m\u001b[0;34m(\u001b[0m\u001b[0mcode\u001b[0m\u001b[0;34m)\u001b[0m\u001b[0;34m\u001b[0m\u001b[0;34m\u001b[0m\u001b[0m\n\u001b[0m\u001b[1;32m    371\u001b[0m \u001b[0;34m\u001b[0m\u001b[0m\n\u001b[1;32m    372\u001b[0m     \u001b[0;31m###################################################################\u001b[0m\u001b[0;34m\u001b[0m\u001b[0;34m\u001b[0m\u001b[0;34m\u001b[0m\u001b[0m\n",
      "\u001b[0;32m/home/valdecar/programs/sage-9.0/local/lib/python3.7/site-packages/sage/interfaces/interface.py\u001b[0m in \u001b[0;36m__call__\u001b[0;34m(self, x, name)\u001b[0m\n\u001b[1;32m    294\u001b[0m \u001b[0;34m\u001b[0m\u001b[0m\n\u001b[1;32m    295\u001b[0m         \u001b[0;32mif\u001b[0m \u001b[0misinstance\u001b[0m\u001b[0;34m(\u001b[0m\u001b[0mx\u001b[0m\u001b[0;34m,\u001b[0m \u001b[0mstring_types\u001b[0m\u001b[0;34m)\u001b[0m\u001b[0;34m:\u001b[0m\u001b[0;34m\u001b[0m\u001b[0;34m\u001b[0m\u001b[0m\n\u001b[0;32m--> 296\u001b[0;31m             \u001b[0;32mreturn\u001b[0m \u001b[0mcls\u001b[0m\u001b[0;34m(\u001b[0m\u001b[0mself\u001b[0m\u001b[0;34m,\u001b[0m \u001b[0mx\u001b[0m\u001b[0;34m,\u001b[0m \u001b[0mname\u001b[0m\u001b[0;34m=\u001b[0m\u001b[0mname\u001b[0m\u001b[0;34m)\u001b[0m\u001b[0;34m\u001b[0m\u001b[0;34m\u001b[0m\u001b[0m\n\u001b[0m\u001b[1;32m    297\u001b[0m         \u001b[0;32mtry\u001b[0m\u001b[0;34m:\u001b[0m\u001b[0;34m\u001b[0m\u001b[0;34m\u001b[0m\u001b[0m\n\u001b[1;32m    298\u001b[0m             \u001b[0;31m# Special methods do not and should not have an option to\u001b[0m\u001b[0;34m\u001b[0m\u001b[0;34m\u001b[0m\u001b[0;34m\u001b[0m\u001b[0m\n",
      "\u001b[0;32m/home/valdecar/programs/sage-9.0/local/lib/python3.7/site-packages/sage/interfaces/expect.py\u001b[0m in \u001b[0;36m__init__\u001b[0;34m(self, parent, value, is_name, name)\u001b[0m\n\u001b[1;32m   1474\u001b[0m             \u001b[0;32mexcept\u001b[0m \u001b[0;34m(\u001b[0m\u001b[0mRuntimeError\u001b[0m\u001b[0;34m,\u001b[0m \u001b[0mValueError\u001b[0m\u001b[0;34m)\u001b[0m \u001b[0;32mas\u001b[0m \u001b[0mx\u001b[0m\u001b[0;34m:\u001b[0m\u001b[0;34m\u001b[0m\u001b[0;34m\u001b[0m\u001b[0m\n\u001b[1;32m   1475\u001b[0m                 \u001b[0mself\u001b[0m\u001b[0;34m.\u001b[0m\u001b[0m_session_number\u001b[0m \u001b[0;34m=\u001b[0m \u001b[0;34m-\u001b[0m\u001b[0;36m1\u001b[0m\u001b[0;34m\u001b[0m\u001b[0;34m\u001b[0m\u001b[0m\n\u001b[0;32m-> 1476\u001b[0;31m                 \u001b[0mraise_\u001b[0m\u001b[0;34m(\u001b[0m\u001b[0mTypeError\u001b[0m\u001b[0;34m,\u001b[0m \u001b[0mTypeError\u001b[0m\u001b[0;34m(\u001b[0m\u001b[0;34m*\u001b[0m\u001b[0mx\u001b[0m\u001b[0;34m.\u001b[0m\u001b[0margs\u001b[0m\u001b[0;34m)\u001b[0m\u001b[0;34m,\u001b[0m \u001b[0msys\u001b[0m\u001b[0;34m.\u001b[0m\u001b[0mexc_info\u001b[0m\u001b[0;34m(\u001b[0m\u001b[0;34m)\u001b[0m\u001b[0;34m[\u001b[0m\u001b[0;36m2\u001b[0m\u001b[0;34m]\u001b[0m\u001b[0;34m)\u001b[0m\u001b[0;34m\u001b[0m\u001b[0;34m\u001b[0m\u001b[0m\n\u001b[0m\u001b[1;32m   1477\u001b[0m             \u001b[0;32mexcept\u001b[0m \u001b[0mBaseException\u001b[0m\u001b[0;34m:\u001b[0m\u001b[0;34m\u001b[0m\u001b[0;34m\u001b[0m\u001b[0m\n\u001b[1;32m   1478\u001b[0m                 \u001b[0mself\u001b[0m\u001b[0;34m.\u001b[0m\u001b[0m_session_number\u001b[0m \u001b[0;34m=\u001b[0m \u001b[0;34m-\u001b[0m\u001b[0;36m1\u001b[0m\u001b[0;34m\u001b[0m\u001b[0;34m\u001b[0m\u001b[0m\n",
      "\u001b[0;32m/home/valdecar/programs/sage-9.0/local/lib/python3.7/site-packages/six.py\u001b[0m in \u001b[0;36mreraise\u001b[0;34m(tp, value, tb)\u001b[0m\n\u001b[1;32m    690\u001b[0m                 \u001b[0mvalue\u001b[0m \u001b[0;34m=\u001b[0m \u001b[0mtp\u001b[0m\u001b[0;34m(\u001b[0m\u001b[0;34m)\u001b[0m\u001b[0;34m\u001b[0m\u001b[0;34m\u001b[0m\u001b[0m\n\u001b[1;32m    691\u001b[0m             \u001b[0;32mif\u001b[0m \u001b[0mvalue\u001b[0m\u001b[0;34m.\u001b[0m\u001b[0m__traceback__\u001b[0m \u001b[0;32mis\u001b[0m \u001b[0;32mnot\u001b[0m \u001b[0mtb\u001b[0m\u001b[0;34m:\u001b[0m\u001b[0;34m\u001b[0m\u001b[0;34m\u001b[0m\u001b[0m\n\u001b[0;32m--> 692\u001b[0;31m                 \u001b[0;32mraise\u001b[0m \u001b[0mvalue\u001b[0m\u001b[0;34m.\u001b[0m\u001b[0mwith_traceback\u001b[0m\u001b[0;34m(\u001b[0m\u001b[0mtb\u001b[0m\u001b[0;34m)\u001b[0m\u001b[0;34m\u001b[0m\u001b[0;34m\u001b[0m\u001b[0m\n\u001b[0m\u001b[1;32m    693\u001b[0m             \u001b[0;32mraise\u001b[0m \u001b[0mvalue\u001b[0m\u001b[0;34m\u001b[0m\u001b[0;34m\u001b[0m\u001b[0m\n\u001b[1;32m    694\u001b[0m         \u001b[0;32mfinally\u001b[0m\u001b[0;34m:\u001b[0m\u001b[0;34m\u001b[0m\u001b[0;34m\u001b[0m\u001b[0m\n",
      "\u001b[0;32m/home/valdecar/programs/sage-9.0/local/lib/python3.7/site-packages/sage/interfaces/expect.py\u001b[0m in \u001b[0;36m__init__\u001b[0;34m(self, parent, value, is_name, name)\u001b[0m\n\u001b[1;32m   1469\u001b[0m         \u001b[0;32melse\u001b[0m\u001b[0;34m:\u001b[0m\u001b[0;34m\u001b[0m\u001b[0;34m\u001b[0m\u001b[0m\n\u001b[1;32m   1470\u001b[0m             \u001b[0;32mtry\u001b[0m\u001b[0;34m:\u001b[0m\u001b[0;34m\u001b[0m\u001b[0;34m\u001b[0m\u001b[0m\n\u001b[0;32m-> 1471\u001b[0;31m                 \u001b[0mself\u001b[0m\u001b[0;34m.\u001b[0m\u001b[0m_name\u001b[0m \u001b[0;34m=\u001b[0m \u001b[0mparent\u001b[0m\u001b[0;34m.\u001b[0m\u001b[0m_create\u001b[0m\u001b[0;34m(\u001b[0m\u001b[0mvalue\u001b[0m\u001b[0;34m,\u001b[0m \u001b[0mname\u001b[0m\u001b[0;34m=\u001b[0m\u001b[0mname\u001b[0m\u001b[0;34m)\u001b[0m\u001b[0;34m\u001b[0m\u001b[0;34m\u001b[0m\u001b[0m\n\u001b[0m\u001b[1;32m   1472\u001b[0m             \u001b[0;31m# Convert ValueError and RuntimeError to TypeError for\u001b[0m\u001b[0;34m\u001b[0m\u001b[0;34m\u001b[0m\u001b[0;34m\u001b[0m\u001b[0m\n\u001b[1;32m   1473\u001b[0m             \u001b[0;31m# coercion to work properly.\u001b[0m\u001b[0;34m\u001b[0m\u001b[0;34m\u001b[0m\u001b[0;34m\u001b[0m\u001b[0m\n",
      "\u001b[0;32m/home/valdecar/programs/sage-9.0/local/lib/python3.7/site-packages/sage/interfaces/interface.py\u001b[0m in \u001b[0;36m_create\u001b[0;34m(self, value, name)\u001b[0m\n\u001b[1;32m    499\u001b[0m     \u001b[0;32mdef\u001b[0m \u001b[0m_create\u001b[0m\u001b[0;34m(\u001b[0m\u001b[0mself\u001b[0m\u001b[0;34m,\u001b[0m \u001b[0mvalue\u001b[0m\u001b[0;34m,\u001b[0m \u001b[0mname\u001b[0m\u001b[0;34m=\u001b[0m\u001b[0;32mNone\u001b[0m\u001b[0;34m)\u001b[0m\u001b[0;34m:\u001b[0m\u001b[0;34m\u001b[0m\u001b[0;34m\u001b[0m\u001b[0m\n\u001b[1;32m    500\u001b[0m         \u001b[0mname\u001b[0m \u001b[0;34m=\u001b[0m \u001b[0mself\u001b[0m\u001b[0;34m.\u001b[0m\u001b[0m_next_var_name\u001b[0m\u001b[0;34m(\u001b[0m\u001b[0;34m)\u001b[0m \u001b[0;32mif\u001b[0m \u001b[0mname\u001b[0m \u001b[0;32mis\u001b[0m \u001b[0;32mNone\u001b[0m \u001b[0;32melse\u001b[0m \u001b[0mname\u001b[0m\u001b[0;34m\u001b[0m\u001b[0;34m\u001b[0m\u001b[0m\n\u001b[0;32m--> 501\u001b[0;31m         \u001b[0mself\u001b[0m\u001b[0;34m.\u001b[0m\u001b[0mset\u001b[0m\u001b[0;34m(\u001b[0m\u001b[0mname\u001b[0m\u001b[0;34m,\u001b[0m \u001b[0mvalue\u001b[0m\u001b[0;34m)\u001b[0m\u001b[0;34m\u001b[0m\u001b[0;34m\u001b[0m\u001b[0m\n\u001b[0m\u001b[1;32m    502\u001b[0m         \u001b[0;32mreturn\u001b[0m \u001b[0mname\u001b[0m\u001b[0;34m\u001b[0m\u001b[0;34m\u001b[0m\u001b[0m\n\u001b[1;32m    503\u001b[0m \u001b[0;34m\u001b[0m\u001b[0m\n",
      "\u001b[0;32m/home/valdecar/programs/sage-9.0/local/lib/python3.7/site-packages/sage/interfaces/gap.py\u001b[0m in \u001b[0;36mset\u001b[0;34m(self, var, value)\u001b[0m\n\u001b[1;32m   1425\u001b[0m         \"\"\"\n\u001b[1;32m   1426\u001b[0m         \u001b[0mcmd\u001b[0m \u001b[0;34m=\u001b[0m \u001b[0;34m(\u001b[0m\u001b[0;34m'%s:=%s;;'\u001b[0m \u001b[0;34m%\u001b[0m \u001b[0;34m(\u001b[0m\u001b[0mvar\u001b[0m\u001b[0;34m,\u001b[0m \u001b[0mvalue\u001b[0m\u001b[0;34m)\u001b[0m\u001b[0;34m)\u001b[0m\u001b[0;34m.\u001b[0m\u001b[0mreplace\u001b[0m\u001b[0;34m(\u001b[0m\u001b[0;34m'\\n'\u001b[0m\u001b[0;34m,\u001b[0m\u001b[0;34m''\u001b[0m\u001b[0;34m)\u001b[0m\u001b[0;34m\u001b[0m\u001b[0;34m\u001b[0m\u001b[0m\n\u001b[0;32m-> 1427\u001b[0;31m         \u001b[0mself\u001b[0m\u001b[0;34m.\u001b[0m\u001b[0m_eval_line\u001b[0m\u001b[0;34m(\u001b[0m\u001b[0mcmd\u001b[0m\u001b[0;34m,\u001b[0m \u001b[0mallow_use_file\u001b[0m\u001b[0;34m=\u001b[0m\u001b[0;32mTrue\u001b[0m\u001b[0;34m)\u001b[0m\u001b[0;34m\u001b[0m\u001b[0;34m\u001b[0m\u001b[0m\n\u001b[0m\u001b[1;32m   1428\u001b[0m \u001b[0;34m\u001b[0m\u001b[0m\n\u001b[1;32m   1429\u001b[0m     \u001b[0;32mdef\u001b[0m \u001b[0mget\u001b[0m\u001b[0;34m(\u001b[0m\u001b[0mself\u001b[0m\u001b[0;34m,\u001b[0m \u001b[0mvar\u001b[0m\u001b[0;34m,\u001b[0m \u001b[0muse_file\u001b[0m\u001b[0;34m=\u001b[0m\u001b[0;32mFalse\u001b[0m\u001b[0;34m)\u001b[0m\u001b[0;34m:\u001b[0m\u001b[0;34m\u001b[0m\u001b[0;34m\u001b[0m\u001b[0m\n",
      "\u001b[0;32m/home/valdecar/programs/sage-9.0/local/lib/python3.7/site-packages/sage/interfaces/gap.py\u001b[0m in \u001b[0;36m_eval_line\u001b[0;34m(self, line, allow_use_file, wait_for_prompt, restart_if_needed)\u001b[0m\n\u001b[1;32m    800\u001b[0m                     \u001b[0;32mreturn\u001b[0m \u001b[0;34m''\u001b[0m\u001b[0;34m\u001b[0m\u001b[0;34m\u001b[0m\u001b[0m\n\u001b[1;32m    801\u001b[0m             \u001b[0;32melse\u001b[0m\u001b[0;34m:\u001b[0m\u001b[0;34m\u001b[0m\u001b[0;34m\u001b[0m\u001b[0m\n\u001b[0;32m--> 802\u001b[0;31m                 \u001b[0;32mraise\u001b[0m \u001b[0mRuntimeError\u001b[0m\u001b[0;34m(\u001b[0m\u001b[0mexc\u001b[0m\u001b[0;34m)\u001b[0m\u001b[0;34m\u001b[0m\u001b[0;34m\u001b[0m\u001b[0m\n\u001b[0m\u001b[1;32m    803\u001b[0m \u001b[0;34m\u001b[0m\u001b[0m\n\u001b[1;32m    804\u001b[0m         \u001b[0;32mexcept\u001b[0m \u001b[0mKeyboardInterrupt\u001b[0m\u001b[0;34m:\u001b[0m\u001b[0;34m\u001b[0m\u001b[0;34m\u001b[0m\u001b[0m\n",
      "\u001b[0;31mTypeError\u001b[0m: Gap produced error output\nError, no method found! For debugging hints type ?Recovery from NoMethodFound\nError, no 1st choice method found for `[]' on 2 arguments\n\n   executing \\$sage25:=\\$sage26[0];;"
     ]
    }
   ],
   "source": [
    "cls, reps = show_reps(20)\n",
    "\n",
    "cls = [c for c in cls]\n",
    "# reps = [latex(matrix(rep)) for rep in reps]\n",
    "for i, c in enumerate(cls):\n",
    "    # show(c, \"->\",latex(matrix(reps[i])))\n",
    "    show(c, \"->\", reps[i])"
   ]
  },
  {
   "cell_type": "code",
   "execution_count": 89,
   "metadata": {},
   "outputs": [
    {
     "data": {
      "text/plain": [
       "'[ [ [ 1, 0 ], [ 0, 1 ] ], [ [ -1, 0 ], [ 0, 1 ] ], [ [ 1, 0 ], [ 0, 1 ] ], \\n  [ [ -1, 0 ], [ 0, -1 ] ], [ [ 1, 0 ], [ 0, -1 ] ], [ [ 1, 0 ], [ 0, 1 ] ], \\n  [ [ 0, -1 ], [ -1, 0 ] ], [ [ 0, 1 ], [ -1, 0 ] ], [ [ 0, -1 ], [ -1, 0 ] ] \\n ]'"
      ]
     },
     "execution_count": 89,
     "metadata": {},
     "output_type": "execute_result"
    }
   ],
   "source": [
    "gap.get(\"reps\")"
   ]
  },
  {
   "cell_type": "markdown",
   "metadata": {},
   "source": []
  },
  {
   "cell_type": "markdown",
   "metadata": {},
   "source": [
    "### Define some matrix representations of groups $C_{3}$ and $T$"
   ]
  },
  {
   "cell_type": "markdown",
   "metadata": {},
   "source": [
    "to get matrixes `mats_c3_reg` following `GAP` code used:\n",
    "```\n",
    "gap> c3:=Group((1,2),(1,3),(2,3),(1,2,3));\n",
    "# beter use all element as generators, so RegularModule would return\n",
    "# representation for all elements\n",
    "gap> c3:=Group([ (), (1,3), (1,2,3), (2,3), (1,3,2), (1,2) ])\n",
    "gap> r:=RegularModule(c3,GF(7));\n",
    "gap> List([1..6],i->List((r[2].(\"generators\")[i]),e->List(e,ee->IntFFE(ee))));\n",
    "```"
   ]
  },
  {
   "cell_type": "code",
   "execution_count": 3,
   "metadata": {},
   "outputs": [],
   "source": [
    "gs_c3 = [ \"()\", \"(1,3)\", \"(1,2,3)\", \"(2,3)\", \"(1,3,2)\", \"(1,2)\" ]\n",
    "\n",
    "mats_c3_reg = [ [ [ 1, 0, 0, 0, 0, 0 ], [ 0, 1, 0, 0, 0, 0 ], [ 0, 0, 1, 0, 0, 0 ], \n",
    "      [ 0, 0, 0, 1, 0, 0 ], [ 0, 0, 0, 0, 1, 0 ], [ 0, 0, 0, 0, 0, 1 ] ]\n",
    "    , \n",
    "  [ [ 0, 0, 0, 0, 0, 1 ], [ 0, 0, 0, 0, 1, 0 ], [ 0, 0, 0, 1, 0, 0 ], \n",
    "      [ 0, 0, 1, 0, 0, 0 ], [ 0, 1, 0, 0, 0, 0 ], [ 1, 0, 0, 0, 0, 0 ] ]\n",
    "    , \n",
    "  [ [ 0, 0, 0, 1, 0, 0 ], [ 0, 0, 1, 0, 0, 0 ], [ 0, 0, 0, 0, 0, 1 ], \n",
    "      [ 0, 0, 0, 0, 1, 0 ], [ 1, 0, 0, 0, 0, 0 ], [ 0, 1, 0, 0, 0, 0 ] ]\n",
    "    , \n",
    "  [ [ 0, 1, 0, 0, 0, 0 ], [ 1, 0, 0, 0, 0, 0 ], [ 0, 0, 0, 0, 1, 0 ], \n",
    "      [ 0, 0, 0, 0, 0, 1 ], [ 0, 0, 1, 0, 0, 0 ], [ 0, 0, 0, 1, 0, 0 ] ]\n",
    "    , \n",
    "  [ [ 0, 0, 0, 0, 1, 0 ], [ 0, 0, 0, 0, 0, 1 ], [ 0, 1, 0, 0, 0, 0 ], \n",
    "      [ 1, 0, 0, 0, 0, 0 ], [ 0, 0, 0, 1, 0, 0 ], [ 0, 0, 1, 0, 0, 0 ] ]\n",
    "    , \n",
    "  [ [ 0, 0, 1, 0, 0, 0 ], [ 0, 0, 0, 1, 0, 0 ], [ 1, 0, 0, 0, 0, 0 ], \n",
    "      [ 0, 1, 0, 0, 0, 0 ], [ 0, 0, 0, 0, 0, 1 ], [ 0, 0, 0, 0, 1, 0 ] \n",
    "     ] ]\n"
   ]
  },
  {
   "cell_type": "code",
   "execution_count": 4,
   "metadata": {},
   "outputs": [
    {
     "name": "stdout",
     "output_type": "stream",
     "text": [
      "(0, 0, 0, -1, 0, 0)\n",
      "(1, 0, 0, 0, 0, -1)\n"
     ]
    }
   ],
   "source": [
    "a = matrix(mats_c3_reg[1]).eigenmatrix_left()\n",
    "# a=matrix(mats_tetra_FxF[5]).eigenspaces_left()\n",
    "\n",
    "l = a[0][3]\n",
    "print(l)\n",
    "e = a[1][3]\n",
    "print(e)"
   ]
  },
  {
   "cell_type": "markdown",
   "metadata": {},
   "source": [
    "Define some functions for better viewing"
   ]
  },
  {
   "cell_type": "code",
   "execution_count": 1,
   "metadata": {},
   "outputs": [],
   "source": [
    "# from functools import reduce\n",
    "\n",
    "def replacer(s):\n",
    "    # replace (0, 1, -0.50000000000000000? + 0.866025403784439?*I, 0, 0, -0.50000000000000000? - 0.866025403784439?*I)\n",
    "    # to (0, 1, \\varepsilon, 0, 0, \\varepsilon^{2})\n",
    "    s=s.replace(\"-0.50000000000000000? + 0.866025403784439?*I\", r\"\\varepsilon\")\n",
    "    s=s.replace(\"-0.50000000000000000? - 0.866025403784439?*I\", r\"\\varepsilon^{2}\")\n",
    "    s=s.replace(\"0.50000000000000000? - 0.866025403784439?*I\", r\"-\\varepsilon\")\n",
    "    s=s.replace(\"0.50000000000000000? + 0.866025403784439?*I\", r\"-\\varepsilon^{2}\")\n",
    "\n",
    "    return(s)\n",
    "\n",
    "def to_lin_comb(sv):\n",
    "    '''transfer vector to lin combinations of funcs'''\n",
    "    def rep(acc, ix):\n",
    "        idx, elm = ix\n",
    "        elm = str(elm)\n",
    "        prefix = \"\" if idx==0 else \"+\"\n",
    "        if elm==\"0\":\n",
    "            s = acc\n",
    "        elif elm==\"1\":\n",
    "            s = acc+prefix+r\"\\psi_{%d}\"%(idx)\n",
    "        elif elm==\"-1\":\n",
    "            s = acc+\"-\"+r\"\\psi_{%d}\"%(idx)\n",
    "            \n",
    "        else:\n",
    "            s = acc+prefix+r\"%s \\psi_{%d}\"%(elm, idx)\n",
    "        return(s)\n",
    "    result = reduce(rep, enumerate(sv),\"\")\n",
    "    if result[0]==\"+\":\n",
    "        result = result[1:]\n",
    "    return(result)\n",
    "\n",
    "def get_basis_func(mat, row_idx):\n",
    "    '''get lin_comb of `row_idx` of `mat`'''\n",
    "    a = matrix(mat).eigenmatrix_left()\n",
    "    l1 = a[0][row_idx]\n",
    "    # print(l1)\n",
    "    # print(replacer(str(l1)))\n",
    "    print(\"eigenvalue:\")\n",
    "    show(LatexExpr(replacer(str(l1))))\n",
    "    m1=a[1][row_idx]\n",
    "    # print(replacer(str(m1)))\n",
    "    print(\"basis func:\")\n",
    "    show(LatexExpr(replacer(str(to_lin_comb(m1)))))\n",
    "    print(\"##########\")"
   ]
  },
  {
   "cell_type": "code",
   "execution_count": 117,
   "metadata": {},
   "outputs": [],
   "source": [
    "m.eigenmatrix_left?"
   ]
  },
  {
   "cell_type": "code",
   "execution_count": 8,
   "metadata": {
    "collapsed": true
   },
   "outputs": [
    {
     "name": "stdout",
     "output_type": "stream",
     "text": [
      "for element  (1,3,2)\n",
      "eigenvalue:\n"
     ]
    },
    {
     "data": {
      "text/html": [
       "<html><script type=\"math/tex; mode=display\">\\newcommand{\\Bold}[1]{\\mathbf{#1}}(1, 0, 0, 0, 0, 0)</script></html>"
      ],
      "text/plain": [
       "(1, 0, 0, 0, 0, 0)"
      ]
     },
     "metadata": {},
     "output_type": "display_data"
    },
    {
     "name": "stdout",
     "output_type": "stream",
     "text": [
      "basis func:\n"
     ]
    },
    {
     "data": {
      "text/html": [
       "<html><script type=\"math/tex; mode=display\">\\newcommand{\\Bold}[1]{\\mathbf{#1}}\\psi_{0}+\\psi_{3}+\\psi_{4}</script></html>"
      ],
      "text/plain": [
       "\\psi_{0}+\\psi_{3}+\\psi_{4}"
      ]
     },
     "metadata": {},
     "output_type": "display_data"
    },
    {
     "name": "stdout",
     "output_type": "stream",
     "text": [
      "##########\n",
      "for element  (1,3,2)\n",
      "eigenvalue:\n"
     ]
    },
    {
     "data": {
      "text/html": [
       "<html><script type=\"math/tex; mode=display\">\\newcommand{\\Bold}[1]{\\mathbf{#1}}(0, 1, 0, 0, 0, 0)</script></html>"
      ],
      "text/plain": [
       "(0, 1, 0, 0, 0, 0)"
      ]
     },
     "metadata": {},
     "output_type": "display_data"
    },
    {
     "name": "stdout",
     "output_type": "stream",
     "text": [
      "basis func:\n"
     ]
    },
    {
     "data": {
      "text/html": [
       "<html><script type=\"math/tex; mode=display\">\\newcommand{\\Bold}[1]{\\mathbf{#1}}\\psi_{1}+\\psi_{2}+\\psi_{5}</script></html>"
      ],
      "text/plain": [
       "\\psi_{1}+\\psi_{2}+\\psi_{5}"
      ]
     },
     "metadata": {},
     "output_type": "display_data"
    },
    {
     "name": "stdout",
     "output_type": "stream",
     "text": [
      "##########\n",
      "for element  (1,3,2)\n",
      "eigenvalue:\n"
     ]
    },
    {
     "data": {
      "text/html": [
       "<html><script type=\"math/tex; mode=display\">\\newcommand{\\Bold}[1]{\\mathbf{#1}}(0, 0, \\varepsilon^{2}, 0, 0, 0)</script></html>"
      ],
      "text/plain": [
       "(0, 0, \\varepsilon^{2}, 0, 0, 0)"
      ]
     },
     "metadata": {},
     "output_type": "display_data"
    },
    {
     "name": "stdout",
     "output_type": "stream",
     "text": [
      "basis func:\n"
     ]
    },
    {
     "data": {
      "text/html": [
       "<html><script type=\"math/tex; mode=display\">\\newcommand{\\Bold}[1]{\\mathbf{#1}}\\psi_{0}+\\varepsilon^{2} \\psi_{3}+\\varepsilon \\psi_{4}</script></html>"
      ],
      "text/plain": [
       "\\psi_{0}+\\varepsilon^{2} \\psi_{3}+\\varepsilon \\psi_{4}"
      ]
     },
     "metadata": {},
     "output_type": "display_data"
    },
    {
     "name": "stdout",
     "output_type": "stream",
     "text": [
      "##########\n",
      "for element  (1,3,2)\n",
      "eigenvalue:\n"
     ]
    },
    {
     "data": {
      "text/html": [
       "<html><script type=\"math/tex; mode=display\">\\newcommand{\\Bold}[1]{\\mathbf{#1}}(0, 0, 0, \\varepsilon^{2}, 0, 0)</script></html>"
      ],
      "text/plain": [
       "(0, 0, 0, \\varepsilon^{2}, 0, 0)"
      ]
     },
     "metadata": {},
     "output_type": "display_data"
    },
    {
     "name": "stdout",
     "output_type": "stream",
     "text": [
      "basis func:\n"
     ]
    },
    {
     "data": {
      "text/html": [
       "<html><script type=\"math/tex; mode=display\">\\newcommand{\\Bold}[1]{\\mathbf{#1}}\\psi_{1}+\\varepsilon^{2} \\psi_{2}+\\varepsilon \\psi_{5}</script></html>"
      ],
      "text/plain": [
       "\\psi_{1}+\\varepsilon^{2} \\psi_{2}+\\varepsilon \\psi_{5}"
      ]
     },
     "metadata": {},
     "output_type": "display_data"
    },
    {
     "name": "stdout",
     "output_type": "stream",
     "text": [
      "##########\n",
      "for element  (1,3,2)\n",
      "eigenvalue:\n"
     ]
    },
    {
     "data": {
      "text/html": [
       "<html><script type=\"math/tex; mode=display\">\\newcommand{\\Bold}[1]{\\mathbf{#1}}(0, 0, 0, 0, \\varepsilon, 0)</script></html>"
      ],
      "text/plain": [
       "(0, 0, 0, 0, \\varepsilon, 0)"
      ]
     },
     "metadata": {},
     "output_type": "display_data"
    },
    {
     "name": "stdout",
     "output_type": "stream",
     "text": [
      "basis func:\n"
     ]
    },
    {
     "data": {
      "text/html": [
       "<html><script type=\"math/tex; mode=display\">\\newcommand{\\Bold}[1]{\\mathbf{#1}}\\psi_{0}+\\varepsilon \\psi_{3}+\\varepsilon^{2} \\psi_{4}</script></html>"
      ],
      "text/plain": [
       "\\psi_{0}+\\varepsilon \\psi_{3}+\\varepsilon^{2} \\psi_{4}"
      ]
     },
     "metadata": {},
     "output_type": "display_data"
    },
    {
     "name": "stdout",
     "output_type": "stream",
     "text": [
      "##########\n",
      "for element  (1,3,2)\n",
      "eigenvalue:\n"
     ]
    },
    {
     "data": {
      "text/html": [
       "<html><script type=\"math/tex; mode=display\">\\newcommand{\\Bold}[1]{\\mathbf{#1}}(0, 0, 0, 0, 0, \\varepsilon)</script></html>"
      ],
      "text/plain": [
       "(0, 0, 0, 0, 0, \\varepsilon)"
      ]
     },
     "metadata": {},
     "output_type": "display_data"
    },
    {
     "name": "stdout",
     "output_type": "stream",
     "text": [
      "basis func:\n"
     ]
    },
    {
     "data": {
      "text/html": [
       "<html><script type=\"math/tex; mode=display\">\\newcommand{\\Bold}[1]{\\mathbf{#1}}\\psi_{1}+\\varepsilon \\psi_{2}+\\varepsilon^{2} \\psi_{5}</script></html>"
      ],
      "text/plain": [
       "\\psi_{1}+\\varepsilon \\psi_{2}+\\varepsilon^{2} \\psi_{5}"
      ]
     },
     "metadata": {},
     "output_type": "display_data"
    },
    {
     "name": "stdout",
     "output_type": "stream",
     "text": [
      "##########\n"
     ]
    }
   ],
   "source": [
    "g_idx = 4\n",
    "for i in range(6):\n",
    "    print(\"for element \",gs_c3[g_idx])\n",
    "    get_basis_func(mats_c3_reg[g_idx], i)"
   ]
  },
  {
   "cell_type": "markdown",
   "metadata": {},
   "source": [
    "to get matrixes `mats_tetra_reg` following `GAP` code used:\n",
    "```\n",
    "gap> tetra:=Group([(), (1,2)(3,4), (1,3)(2,4), (1,4)(2,3), (2,4,3), (1,2,3), (1,3,4), (1,4,2), (2,3,4), (1,2,4), (1,3,2), (1,4,3)] );;\n",
    "gap> r:=RegularModule(tetra,GF(13));\n",
    "gap> List([1..12],i->List((r[2].(\"generators\")[i]),e->List(e,ee->IntFFE(ee))));\n",
    "```"
   ]
  },
  {
   "cell_type": "code",
   "execution_count": 8,
   "metadata": {},
   "outputs": [],
   "source": [
    "gs_tetra_reg=[ '()', '(1,2)(3,4)', '(1,3)(2,4)', '(1,4)(2,3)', '(2,4,3)', '(1,2,3)', '(1,3,4)', \n",
    "  '(1,4,2)', '(2,3,4)', '(1,2,4)', '(1,3,2)', '(1,4,3)' ]\n",
    "\n",
    "mats_tetra_reg=[ [ [ 1, 0, 0, 0, 0, 0, 0, 0, 0, 0, 0, 0 ], \n",
    "      [ 0, 1, 0, 0, 0, 0, 0, 0, 0, 0, 0, 0 ], \n",
    "      [ 0, 0, 1, 0, 0, 0, 0, 0, 0, 0, 0, 0 ], \n",
    "      [ 0, 0, 0, 1, 0, 0, 0, 0, 0, 0, 0, 0 ], \n",
    "      [ 0, 0, 0, 0, 1, 0, 0, 0, 0, 0, 0, 0 ], \n",
    "      [ 0, 0, 0, 0, 0, 1, 0, 0, 0, 0, 0, 0 ], \n",
    "      [ 0, 0, 0, 0, 0, 0, 1, 0, 0, 0, 0, 0 ], \n",
    "      [ 0, 0, 0, 0, 0, 0, 0, 1, 0, 0, 0, 0 ], \n",
    "      [ 0, 0, 0, 0, 0, 0, 0, 0, 1, 0, 0, 0 ], \n",
    "      [ 0, 0, 0, 0, 0, 0, 0, 0, 0, 1, 0, 0 ], \n",
    "      [ 0, 0, 0, 0, 0, 0, 0, 0, 0, 0, 1, 0 ], \n",
    "      [ 0, 0, 0, 0, 0, 0, 0, 0, 0, 0, 0, 1 ] ], \n",
    "  [ [ 0, 0, 0, 1, 0, 0, 0, 0, 0, 0, 0, 0 ], \n",
    "      [ 0, 0, 0, 0, 0, 1, 0, 0, 0, 0, 0, 0 ], \n",
    "      [ 0, 0, 0, 0, 1, 0, 0, 0, 0, 0, 0, 0 ], \n",
    "      [ 1, 0, 0, 0, 0, 0, 0, 0, 0, 0, 0, 0 ], \n",
    "      [ 0, 0, 1, 0, 0, 0, 0, 0, 0, 0, 0, 0 ], \n",
    "      [ 0, 1, 0, 0, 0, 0, 0, 0, 0, 0, 0, 0 ], \n",
    "      [ 0, 0, 0, 0, 0, 0, 0, 0, 0, 0, 1, 0 ], \n",
    "      [ 0, 0, 0, 0, 0, 0, 0, 0, 0, 1, 0, 0 ], \n",
    "      [ 0, 0, 0, 0, 0, 0, 0, 0, 0, 0, 0, 1 ], \n",
    "      [ 0, 0, 0, 0, 0, 0, 0, 1, 0, 0, 0, 0 ], \n",
    "      [ 0, 0, 0, 0, 0, 0, 1, 0, 0, 0, 0, 0 ], \n",
    "      [ 0, 0, 0, 0, 0, 0, 0, 0, 1, 0, 0, 0 ] ], \n",
    "  [ [ 0, 0, 0, 0, 0, 0, 0, 0, 1, 0, 0, 0 ], \n",
    "      [ 0, 0, 0, 0, 0, 0, 1, 0, 0, 0, 0, 0 ], \n",
    "      [ 0, 0, 0, 0, 0, 0, 0, 1, 0, 0, 0, 0 ], \n",
    "      [ 0, 0, 0, 0, 0, 0, 0, 0, 0, 0, 0, 1 ], \n",
    "      [ 0, 0, 0, 0, 0, 0, 0, 0, 0, 1, 0, 0 ], \n",
    "      [ 0, 0, 0, 0, 0, 0, 0, 0, 0, 0, 1, 0 ], \n",
    "      [ 0, 1, 0, 0, 0, 0, 0, 0, 0, 0, 0, 0 ], \n",
    "      [ 0, 0, 1, 0, 0, 0, 0, 0, 0, 0, 0, 0 ], \n",
    "      [ 1, 0, 0, 0, 0, 0, 0, 0, 0, 0, 0, 0 ], \n",
    "      [ 0, 0, 0, 0, 1, 0, 0, 0, 0, 0, 0, 0 ], \n",
    "      [ 0, 0, 0, 0, 0, 1, 0, 0, 0, 0, 0, 0 ], \n",
    "      [ 0, 0, 0, 1, 0, 0, 0, 0, 0, 0, 0, 0 ] ], \n",
    "  [ [ 0, 0, 0, 0, 0, 0, 0, 0, 0, 0, 0, 1 ], \n",
    "      [ 0, 0, 0, 0, 0, 0, 0, 0, 0, 0, 1, 0 ], \n",
    "      [ 0, 0, 0, 0, 0, 0, 0, 0, 0, 1, 0, 0 ], \n",
    "      [ 0, 0, 0, 0, 0, 0, 0, 0, 1, 0, 0, 0 ], \n",
    "      [ 0, 0, 0, 0, 0, 0, 0, 1, 0, 0, 0, 0 ], \n",
    "      [ 0, 0, 0, 0, 0, 0, 1, 0, 0, 0, 0, 0 ], \n",
    "      [ 0, 0, 0, 0, 0, 1, 0, 0, 0, 0, 0, 0 ], \n",
    "      [ 0, 0, 0, 0, 1, 0, 0, 0, 0, 0, 0, 0 ], \n",
    "      [ 0, 0, 0, 1, 0, 0, 0, 0, 0, 0, 0, 0 ], \n",
    "      [ 0, 0, 1, 0, 0, 0, 0, 0, 0, 0, 0, 0 ], \n",
    "      [ 0, 1, 0, 0, 0, 0, 0, 0, 0, 0, 0, 0 ], \n",
    "      [ 1, 0, 0, 0, 0, 0, 0, 0, 0, 0, 0, 0 ] ], \n",
    "  [ [ 0, 0, 1, 0, 0, 0, 0, 0, 0, 0, 0, 0 ], \n",
    "      [ 1, 0, 0, 0, 0, 0, 0, 0, 0, 0, 0, 0 ], \n",
    "      [ 0, 1, 0, 0, 0, 0, 0, 0, 0, 0, 0, 0 ], \n",
    "      [ 0, 0, 0, 0, 0, 0, 0, 0, 0, 1, 0, 0 ], \n",
    "      [ 0, 0, 0, 0, 0, 0, 0, 0, 0, 0, 1, 0 ], \n",
    "      [ 0, 0, 0, 0, 0, 0, 0, 0, 0, 0, 0, 1 ], \n",
    "      [ 0, 0, 0, 1, 0, 0, 0, 0, 0, 0, 0, 0 ], \n",
    "      [ 0, 0, 0, 0, 0, 1, 0, 0, 0, 0, 0, 0 ], \n",
    "      [ 0, 0, 0, 0, 1, 0, 0, 0, 0, 0, 0, 0 ], \n",
    "      [ 0, 0, 0, 0, 0, 0, 1, 0, 0, 0, 0, 0 ], \n",
    "      [ 0, 0, 0, 0, 0, 0, 0, 0, 1, 0, 0, 0 ], \n",
    "      [ 0, 0, 0, 0, 0, 0, 0, 1, 0, 0, 0, 0 ] ], \n",
    "  [ [ 0, 0, 0, 0, 1, 0, 0, 0, 0, 0, 0, 0 ], \n",
    "      [ 0, 0, 0, 1, 0, 0, 0, 0, 0, 0, 0, 0 ], \n",
    "      [ 0, 0, 0, 0, 0, 1, 0, 0, 0, 0, 0, 0 ], \n",
    "      [ 0, 0, 0, 0, 0, 0, 0, 1, 0, 0, 0, 0 ], \n",
    "      [ 0, 0, 0, 0, 0, 0, 1, 0, 0, 0, 0, 0 ], \n",
    "      [ 0, 0, 0, 0, 0, 0, 0, 0, 1, 0, 0, 0 ], \n",
    "      [ 1, 0, 0, 0, 0, 0, 0, 0, 0, 0, 0, 0 ], \n",
    "      [ 0, 1, 0, 0, 0, 0, 0, 0, 0, 0, 0, 0 ], \n",
    "      [ 0, 0, 1, 0, 0, 0, 0, 0, 0, 0, 0, 0 ], \n",
    "      [ 0, 0, 0, 0, 0, 0, 0, 0, 0, 0, 1, 0 ], \n",
    "      [ 0, 0, 0, 0, 0, 0, 0, 0, 0, 0, 0, 1 ], \n",
    "      [ 0, 0, 0, 0, 0, 0, 0, 0, 0, 1, 0, 0 ] ], \n",
    "  [ [ 0, 0, 0, 0, 0, 0, 0, 1, 0, 0, 0, 0 ], \n",
    "      [ 0, 0, 0, 0, 0, 0, 0, 0, 1, 0, 0, 0 ], \n",
    "      [ 0, 0, 0, 0, 0, 0, 1, 0, 0, 0, 0, 0 ], \n",
    "      [ 0, 0, 0, 0, 1, 0, 0, 0, 0, 0, 0, 0 ], \n",
    "      [ 0, 0, 0, 0, 0, 1, 0, 0, 0, 0, 0, 0 ], \n",
    "      [ 0, 0, 0, 1, 0, 0, 0, 0, 0, 0, 0, 0 ], \n",
    "      [ 0, 0, 0, 0, 0, 0, 0, 0, 0, 0, 0, 1 ], \n",
    "      [ 0, 0, 0, 0, 0, 0, 0, 0, 0, 0, 1, 0 ], \n",
    "      [ 0, 0, 0, 0, 0, 0, 0, 0, 0, 1, 0, 0 ], \n",
    "      [ 0, 1, 0, 0, 0, 0, 0, 0, 0, 0, 0, 0 ], \n",
    "      [ 1, 0, 0, 0, 0, 0, 0, 0, 0, 0, 0, 0 ], \n",
    "      [ 0, 0, 1, 0, 0, 0, 0, 0, 0, 0, 0, 0 ] ], \n",
    "  [ [ 0, 0, 0, 0, 0, 0, 0, 0, 0, 1, 0, 0 ], \n",
    "      [ 0, 0, 0, 0, 0, 0, 0, 0, 0, 0, 0, 1 ], \n",
    "      [ 0, 0, 0, 0, 0, 0, 0, 0, 0, 0, 1, 0 ], \n",
    "      [ 0, 0, 1, 0, 0, 0, 0, 0, 0, 0, 0, 0 ], \n",
    "      [ 0, 1, 0, 0, 0, 0, 0, 0, 0, 0, 0, 0 ], \n",
    "      [ 1, 0, 0, 0, 0, 0, 0, 0, 0, 0, 0, 0 ], \n",
    "      [ 0, 0, 0, 0, 0, 0, 0, 0, 1, 0, 0, 0 ], \n",
    "      [ 0, 0, 0, 0, 0, 0, 1, 0, 0, 0, 0, 0 ], \n",
    "      [ 0, 0, 0, 0, 0, 0, 0, 1, 0, 0, 0, 0 ], \n",
    "      [ 0, 0, 0, 0, 0, 1, 0, 0, 0, 0, 0, 0 ], \n",
    "      [ 0, 0, 0, 1, 0, 0, 0, 0, 0, 0, 0, 0 ], \n",
    "      [ 0, 0, 0, 0, 1, 0, 0, 0, 0, 0, 0, 0 ] ], \n",
    "  [ [ 0, 1, 0, 0, 0, 0, 0, 0, 0, 0, 0, 0 ], \n",
    "      [ 0, 0, 1, 0, 0, 0, 0, 0, 0, 0, 0, 0 ], \n",
    "      [ 1, 0, 0, 0, 0, 0, 0, 0, 0, 0, 0, 0 ], \n",
    "      [ 0, 0, 0, 0, 0, 0, 1, 0, 0, 0, 0, 0 ], \n",
    "      [ 0, 0, 0, 0, 0, 0, 0, 0, 1, 0, 0, 0 ], \n",
    "      [ 0, 0, 0, 0, 0, 0, 0, 1, 0, 0, 0, 0 ], \n",
    "      [ 0, 0, 0, 0, 0, 0, 0, 0, 0, 1, 0, 0 ], \n",
    "      [ 0, 0, 0, 0, 0, 0, 0, 0, 0, 0, 0, 1 ], \n",
    "      [ 0, 0, 0, 0, 0, 0, 0, 0, 0, 0, 1, 0 ], \n",
    "      [ 0, 0, 0, 1, 0, 0, 0, 0, 0, 0, 0, 0 ], \n",
    "      [ 0, 0, 0, 0, 1, 0, 0, 0, 0, 0, 0, 0 ], \n",
    "      [ 0, 0, 0, 0, 0, 1, 0, 0, 0, 0, 0, 0 ] ], \n",
    "  [ [ 0, 0, 0, 0, 0, 1, 0, 0, 0, 0, 0, 0 ], \n",
    "      [ 0, 0, 0, 0, 1, 0, 0, 0, 0, 0, 0, 0 ], \n",
    "      [ 0, 0, 0, 1, 0, 0, 0, 0, 0, 0, 0, 0 ], \n",
    "      [ 0, 0, 0, 0, 0, 0, 0, 0, 0, 0, 1, 0 ], \n",
    "      [ 0, 0, 0, 0, 0, 0, 0, 0, 0, 0, 0, 1 ], \n",
    "      [ 0, 0, 0, 0, 0, 0, 0, 0, 0, 1, 0, 0 ], \n",
    "      [ 0, 0, 0, 0, 0, 0, 0, 1, 0, 0, 0, 0 ], \n",
    "      [ 0, 0, 0, 0, 0, 0, 0, 0, 1, 0, 0, 0 ], \n",
    "      [ 0, 0, 0, 0, 0, 0, 1, 0, 0, 0, 0, 0 ], \n",
    "      [ 1, 0, 0, 0, 0, 0, 0, 0, 0, 0, 0, 0 ], \n",
    "      [ 0, 0, 1, 0, 0, 0, 0, 0, 0, 0, 0, 0 ], \n",
    "      [ 0, 1, 0, 0, 0, 0, 0, 0, 0, 0, 0, 0 ] ], \n",
    "  [ [ 0, 0, 0, 0, 0, 0, 1, 0, 0, 0, 0, 0 ], \n",
    "      [ 0, 0, 0, 0, 0, 0, 0, 1, 0, 0, 0, 0 ], \n",
    "      [ 0, 0, 0, 0, 0, 0, 0, 0, 1, 0, 0, 0 ], \n",
    "      [ 0, 1, 0, 0, 0, 0, 0, 0, 0, 0, 0, 0 ], \n",
    "      [ 1, 0, 0, 0, 0, 0, 0, 0, 0, 0, 0, 0 ], \n",
    "      [ 0, 0, 1, 0, 0, 0, 0, 0, 0, 0, 0, 0 ], \n",
    "      [ 0, 0, 0, 0, 1, 0, 0, 0, 0, 0, 0, 0 ], \n",
    "      [ 0, 0, 0, 1, 0, 0, 0, 0, 0, 0, 0, 0 ], \n",
    "      [ 0, 0, 0, 0, 0, 1, 0, 0, 0, 0, 0, 0 ], \n",
    "      [ 0, 0, 0, 0, 0, 0, 0, 0, 0, 0, 0, 1 ], \n",
    "      [ 0, 0, 0, 0, 0, 0, 0, 0, 0, 1, 0, 0 ], \n",
    "      [ 0, 0, 0, 0, 0, 0, 0, 0, 0, 0, 1, 0 ] ], \n",
    "  [ [ 0, 0, 0, 0, 0, 0, 0, 0, 0, 0, 1, 0 ], \n",
    "      [ 0, 0, 0, 0, 0, 0, 0, 0, 0, 1, 0, 0 ], \n",
    "      [ 0, 0, 0, 0, 0, 0, 0, 0, 0, 0, 0, 1 ], \n",
    "      [ 0, 0, 0, 0, 0, 1, 0, 0, 0, 0, 0, 0 ], \n",
    "      [ 0, 0, 0, 1, 0, 0, 0, 0, 0, 0, 0, 0 ], \n",
    "      [ 0, 0, 0, 0, 1, 0, 0, 0, 0, 0, 0, 0 ], \n",
    "      [ 0, 0, 1, 0, 0, 0, 0, 0, 0, 0, 0, 0 ], \n",
    "      [ 1, 0, 0, 0, 0, 0, 0, 0, 0, 0, 0, 0 ], \n",
    "      [ 0, 1, 0, 0, 0, 0, 0, 0, 0, 0, 0, 0 ], \n",
    "      [ 0, 0, 0, 0, 0, 0, 0, 0, 1, 0, 0, 0 ], \n",
    "      [ 0, 0, 0, 0, 0, 0, 0, 1, 0, 0, 0, 0 ], \n",
    "      [ 0, 0, 0, 0, 0, 0, 1, 0, 0, 0, 0, 0 ] ] ]\n",
    "\n"
   ]
  },
  {
   "cell_type": "code",
   "execution_count": 12,
   "metadata": {
    "collapsed": true
   },
   "outputs": [
    {
     "name": "stdout",
     "output_type": "stream",
     "text": [
      "for element  (1,2,3)\n",
      "eigenvalue:\n"
     ]
    },
    {
     "data": {
      "text/html": [
       "<html><script type=\"math/tex; mode=display\">\\newcommand{\\Bold}[1]{\\mathbf{#1}}(1, 0, 0, 0, 0, 0, 0, 0, 0, 0, 0, 0)</script></html>"
      ],
      "text/plain": [
       "(1, 0, 0, 0, 0, 0, 0, 0, 0, 0, 0, 0)"
      ]
     },
     "metadata": {},
     "output_type": "display_data"
    },
    {
     "name": "stdout",
     "output_type": "stream",
     "text": [
      "basis func:\n"
     ]
    },
    {
     "data": {
      "text/html": [
       "<html><script type=\"math/tex; mode=display\">\\newcommand{\\Bold}[1]{\\mathbf{#1}}\\psi_{0}+\\psi_{4}+\\psi_{6}</script></html>"
      ],
      "text/plain": [
       "\\psi_{0}+\\psi_{4}+\\psi_{6}"
      ]
     },
     "metadata": {},
     "output_type": "display_data"
    },
    {
     "name": "stdout",
     "output_type": "stream",
     "text": [
      "##########\n",
      "for element  (1,2,3)\n",
      "eigenvalue:\n"
     ]
    },
    {
     "data": {
      "text/html": [
       "<html><script type=\"math/tex; mode=display\">\\newcommand{\\Bold}[1]{\\mathbf{#1}}(0, 1, 0, 0, 0, 0, 0, 0, 0, 0, 0, 0)</script></html>"
      ],
      "text/plain": [
       "(0, 1, 0, 0, 0, 0, 0, 0, 0, 0, 0, 0)"
      ]
     },
     "metadata": {},
     "output_type": "display_data"
    },
    {
     "name": "stdout",
     "output_type": "stream",
     "text": [
      "basis func:\n"
     ]
    },
    {
     "data": {
      "text/html": [
       "<html><script type=\"math/tex; mode=display\">\\newcommand{\\Bold}[1]{\\mathbf{#1}}\\psi_{1}+\\psi_{3}+\\psi_{7}</script></html>"
      ],
      "text/plain": [
       "\\psi_{1}+\\psi_{3}+\\psi_{7}"
      ]
     },
     "metadata": {},
     "output_type": "display_data"
    },
    {
     "name": "stdout",
     "output_type": "stream",
     "text": [
      "##########\n",
      "for element  (1,2,3)\n",
      "eigenvalue:\n"
     ]
    },
    {
     "data": {
      "text/html": [
       "<html><script type=\"math/tex; mode=display\">\\newcommand{\\Bold}[1]{\\mathbf{#1}}(0, 0, 1, 0, 0, 0, 0, 0, 0, 0, 0, 0)</script></html>"
      ],
      "text/plain": [
       "(0, 0, 1, 0, 0, 0, 0, 0, 0, 0, 0, 0)"
      ]
     },
     "metadata": {},
     "output_type": "display_data"
    },
    {
     "name": "stdout",
     "output_type": "stream",
     "text": [
      "basis func:\n"
     ]
    },
    {
     "data": {
      "text/html": [
       "<html><script type=\"math/tex; mode=display\">\\newcommand{\\Bold}[1]{\\mathbf{#1}}\\psi_{2}+\\psi_{5}+\\psi_{8}</script></html>"
      ],
      "text/plain": [
       "\\psi_{2}+\\psi_{5}+\\psi_{8}"
      ]
     },
     "metadata": {},
     "output_type": "display_data"
    },
    {
     "name": "stdout",
     "output_type": "stream",
     "text": [
      "##########\n",
      "for element  (1,2,3)\n",
      "eigenvalue:\n"
     ]
    },
    {
     "data": {
      "text/html": [
       "<html><script type=\"math/tex; mode=display\">\\newcommand{\\Bold}[1]{\\mathbf{#1}}(0, 0, 0, 1, 0, 0, 0, 0, 0, 0, 0, 0)</script></html>"
      ],
      "text/plain": [
       "(0, 0, 0, 1, 0, 0, 0, 0, 0, 0, 0, 0)"
      ]
     },
     "metadata": {},
     "output_type": "display_data"
    },
    {
     "name": "stdout",
     "output_type": "stream",
     "text": [
      "basis func:\n"
     ]
    },
    {
     "data": {
      "text/html": [
       "<html><script type=\"math/tex; mode=display\">\\newcommand{\\Bold}[1]{\\mathbf{#1}}\\psi_{9}+\\psi_{10}+\\psi_{11}</script></html>"
      ],
      "text/plain": [
       "\\psi_{9}+\\psi_{10}+\\psi_{11}"
      ]
     },
     "metadata": {},
     "output_type": "display_data"
    },
    {
     "name": "stdout",
     "output_type": "stream",
     "text": [
      "##########\n",
      "for element  (1,2,3)\n",
      "eigenvalue:\n"
     ]
    },
    {
     "data": {
      "text/html": [
       "<html><script type=\"math/tex; mode=display\">\\newcommand{\\Bold}[1]{\\mathbf{#1}}(0, 0, 0, 0, \\varepsilon^{2}, 0, 0, 0, 0, 0, 0, 0)</script></html>"
      ],
      "text/plain": [
       "(0, 0, 0, 0, \\varepsilon^{2}, 0, 0, 0, 0, 0, 0, 0)"
      ]
     },
     "metadata": {},
     "output_type": "display_data"
    },
    {
     "name": "stdout",
     "output_type": "stream",
     "text": [
      "basis func:\n"
     ]
    },
    {
     "data": {
      "text/html": [
       "<html><script type=\"math/tex; mode=display\">\\newcommand{\\Bold}[1]{\\mathbf{#1}}\\psi_{0}+\\varepsilon \\psi_{4}+\\varepsilon^{2} \\psi_{6}</script></html>"
      ],
      "text/plain": [
       "\\psi_{0}+\\varepsilon \\psi_{4}+\\varepsilon^{2} \\psi_{6}"
      ]
     },
     "metadata": {},
     "output_type": "display_data"
    },
    {
     "name": "stdout",
     "output_type": "stream",
     "text": [
      "##########\n",
      "for element  (1,2,3)\n",
      "eigenvalue:\n"
     ]
    },
    {
     "data": {
      "text/html": [
       "<html><script type=\"math/tex; mode=display\">\\newcommand{\\Bold}[1]{\\mathbf{#1}}(0, 0, 0, 0, 0, \\varepsilon^{2}, 0, 0, 0, 0, 0, 0)</script></html>"
      ],
      "text/plain": [
       "(0, 0, 0, 0, 0, \\varepsilon^{2}, 0, 0, 0, 0, 0, 0)"
      ]
     },
     "metadata": {},
     "output_type": "display_data"
    },
    {
     "name": "stdout",
     "output_type": "stream",
     "text": [
      "basis func:\n"
     ]
    },
    {
     "data": {
      "text/html": [
       "<html><script type=\"math/tex; mode=display\">\\newcommand{\\Bold}[1]{\\mathbf{#1}}\\psi_{1}+\\varepsilon \\psi_{3}+\\varepsilon^{2} \\psi_{7}</script></html>"
      ],
      "text/plain": [
       "\\psi_{1}+\\varepsilon \\psi_{3}+\\varepsilon^{2} \\psi_{7}"
      ]
     },
     "metadata": {},
     "output_type": "display_data"
    },
    {
     "name": "stdout",
     "output_type": "stream",
     "text": [
      "##########\n",
      "for element  (1,2,3)\n",
      "eigenvalue:\n"
     ]
    },
    {
     "data": {
      "text/html": [
       "<html><script type=\"math/tex; mode=display\">\\newcommand{\\Bold}[1]{\\mathbf{#1}}(0, 0, 0, 0, 0, 0, \\varepsilon^{2}, 0, 0, 0, 0, 0)</script></html>"
      ],
      "text/plain": [
       "(0, 0, 0, 0, 0, 0, \\varepsilon^{2}, 0, 0, 0, 0, 0)"
      ]
     },
     "metadata": {},
     "output_type": "display_data"
    },
    {
     "name": "stdout",
     "output_type": "stream",
     "text": [
      "basis func:\n"
     ]
    },
    {
     "data": {
      "text/html": [
       "<html><script type=\"math/tex; mode=display\">\\newcommand{\\Bold}[1]{\\mathbf{#1}}\\psi_{2}+\\varepsilon \\psi_{5}+\\varepsilon^{2} \\psi_{8}</script></html>"
      ],
      "text/plain": [
       "\\psi_{2}+\\varepsilon \\psi_{5}+\\varepsilon^{2} \\psi_{8}"
      ]
     },
     "metadata": {},
     "output_type": "display_data"
    },
    {
     "name": "stdout",
     "output_type": "stream",
     "text": [
      "##########\n",
      "for element  (1,2,3)\n",
      "eigenvalue:\n"
     ]
    },
    {
     "data": {
      "text/html": [
       "<html><script type=\"math/tex; mode=display\">\\newcommand{\\Bold}[1]{\\mathbf{#1}}(0, 0, 0, 0, 0, 0, 0, \\varepsilon^{2}, 0, 0, 0, 0)</script></html>"
      ],
      "text/plain": [
       "(0, 0, 0, 0, 0, 0, 0, \\varepsilon^{2}, 0, 0, 0, 0)"
      ]
     },
     "metadata": {},
     "output_type": "display_data"
    },
    {
     "name": "stdout",
     "output_type": "stream",
     "text": [
      "basis func:\n"
     ]
    },
    {
     "data": {
      "text/html": [
       "<html><script type=\"math/tex; mode=display\">\\newcommand{\\Bold}[1]{\\mathbf{#1}}\\psi_{9}+\\varepsilon \\psi_{10}+\\varepsilon^{2} \\psi_{11}</script></html>"
      ],
      "text/plain": [
       "\\psi_{9}+\\varepsilon \\psi_{10}+\\varepsilon^{2} \\psi_{11}"
      ]
     },
     "metadata": {},
     "output_type": "display_data"
    },
    {
     "name": "stdout",
     "output_type": "stream",
     "text": [
      "##########\n",
      "for element  (1,2,3)\n",
      "eigenvalue:\n"
     ]
    },
    {
     "data": {
      "text/html": [
       "<html><script type=\"math/tex; mode=display\">\\newcommand{\\Bold}[1]{\\mathbf{#1}}(0, 0, 0, 0, 0, 0, 0, 0, \\varepsilon, 0, 0, 0)</script></html>"
      ],
      "text/plain": [
       "(0, 0, 0, 0, 0, 0, 0, 0, \\varepsilon, 0, 0, 0)"
      ]
     },
     "metadata": {},
     "output_type": "display_data"
    },
    {
     "name": "stdout",
     "output_type": "stream",
     "text": [
      "basis func:\n"
     ]
    },
    {
     "data": {
      "text/html": [
       "<html><script type=\"math/tex; mode=display\">\\newcommand{\\Bold}[1]{\\mathbf{#1}}\\psi_{0}+\\varepsilon^{2} \\psi_{4}+\\varepsilon \\psi_{6}</script></html>"
      ],
      "text/plain": [
       "\\psi_{0}+\\varepsilon^{2} \\psi_{4}+\\varepsilon \\psi_{6}"
      ]
     },
     "metadata": {},
     "output_type": "display_data"
    },
    {
     "name": "stdout",
     "output_type": "stream",
     "text": [
      "##########\n",
      "for element  (1,2,3)\n",
      "eigenvalue:\n"
     ]
    },
    {
     "data": {
      "text/html": [
       "<html><script type=\"math/tex; mode=display\">\\newcommand{\\Bold}[1]{\\mathbf{#1}}(0, 0, 0, 0, 0, 0, 0, 0, 0, \\varepsilon, 0, 0)</script></html>"
      ],
      "text/plain": [
       "(0, 0, 0, 0, 0, 0, 0, 0, 0, \\varepsilon, 0, 0)"
      ]
     },
     "metadata": {},
     "output_type": "display_data"
    },
    {
     "name": "stdout",
     "output_type": "stream",
     "text": [
      "basis func:\n"
     ]
    },
    {
     "data": {
      "text/html": [
       "<html><script type=\"math/tex; mode=display\">\\newcommand{\\Bold}[1]{\\mathbf{#1}}\\psi_{1}+\\varepsilon^{2} \\psi_{3}+\\varepsilon \\psi_{7}</script></html>"
      ],
      "text/plain": [
       "\\psi_{1}+\\varepsilon^{2} \\psi_{3}+\\varepsilon \\psi_{7}"
      ]
     },
     "metadata": {},
     "output_type": "display_data"
    },
    {
     "name": "stdout",
     "output_type": "stream",
     "text": [
      "##########\n",
      "for element  (1,2,3)\n",
      "eigenvalue:\n"
     ]
    },
    {
     "data": {
      "text/html": [
       "<html><script type=\"math/tex; mode=display\">\\newcommand{\\Bold}[1]{\\mathbf{#1}}(0, 0, 0, 0, 0, 0, 0, 0, 0, 0, \\varepsilon, 0)</script></html>"
      ],
      "text/plain": [
       "(0, 0, 0, 0, 0, 0, 0, 0, 0, 0, \\varepsilon, 0)"
      ]
     },
     "metadata": {},
     "output_type": "display_data"
    },
    {
     "name": "stdout",
     "output_type": "stream",
     "text": [
      "basis func:\n"
     ]
    },
    {
     "data": {
      "text/html": [
       "<html><script type=\"math/tex; mode=display\">\\newcommand{\\Bold}[1]{\\mathbf{#1}}\\psi_{2}+\\varepsilon^{2} \\psi_{5}+\\varepsilon \\psi_{8}</script></html>"
      ],
      "text/plain": [
       "\\psi_{2}+\\varepsilon^{2} \\psi_{5}+\\varepsilon \\psi_{8}"
      ]
     },
     "metadata": {},
     "output_type": "display_data"
    },
    {
     "name": "stdout",
     "output_type": "stream",
     "text": [
      "##########\n",
      "for element  (1,2,3)\n",
      "eigenvalue:\n"
     ]
    },
    {
     "data": {
      "text/html": [
       "<html><script type=\"math/tex; mode=display\">\\newcommand{\\Bold}[1]{\\mathbf{#1}}(0, 0, 0, 0, 0, 0, 0, 0, 0, 0, 0, \\varepsilon)</script></html>"
      ],
      "text/plain": [
       "(0, 0, 0, 0, 0, 0, 0, 0, 0, 0, 0, \\varepsilon)"
      ]
     },
     "metadata": {},
     "output_type": "display_data"
    },
    {
     "name": "stdout",
     "output_type": "stream",
     "text": [
      "basis func:\n"
     ]
    },
    {
     "data": {
      "text/html": [
       "<html><script type=\"math/tex; mode=display\">\\newcommand{\\Bold}[1]{\\mathbf{#1}}\\psi_{9}+\\varepsilon^{2} \\psi_{10}+\\varepsilon \\psi_{11}</script></html>"
      ],
      "text/plain": [
       "\\psi_{9}+\\varepsilon^{2} \\psi_{10}+\\varepsilon \\psi_{11}"
      ]
     },
     "metadata": {},
     "output_type": "display_data"
    },
    {
     "name": "stdout",
     "output_type": "stream",
     "text": [
      "##########\n"
     ]
    }
   ],
   "source": [
    "g_idx = 5\n",
    "for i in range(12):\n",
    "    print(\"for element \",gs_tetra_reg[g_idx])\n",
    "    get_basis_func(mats_tetra_reg[g_idx], i)"
   ]
  },
  {
   "cell_type": "markdown",
   "metadata": {},
   "source": [
    "to get matrixes `mats_c3_E` following `GAP` code used:\n",
    "```\n",
    "gap> c3:=Group((1,2),(1,3),(2,3),(1,2,3));\n",
    "gap> tbl_c3:=CharacterTable(c3);\n",
    "gap> hom:=IrreducibleRepresentationsDixon(c3,First(Irr(tbl_c3),e->e[1]=2):unary);\n",
    "```"
   ]
  },
  {
   "cell_type": "code",
   "execution_count": 9,
   "metadata": {},
   "outputs": [],
   "source": [
    "gs_c3=[ '()', '(1,3)', '(1,2,3)', '(2,3)', '(1,3,2)', '(1,2)' ]\n",
    "mats_c3_E=[ [ [ 1, 0 ], [ 0, 1 ] ], [ [ -1, 0 ], [ -1, 1 ] ], \n",
    "  [ [ 0, -1 ], [ 1, -1 ] ], [ [ 0, 1 ], [ 1, 0 ] ], \n",
    "  [ [ -1, 1 ], [ -1, 0 ] ], [ [ 1, -1 ], [ 0, -1 ] ] ]\n"
   ]
  },
  {
   "cell_type": "code",
   "execution_count": 34,
   "metadata": {
    "collapsed": true
   },
   "outputs": [
    {
     "name": "stdout",
     "output_type": "stream",
     "text": [
      "for element  (2,3)\n",
      "eigenvalue:\n"
     ]
    },
    {
     "data": {
      "text/html": [
       "<html><script type=\"math/tex; mode=display\">\\newcommand{\\Bold}[1]{\\mathbf{#1}}(1, 0)</script></html>"
      ],
      "text/plain": [
       "(1, 0)"
      ]
     },
     "metadata": {},
     "output_type": "display_data"
    },
    {
     "name": "stdout",
     "output_type": "stream",
     "text": [
      "basis func:\n"
     ]
    },
    {
     "data": {
      "text/html": [
       "<html><script type=\"math/tex; mode=display\">\\newcommand{\\Bold}[1]{\\mathbf{#1}}\\psi_{0}+\\psi_{1}</script></html>"
      ],
      "text/plain": [
       "\\psi_{0}+\\psi_{1}"
      ]
     },
     "metadata": {},
     "output_type": "display_data"
    },
    {
     "name": "stdout",
     "output_type": "stream",
     "text": [
      "##########\n",
      "for element  (2,3)\n",
      "eigenvalue:\n"
     ]
    },
    {
     "data": {
      "text/html": [
       "<html><script type=\"math/tex; mode=display\">\\newcommand{\\Bold}[1]{\\mathbf{#1}}(0, -1)</script></html>"
      ],
      "text/plain": [
       "(0, -1)"
      ]
     },
     "metadata": {},
     "output_type": "display_data"
    },
    {
     "name": "stdout",
     "output_type": "stream",
     "text": [
      "basis func:\n"
     ]
    },
    {
     "data": {
      "text/html": [
       "<html><script type=\"math/tex; mode=display\">\\newcommand{\\Bold}[1]{\\mathbf{#1}}\\psi_{0}-\\psi_{1}</script></html>"
      ],
      "text/plain": [
       "\\psi_{0}-\\psi_{1}"
      ]
     },
     "metadata": {},
     "output_type": "display_data"
    },
    {
     "name": "stdout",
     "output_type": "stream",
     "text": [
      "##########\n"
     ]
    }
   ],
   "source": [
    "g_idx = 3\n",
    "for i in range(2):\n",
    "    print(\"for element \",gs_c3[g_idx])\n",
    "    get_basis_func(mats_c3_E[g_idx], i)"
   ]
  },
  {
   "cell_type": "markdown",
   "metadata": {},
   "source": [
    "to get matrixes `mats_c3_ExE` following `GAP` code used:\n",
    "\n",
    "```\n",
    "gap> List(List(c3),e->KroneckerProduct(Image(hom, e),Image(hom,e)));\n",
    "```"
   ]
  },
  {
   "cell_type": "code",
   "execution_count": 10,
   "metadata": {},
   "outputs": [],
   "source": [
    "mats_c3_ExE=[ [ [ 1, 0, 0, 0 ], [ 0, 1, 0, 0 ], [ 0, 0, 1, 0 ], [ 0, 0, 0, 1 ] ], \n",
    "  [ [ 1, 0, 0, 0 ], [ 1, -1, 0, 0 ], [ 1, 0, -1, 0 ], [ 1, -1, -1, 1 ] ]\n",
    "    , \n",
    "  [ [ 0, 0, 0, 1 ], [ 0, 0, -1, 1 ], [ 0, -1, 0, 1 ], [ 1, -1, -1, 1 ] ]\n",
    "    , [ [ 0, 0, 0, 1 ], [ 0, 0, 1, 0 ], [ 0, 1, 0, 0 ], [ 1, 0, 0, 0 ] ]\n",
    "    , \n",
    "  [ [ 1, -1, -1, 1 ], [ 1, 0, -1, 0 ], [ 1, -1, 0, 0 ], [ 1, 0, 0, 0 ] ]\n",
    "    , \n",
    "  [ [ 1, -1, -1, 1 ], [ 0, -1, 0, 1 ], [ 0, 0, -1, 1 ], [ 0, 0, 0, 1 ] \n",
    "     ] ]\n"
   ]
  },
  {
   "cell_type": "code",
   "execution_count": 47,
   "metadata": {
    "collapsed": true
   },
   "outputs": [
    {
     "name": "stdout",
     "output_type": "stream",
     "text": [
      "for element  (1,3,2)\n",
      "(1, 0, 0, 0)\n",
      "eigenvalue:\n"
     ]
    },
    {
     "data": {
      "text/html": [
       "<html><script type=\"math/tex; mode=display\">\\newcommand{\\Bold}[1]{\\mathbf{#1}}(1, 0, 0, 0)</script></html>"
      ],
      "text/plain": [
       "(1, 0, 0, 0)"
      ]
     },
     "metadata": {},
     "output_type": "display_data"
    },
    {
     "name": "stdout",
     "output_type": "stream",
     "text": [
      "(1, 0, -1, 1)\n",
      "basis func:\n"
     ]
    },
    {
     "data": {
      "text/html": [
       "<html><script type=\"math/tex; mode=display\">\\newcommand{\\Bold}[1]{\\mathbf{#1}}\\psi_{0}-\\psi_{2}+\\psi_{3}</script></html>"
      ],
      "text/plain": [
       "\\psi_{0}-\\psi_{2}+\\psi_{3}"
      ]
     },
     "metadata": {},
     "output_type": "display_data"
    },
    {
     "name": "stdout",
     "output_type": "stream",
     "text": [
      "##########\n",
      "for element  (1,3,2)\n",
      "(0, 1, 0, 0)\n",
      "eigenvalue:\n"
     ]
    },
    {
     "data": {
      "text/html": [
       "<html><script type=\"math/tex; mode=display\">\\newcommand{\\Bold}[1]{\\mathbf{#1}}(0, 1, 0, 0)</script></html>"
      ],
      "text/plain": [
       "(0, 1, 0, 0)"
      ]
     },
     "metadata": {},
     "output_type": "display_data"
    },
    {
     "name": "stdout",
     "output_type": "stream",
     "text": [
      "(0, 1, -1, 0)\n",
      "basis func:\n"
     ]
    },
    {
     "data": {
      "text/html": [
       "<html><script type=\"math/tex; mode=display\">\\newcommand{\\Bold}[1]{\\mathbf{#1}}\\psi_{1}-\\psi_{2}</script></html>"
      ],
      "text/plain": [
       "\\psi_{1}-\\psi_{2}"
      ]
     },
     "metadata": {},
     "output_type": "display_data"
    },
    {
     "name": "stdout",
     "output_type": "stream",
     "text": [
      "##########\n",
      "for element  (1,3,2)\n",
      "(0, 0, -0.50000000000000000? - 0.866025403784439?*I, 0)\n",
      "eigenvalue:\n"
     ]
    },
    {
     "data": {
      "text/html": [
       "<html><script type=\"math/tex; mode=display\">\\newcommand{\\Bold}[1]{\\mathbf{#1}}(0, 0, \\varepsilon^{2}, 0)</script></html>"
      ],
      "text/plain": [
       "(0, 0, \\varepsilon^{2}, 0)"
      ]
     },
     "metadata": {},
     "output_type": "display_data"
    },
    {
     "name": "stdout",
     "output_type": "stream",
     "text": [
      "(1, \\varepsilon^{2}, \\varepsilon^{2}, \\varepsilon)\n",
      "basis func:\n"
     ]
    },
    {
     "data": {
      "text/html": [
       "<html><script type=\"math/tex; mode=display\">\\newcommand{\\Bold}[1]{\\mathbf{#1}}\\psi_{0}+\\varepsilon^{2} \\psi_{1}+\\varepsilon^{2} \\psi_{2}+\\varepsilon \\psi_{3}</script></html>"
      ],
      "text/plain": [
       "\\psi_{0}+\\varepsilon^{2} \\psi_{1}+\\varepsilon^{2} \\psi_{2}+\\varepsilon \\psi_{3}"
      ]
     },
     "metadata": {},
     "output_type": "display_data"
    },
    {
     "name": "stdout",
     "output_type": "stream",
     "text": [
      "##########\n",
      "for element  (1,3,2)\n",
      "(0, 0, 0, -0.50000000000000000? + 0.866025403784439?*I)\n",
      "eigenvalue:\n"
     ]
    },
    {
     "data": {
      "text/html": [
       "<html><script type=\"math/tex; mode=display\">\\newcommand{\\Bold}[1]{\\mathbf{#1}}(0, 0, 0, \\varepsilon)</script></html>"
      ],
      "text/plain": [
       "(0, 0, 0, \\varepsilon)"
      ]
     },
     "metadata": {},
     "output_type": "display_data"
    },
    {
     "name": "stdout",
     "output_type": "stream",
     "text": [
      "(1, \\varepsilon, \\varepsilon, \\varepsilon^{2})\n",
      "basis func:\n"
     ]
    },
    {
     "data": {
      "text/html": [
       "<html><script type=\"math/tex; mode=display\">\\newcommand{\\Bold}[1]{\\mathbf{#1}}\\psi_{0}+\\varepsilon \\psi_{1}+\\varepsilon \\psi_{2}+\\varepsilon^{2} \\psi_{3}</script></html>"
      ],
      "text/plain": [
       "\\psi_{0}+\\varepsilon \\psi_{1}+\\varepsilon \\psi_{2}+\\varepsilon^{2} \\psi_{3}"
      ]
     },
     "metadata": {},
     "output_type": "display_data"
    },
    {
     "name": "stdout",
     "output_type": "stream",
     "text": [
      "##########\n"
     ]
    }
   ],
   "source": [
    "g_idx = 4\n",
    "for i in range(4):\n",
    "    print(\"for element \",gs_c3[g_idx])\n",
    "    get_basis_func(mats_c3_ExE[g_idx], i)"
   ]
  },
  {
   "cell_type": "markdown",
   "metadata": {},
   "source": [
    "##### Define tetrahedron group:"
   ]
  },
  {
   "cell_type": "markdown",
   "metadata": {},
   "source": [
    "to get matrixes `mats_tetra_F` following `GAP` code used:\n",
    "```\n",
    "gap> hom:=IrreducibleRepresentationsDixon(tetra,First(Irr(tbl),e->e[1]=3):unary);\n",
    "gap> List(List(tetra),e->Image(hom, e));\n",
    "```"
   ]
  },
  {
   "cell_type": "code",
   "execution_count": 11,
   "metadata": {},
   "outputs": [
    {
     "data": {
      "text/plain": [
       "-1/2"
      ]
     },
     "execution_count": 11,
     "metadata": {},
     "output_type": "execute_result"
    }
   ],
   "source": [
    "real(E(3))"
   ]
  },
  {
   "cell_type": "code",
   "execution_count": 1,
   "metadata": {},
   "outputs": [],
   "source": [
    "gs_tetra=[ '()', '(1,2)(3,4)', '(1,3)(2,4)', '(1,4)(2,3)', '(2,4,3)', '(1,2,3)', '(1,3,4)', \n",
    "  '(1,4,2)', '(2,3,4)', '(1,2,4)', '(1,3,2)', '(1,4,3)' ]\n",
    "\n",
    "mats_tetra_A1 = [[[1]]]*len(gs_tetra)\n",
    "mats_tetra_E1 = [ [ [ 1 ] ], [ [ 1 ] ], [ [ 1 ] ], [ [ 1 ] ], [ [ E(3)^2 ] ], \n",
    "  [ [ E(3)^2 ] ], [ [ E(3)^2 ] ], [ [ E(3)^2 ] ], [ [ E(3) ] ], \n",
    "  [ [ E(3) ] ], [ [ E(3) ] ], [ [ E(3) ] ] ]\n",
    "mats_tetra_E2 = [ [ [ 1 ] ], [ [ 1 ] ], [ [ 1 ] ], [ [ 1 ] ], [ [ E(3) ] ], \n",
    "  [ [ E(3) ] ], [ [ E(3) ] ], [ [ E(3) ] ], [ [ E(3)^2 ] ], \n",
    "  [ [ E(3)^2 ] ], [ [ E(3)^2 ] ], [ [ E(3)^2 ] ] ]\n",
    "mats_tetra_F = [ [ [ 1, 0, 0 ], [ 0, 1, 0 ], [ 0, 0, 1 ] ], \n",
    "  [ [ 1, 0, 0 ], [ 0, -1, 0 ], [ 0, 0, -1 ] ], \n",
    "  [ [ -1, 0, 0 ], [ 0, -1, 0 ], [ 0, 0, 1 ] ], \n",
    "  [ [ -1, 0, 0 ], [ 0, 1, 0 ], [ 0, 0, -1 ] ], \n",
    "  [ [ 0, -1, 0 ], [ 0, 0, -1 ], [ 1, 0, 0 ] ], \n",
    "  [ [ 0, 1, 0 ], [ 0, 0, 1 ], [ 1, 0, 0 ] ], \n",
    "  [ [ 0, 1, 0 ], [ 0, 0, -1 ], [ -1, 0, 0 ] ], \n",
    "  [ [ 0, -1, 0 ], [ 0, 0, 1 ], [ -1, 0, 0 ] ], \n",
    "  [ [ 0, 0, 1 ], [ -1, 0, 0 ], [ 0, -1, 0 ] ], \n",
    "  [ [ 0, 0, -1 ], [ -1, 0, 0 ], [ 0, 1, 0 ] ], \n",
    "  [ [ 0, 0, 1 ], [ 1, 0, 0 ], [ 0, 1, 0 ] ], \n",
    "  [ [ 0, 0, -1 ], [ 1, 0, 0 ], [ 0, -1, 0 ] ] ]"
   ]
  },
  {
   "cell_type": "code",
   "execution_count": 16,
   "metadata": {},
   "outputs": [
    {
     "data": {
      "text/html": [
       "<html><script type=\"math/tex; mode=display\">\\newcommand{\\Bold}[1]{\\mathbf{#1}}\\verb|()| \\verb|->| \\left(\\begin{array}{rrr}\n",
       "1 & 0 & 0 \\\\\n",
       "0 & 1 & 0 \\\\\n",
       "0 & 0 & 1\n",
       "\\end{array}\\right)  \\left(\\begin{array}{rrrrrrrrr}\n",
       "1 & 0 & 0 & 0 & 0 & 0 & 0 & 0 & 0 \\\\\n",
       "0 & 1 & 0 & 0 & 0 & 0 & 0 & 0 & 0 \\\\\n",
       "0 & 0 & 1 & 0 & 0 & 0 & 0 & 0 & 0 \\\\\n",
       "0 & 0 & 0 & 1 & 0 & 0 & 0 & 0 & 0 \\\\\n",
       "0 & 0 & 0 & 0 & 1 & 0 & 0 & 0 & 0 \\\\\n",
       "0 & 0 & 0 & 0 & 0 & 1 & 0 & 0 & 0 \\\\\n",
       "0 & 0 & 0 & 0 & 0 & 0 & 1 & 0 & 0 \\\\\n",
       "0 & 0 & 0 & 0 & 0 & 0 & 0 & 1 & 0 \\\\\n",
       "0 & 0 & 0 & 0 & 0 & 0 & 0 & 0 & 1\n",
       "\\end{array}\\right)</script></html>"
      ],
      "text/plain": [
       "'()' '->' \\left(\\begin{array}{rrr}\n",
       "1 & 0 & 0 \\\\\n",
       "0 & 1 & 0 \\\\\n",
       "0 & 0 & 1\n",
       "\\end{array}\\right) ' ' \\left(\\begin{array}{rrrrrrrrr}\n",
       "1 & 0 & 0 & 0 & 0 & 0 & 0 & 0 & 0 \\\\\n",
       "0 & 1 & 0 & 0 & 0 & 0 & 0 & 0 & 0 \\\\\n",
       "0 & 0 & 1 & 0 & 0 & 0 & 0 & 0 & 0 \\\\\n",
       "0 & 0 & 0 & 1 & 0 & 0 & 0 & 0 & 0 \\\\\n",
       "0 & 0 & 0 & 0 & 1 & 0 & 0 & 0 & 0 \\\\\n",
       "0 & 0 & 0 & 0 & 0 & 1 & 0 & 0 & 0 \\\\\n",
       "0 & 0 & 0 & 0 & 0 & 0 & 1 & 0 & 0 \\\\\n",
       "0 & 0 & 0 & 0 & 0 & 0 & 0 & 1 & 0 \\\\\n",
       "0 & 0 & 0 & 0 & 0 & 0 & 0 & 0 & 1\n",
       "\\end{array}\\right)"
      ]
     },
     "metadata": {},
     "output_type": "display_data"
    },
    {
     "data": {
      "text/html": [
       "<html><script type=\"math/tex; mode=display\">\\newcommand{\\Bold}[1]{\\mathbf{#1}}\\verb|(1,2)(3,4)| \\verb|->| \\left(\\begin{array}{rrr}\n",
       "1 & 0 & 0 \\\\\n",
       "0 & -1 & 0 \\\\\n",
       "0 & 0 & -1\n",
       "\\end{array}\\right)  \\left(\\begin{array}{rrrrrrrrr}\n",
       "1 & 0 & 0 & 0 & 0 & 0 & 0 & 0 & 0 \\\\\n",
       "0 & -1 & 0 & 0 & 0 & 0 & 0 & 0 & 0 \\\\\n",
       "0 & 0 & 1 & 0 & 0 & 0 & 0 & 0 & 0 \\\\\n",
       "0 & 0 & 0 & -1 & 0 & 0 & 0 & 0 & 0 \\\\\n",
       "0 & 0 & 0 & 0 & 1 & 0 & 0 & 0 & 0 \\\\\n",
       "0 & 0 & 0 & 0 & 0 & -1 & 0 & 0 & 0 \\\\\n",
       "0 & 0 & 0 & 0 & 0 & 0 & 1 & 0 & 0 \\\\\n",
       "0 & 0 & 0 & 0 & 0 & 0 & 0 & -1 & 0 \\\\\n",
       "0 & 0 & 0 & 0 & 0 & 0 & 0 & 0 & 1\n",
       "\\end{array}\\right)</script></html>"
      ],
      "text/plain": [
       "'(1,2)(3,4)' '->' \\left(\\begin{array}{rrr}\n",
       "1 & 0 & 0 \\\\\n",
       "0 & -1 & 0 \\\\\n",
       "0 & 0 & -1\n",
       "\\end{array}\\right) ' ' \\left(\\begin{array}{rrrrrrrrr}\n",
       "1 & 0 & 0 & 0 & 0 & 0 & 0 & 0 & 0 \\\\\n",
       "0 & -1 & 0 & 0 & 0 & 0 & 0 & 0 & 0 \\\\\n",
       "0 & 0 & 1 & 0 & 0 & 0 & 0 & 0 & 0 \\\\\n",
       "0 & 0 & 0 & -1 & 0 & 0 & 0 & 0 & 0 \\\\\n",
       "0 & 0 & 0 & 0 & 1 & 0 & 0 & 0 & 0 \\\\\n",
       "0 & 0 & 0 & 0 & 0 & -1 & 0 & 0 & 0 \\\\\n",
       "0 & 0 & 0 & 0 & 0 & 0 & 1 & 0 & 0 \\\\\n",
       "0 & 0 & 0 & 0 & 0 & 0 & 0 & -1 & 0 \\\\\n",
       "0 & 0 & 0 & 0 & 0 & 0 & 0 & 0 & 1\n",
       "\\end{array}\\right)"
      ]
     },
     "metadata": {},
     "output_type": "display_data"
    },
    {
     "data": {
      "text/html": [
       "<html><script type=\"math/tex; mode=display\">\\newcommand{\\Bold}[1]{\\mathbf{#1}}\\verb|(1,3)(2,4)| \\verb|->| \\left(\\begin{array}{rrr}\n",
       "-1 & 0 & 0 \\\\\n",
       "0 & -1 & 0 \\\\\n",
       "0 & 0 & 1\n",
       "\\end{array}\\right)  \\left(\\begin{array}{rrrrrrrrr}\n",
       "1 & 0 & 0 & 0 & 0 & 0 & 0 & 0 & 0 \\\\\n",
       "0 & -1 & 0 & 0 & 0 & 0 & 0 & 0 & 0 \\\\\n",
       "0 & 0 & -1 & 0 & 0 & 0 & 0 & 0 & 0 \\\\\n",
       "0 & 0 & 0 & -1 & 0 & 0 & 0 & 0 & 0 \\\\\n",
       "0 & 0 & 0 & 0 & 1 & 0 & 0 & 0 & 0 \\\\\n",
       "0 & 0 & 0 & 0 & 0 & 1 & 0 & 0 & 0 \\\\\n",
       "0 & 0 & 0 & 0 & 0 & 0 & -1 & 0 & 0 \\\\\n",
       "0 & 0 & 0 & 0 & 0 & 0 & 0 & 1 & 0 \\\\\n",
       "0 & 0 & 0 & 0 & 0 & 0 & 0 & 0 & 1\n",
       "\\end{array}\\right)</script></html>"
      ],
      "text/plain": [
       "'(1,3)(2,4)' '->' \\left(\\begin{array}{rrr}\n",
       "-1 & 0 & 0 \\\\\n",
       "0 & -1 & 0 \\\\\n",
       "0 & 0 & 1\n",
       "\\end{array}\\right) ' ' \\left(\\begin{array}{rrrrrrrrr}\n",
       "1 & 0 & 0 & 0 & 0 & 0 & 0 & 0 & 0 \\\\\n",
       "0 & -1 & 0 & 0 & 0 & 0 & 0 & 0 & 0 \\\\\n",
       "0 & 0 & -1 & 0 & 0 & 0 & 0 & 0 & 0 \\\\\n",
       "0 & 0 & 0 & -1 & 0 & 0 & 0 & 0 & 0 \\\\\n",
       "0 & 0 & 0 & 0 & 1 & 0 & 0 & 0 & 0 \\\\\n",
       "0 & 0 & 0 & 0 & 0 & 1 & 0 & 0 & 0 \\\\\n",
       "0 & 0 & 0 & 0 & 0 & 0 & -1 & 0 & 0 \\\\\n",
       "0 & 0 & 0 & 0 & 0 & 0 & 0 & 1 & 0 \\\\\n",
       "0 & 0 & 0 & 0 & 0 & 0 & 0 & 0 & 1\n",
       "\\end{array}\\right)"
      ]
     },
     "metadata": {},
     "output_type": "display_data"
    },
    {
     "data": {
      "text/html": [
       "<html><script type=\"math/tex; mode=display\">\\newcommand{\\Bold}[1]{\\mathbf{#1}}\\verb|(1,4)(2,3)| \\verb|->| \\left(\\begin{array}{rrr}\n",
       "-1 & 0 & 0 \\\\\n",
       "0 & 1 & 0 \\\\\n",
       "0 & 0 & -1\n",
       "\\end{array}\\right)  \\left(\\begin{array}{rrrrrrrrr}\n",
       "1 & 0 & 0 & 0 & 0 & 0 & 0 & 0 & 0 \\\\\n",
       "0 & 1 & 0 & 0 & 0 & 0 & 0 & 0 & 0 \\\\\n",
       "0 & 0 & -1 & 0 & 0 & 0 & 0 & 0 & 0 \\\\\n",
       "0 & 0 & 0 & 1 & 0 & 0 & 0 & 0 & 0 \\\\\n",
       "0 & 0 & 0 & 0 & 1 & 0 & 0 & 0 & 0 \\\\\n",
       "0 & 0 & 0 & 0 & 0 & -1 & 0 & 0 & 0 \\\\\n",
       "0 & 0 & 0 & 0 & 0 & 0 & -1 & 0 & 0 \\\\\n",
       "0 & 0 & 0 & 0 & 0 & 0 & 0 & -1 & 0 \\\\\n",
       "0 & 0 & 0 & 0 & 0 & 0 & 0 & 0 & 1\n",
       "\\end{array}\\right)</script></html>"
      ],
      "text/plain": [
       "'(1,4)(2,3)' '->' \\left(\\begin{array}{rrr}\n",
       "-1 & 0 & 0 \\\\\n",
       "0 & 1 & 0 \\\\\n",
       "0 & 0 & -1\n",
       "\\end{array}\\right) ' ' \\left(\\begin{array}{rrrrrrrrr}\n",
       "1 & 0 & 0 & 0 & 0 & 0 & 0 & 0 & 0 \\\\\n",
       "0 & 1 & 0 & 0 & 0 & 0 & 0 & 0 & 0 \\\\\n",
       "0 & 0 & -1 & 0 & 0 & 0 & 0 & 0 & 0 \\\\\n",
       "0 & 0 & 0 & 1 & 0 & 0 & 0 & 0 & 0 \\\\\n",
       "0 & 0 & 0 & 0 & 1 & 0 & 0 & 0 & 0 \\\\\n",
       "0 & 0 & 0 & 0 & 0 & -1 & 0 & 0 & 0 \\\\\n",
       "0 & 0 & 0 & 0 & 0 & 0 & -1 & 0 & 0 \\\\\n",
       "0 & 0 & 0 & 0 & 0 & 0 & 0 & -1 & 0 \\\\\n",
       "0 & 0 & 0 & 0 & 0 & 0 & 0 & 0 & 1\n",
       "\\end{array}\\right)"
      ]
     },
     "metadata": {},
     "output_type": "display_data"
    },
    {
     "data": {
      "text/html": [
       "<html><script type=\"math/tex; mode=display\">\\newcommand{\\Bold}[1]{\\mathbf{#1}}\\verb|(2,4,3)| \\verb|->| \\left(\\begin{array}{rrr}\n",
       "0 & -1 & 0 \\\\\n",
       "0 & 0 & -1 \\\\\n",
       "1 & 0 & 0\n",
       "\\end{array}\\right)  \\left(\\begin{array}{rrrrrrrrr}\n",
       "0 & 0 & 0 & 0 & 1 & 0 & 0 & 0 & 0 \\\\\n",
       "0 & 0 & 0 & 0 & 0 & -1 & 0 & 0 & 0 \\\\\n",
       "0 & 0 & 0 & 1 & 0 & 0 & 0 & 0 & 0 \\\\\n",
       "0 & 0 & 0 & 0 & 0 & 0 & 0 & -1 & 0 \\\\\n",
       "0 & 0 & 0 & 0 & 0 & 0 & 0 & 0 & 1 \\\\\n",
       "0 & 0 & 0 & 0 & 0 & 0 & -1 & 0 & 0 \\\\\n",
       "0 & 1 & 0 & 0 & 0 & 0 & 0 & 0 & 0 \\\\\n",
       "0 & 0 & -1 & 0 & 0 & 0 & 0 & 0 & 0 \\\\\n",
       "1 & 0 & 0 & 0 & 0 & 0 & 0 & 0 & 0\n",
       "\\end{array}\\right)</script></html>"
      ],
      "text/plain": [
       "'(2,4,3)' '->' \\left(\\begin{array}{rrr}\n",
       "0 & -1 & 0 \\\\\n",
       "0 & 0 & -1 \\\\\n",
       "1 & 0 & 0\n",
       "\\end{array}\\right) ' ' \\left(\\begin{array}{rrrrrrrrr}\n",
       "0 & 0 & 0 & 0 & 1 & 0 & 0 & 0 & 0 \\\\\n",
       "0 & 0 & 0 & 0 & 0 & -1 & 0 & 0 & 0 \\\\\n",
       "0 & 0 & 0 & 1 & 0 & 0 & 0 & 0 & 0 \\\\\n",
       "0 & 0 & 0 & 0 & 0 & 0 & 0 & -1 & 0 \\\\\n",
       "0 & 0 & 0 & 0 & 0 & 0 & 0 & 0 & 1 \\\\\n",
       "0 & 0 & 0 & 0 & 0 & 0 & -1 & 0 & 0 \\\\\n",
       "0 & 1 & 0 & 0 & 0 & 0 & 0 & 0 & 0 \\\\\n",
       "0 & 0 & -1 & 0 & 0 & 0 & 0 & 0 & 0 \\\\\n",
       "1 & 0 & 0 & 0 & 0 & 0 & 0 & 0 & 0\n",
       "\\end{array}\\right)"
      ]
     },
     "metadata": {},
     "output_type": "display_data"
    },
    {
     "data": {
      "text/html": [
       "<html><script type=\"math/tex; mode=display\">\\newcommand{\\Bold}[1]{\\mathbf{#1}}\\verb|(1,2,3)| \\verb|->| \\left(\\begin{array}{rrr}\n",
       "0 & 1 & 0 \\\\\n",
       "0 & 0 & 1 \\\\\n",
       "1 & 0 & 0\n",
       "\\end{array}\\right)  \\left(\\begin{array}{rrrrrrrrr}\n",
       "0 & 0 & 0 & 0 & 1 & 0 & 0 & 0 & 0 \\\\\n",
       "0 & 0 & 0 & 0 & 0 & 1 & 0 & 0 & 0 \\\\\n",
       "0 & 0 & 0 & -1 & 0 & 0 & 0 & 0 & 0 \\\\\n",
       "0 & 0 & 0 & 0 & 0 & 0 & 0 & 1 & 0 \\\\\n",
       "0 & 0 & 0 & 0 & 0 & 0 & 0 & 0 & 1 \\\\\n",
       "0 & 0 & 0 & 0 & 0 & 0 & -1 & 0 & 0 \\\\\n",
       "0 & -1 & 0 & 0 & 0 & 0 & 0 & 0 & 0 \\\\\n",
       "0 & 0 & -1 & 0 & 0 & 0 & 0 & 0 & 0 \\\\\n",
       "1 & 0 & 0 & 0 & 0 & 0 & 0 & 0 & 0\n",
       "\\end{array}\\right)</script></html>"
      ],
      "text/plain": [
       "'(1,2,3)' '->' \\left(\\begin{array}{rrr}\n",
       "0 & 1 & 0 \\\\\n",
       "0 & 0 & 1 \\\\\n",
       "1 & 0 & 0\n",
       "\\end{array}\\right) ' ' \\left(\\begin{array}{rrrrrrrrr}\n",
       "0 & 0 & 0 & 0 & 1 & 0 & 0 & 0 & 0 \\\\\n",
       "0 & 0 & 0 & 0 & 0 & 1 & 0 & 0 & 0 \\\\\n",
       "0 & 0 & 0 & -1 & 0 & 0 & 0 & 0 & 0 \\\\\n",
       "0 & 0 & 0 & 0 & 0 & 0 & 0 & 1 & 0 \\\\\n",
       "0 & 0 & 0 & 0 & 0 & 0 & 0 & 0 & 1 \\\\\n",
       "0 & 0 & 0 & 0 & 0 & 0 & -1 & 0 & 0 \\\\\n",
       "0 & -1 & 0 & 0 & 0 & 0 & 0 & 0 & 0 \\\\\n",
       "0 & 0 & -1 & 0 & 0 & 0 & 0 & 0 & 0 \\\\\n",
       "1 & 0 & 0 & 0 & 0 & 0 & 0 & 0 & 0\n",
       "\\end{array}\\right)"
      ]
     },
     "metadata": {},
     "output_type": "display_data"
    },
    {
     "data": {
      "text/html": [
       "<html><script type=\"math/tex; mode=display\">\\newcommand{\\Bold}[1]{\\mathbf{#1}}\\verb|(1,3,4)| \\verb|->| \\left(\\begin{array}{rrr}\n",
       "0 & 1 & 0 \\\\\n",
       "0 & 0 & -1 \\\\\n",
       "-1 & 0 & 0\n",
       "\\end{array}\\right)  \\left(\\begin{array}{rrrrrrrrr}\n",
       "0 & 0 & 0 & 0 & 1 & 0 & 0 & 0 & 0 \\\\\n",
       "0 & 0 & 0 & 0 & 0 & -1 & 0 & 0 & 0 \\\\\n",
       "0 & 0 & 0 & -1 & 0 & 0 & 0 & 0 & 0 \\\\\n",
       "0 & 0 & 0 & 0 & 0 & 0 & 0 & -1 & 0 \\\\\n",
       "0 & 0 & 0 & 0 & 0 & 0 & 0 & 0 & 1 \\\\\n",
       "0 & 0 & 0 & 0 & 0 & 0 & 1 & 0 & 0 \\\\\n",
       "0 & -1 & 0 & 0 & 0 & 0 & 0 & 0 & 0 \\\\\n",
       "0 & 0 & 1 & 0 & 0 & 0 & 0 & 0 & 0 \\\\\n",
       "1 & 0 & 0 & 0 & 0 & 0 & 0 & 0 & 0\n",
       "\\end{array}\\right)</script></html>"
      ],
      "text/plain": [
       "'(1,3,4)' '->' \\left(\\begin{array}{rrr}\n",
       "0 & 1 & 0 \\\\\n",
       "0 & 0 & -1 \\\\\n",
       "-1 & 0 & 0\n",
       "\\end{array}\\right) ' ' \\left(\\begin{array}{rrrrrrrrr}\n",
       "0 & 0 & 0 & 0 & 1 & 0 & 0 & 0 & 0 \\\\\n",
       "0 & 0 & 0 & 0 & 0 & -1 & 0 & 0 & 0 \\\\\n",
       "0 & 0 & 0 & -1 & 0 & 0 & 0 & 0 & 0 \\\\\n",
       "0 & 0 & 0 & 0 & 0 & 0 & 0 & -1 & 0 \\\\\n",
       "0 & 0 & 0 & 0 & 0 & 0 & 0 & 0 & 1 \\\\\n",
       "0 & 0 & 0 & 0 & 0 & 0 & 1 & 0 & 0 \\\\\n",
       "0 & -1 & 0 & 0 & 0 & 0 & 0 & 0 & 0 \\\\\n",
       "0 & 0 & 1 & 0 & 0 & 0 & 0 & 0 & 0 \\\\\n",
       "1 & 0 & 0 & 0 & 0 & 0 & 0 & 0 & 0\n",
       "\\end{array}\\right)"
      ]
     },
     "metadata": {},
     "output_type": "display_data"
    },
    {
     "data": {
      "text/html": [
       "<html><script type=\"math/tex; mode=display\">\\newcommand{\\Bold}[1]{\\mathbf{#1}}\\verb|(1,4,2)| \\verb|->| \\left(\\begin{array}{rrr}\n",
       "0 & -1 & 0 \\\\\n",
       "0 & 0 & 1 \\\\\n",
       "-1 & 0 & 0\n",
       "\\end{array}\\right)  \\left(\\begin{array}{rrrrrrrrr}\n",
       "0 & 0 & 0 & 0 & 1 & 0 & 0 & 0 & 0 \\\\\n",
       "0 & 0 & 0 & 0 & 0 & 1 & 0 & 0 & 0 \\\\\n",
       "0 & 0 & 0 & 1 & 0 & 0 & 0 & 0 & 0 \\\\\n",
       "0 & 0 & 0 & 0 & 0 & 0 & 0 & 1 & 0 \\\\\n",
       "0 & 0 & 0 & 0 & 0 & 0 & 0 & 0 & 1 \\\\\n",
       "0 & 0 & 0 & 0 & 0 & 0 & 1 & 0 & 0 \\\\\n",
       "0 & 1 & 0 & 0 & 0 & 0 & 0 & 0 & 0 \\\\\n",
       "0 & 0 & 1 & 0 & 0 & 0 & 0 & 0 & 0 \\\\\n",
       "1 & 0 & 0 & 0 & 0 & 0 & 0 & 0 & 0\n",
       "\\end{array}\\right)</script></html>"
      ],
      "text/plain": [
       "'(1,4,2)' '->' \\left(\\begin{array}{rrr}\n",
       "0 & -1 & 0 \\\\\n",
       "0 & 0 & 1 \\\\\n",
       "-1 & 0 & 0\n",
       "\\end{array}\\right) ' ' \\left(\\begin{array}{rrrrrrrrr}\n",
       "0 & 0 & 0 & 0 & 1 & 0 & 0 & 0 & 0 \\\\\n",
       "0 & 0 & 0 & 0 & 0 & 1 & 0 & 0 & 0 \\\\\n",
       "0 & 0 & 0 & 1 & 0 & 0 & 0 & 0 & 0 \\\\\n",
       "0 & 0 & 0 & 0 & 0 & 0 & 0 & 1 & 0 \\\\\n",
       "0 & 0 & 0 & 0 & 0 & 0 & 0 & 0 & 1 \\\\\n",
       "0 & 0 & 0 & 0 & 0 & 0 & 1 & 0 & 0 \\\\\n",
       "0 & 1 & 0 & 0 & 0 & 0 & 0 & 0 & 0 \\\\\n",
       "0 & 0 & 1 & 0 & 0 & 0 & 0 & 0 & 0 \\\\\n",
       "1 & 0 & 0 & 0 & 0 & 0 & 0 & 0 & 0\n",
       "\\end{array}\\right)"
      ]
     },
     "metadata": {},
     "output_type": "display_data"
    },
    {
     "data": {
      "text/html": [
       "<html><script type=\"math/tex; mode=display\">\\newcommand{\\Bold}[1]{\\mathbf{#1}}\\verb|(2,3,4)| \\verb|->| \\left(\\begin{array}{rrr}\n",
       "0 & 0 & 1 \\\\\n",
       "-1 & 0 & 0 \\\\\n",
       "0 & -1 & 0\n",
       "\\end{array}\\right)  \\left(\\begin{array}{rrrrrrrrr}\n",
       "0 & 0 & 0 & 0 & 0 & 0 & 0 & 0 & 1 \\\\\n",
       "0 & 0 & 0 & 0 & 0 & 0 & 1 & 0 & 0 \\\\\n",
       "0 & 0 & 0 & 0 & 0 & 0 & 0 & -1 & 0 \\\\\n",
       "0 & 0 & 1 & 0 & 0 & 0 & 0 & 0 & 0 \\\\\n",
       "1 & 0 & 0 & 0 & 0 & 0 & 0 & 0 & 0 \\\\\n",
       "0 & -1 & 0 & 0 & 0 & 0 & 0 & 0 & 0 \\\\\n",
       "0 & 0 & 0 & 0 & 0 & -1 & 0 & 0 & 0 \\\\\n",
       "0 & 0 & 0 & -1 & 0 & 0 & 0 & 0 & 0 \\\\\n",
       "0 & 0 & 0 & 0 & 1 & 0 & 0 & 0 & 0\n",
       "\\end{array}\\right)</script></html>"
      ],
      "text/plain": [
       "'(2,3,4)' '->' \\left(\\begin{array}{rrr}\n",
       "0 & 0 & 1 \\\\\n",
       "-1 & 0 & 0 \\\\\n",
       "0 & -1 & 0\n",
       "\\end{array}\\right) ' ' \\left(\\begin{array}{rrrrrrrrr}\n",
       "0 & 0 & 0 & 0 & 0 & 0 & 0 & 0 & 1 \\\\\n",
       "0 & 0 & 0 & 0 & 0 & 0 & 1 & 0 & 0 \\\\\n",
       "0 & 0 & 0 & 0 & 0 & 0 & 0 & -1 & 0 \\\\\n",
       "0 & 0 & 1 & 0 & 0 & 0 & 0 & 0 & 0 \\\\\n",
       "1 & 0 & 0 & 0 & 0 & 0 & 0 & 0 & 0 \\\\\n",
       "0 & -1 & 0 & 0 & 0 & 0 & 0 & 0 & 0 \\\\\n",
       "0 & 0 & 0 & 0 & 0 & -1 & 0 & 0 & 0 \\\\\n",
       "0 & 0 & 0 & -1 & 0 & 0 & 0 & 0 & 0 \\\\\n",
       "0 & 0 & 0 & 0 & 1 & 0 & 0 & 0 & 0\n",
       "\\end{array}\\right)"
      ]
     },
     "metadata": {},
     "output_type": "display_data"
    },
    {
     "data": {
      "text/html": [
       "<html><script type=\"math/tex; mode=display\">\\newcommand{\\Bold}[1]{\\mathbf{#1}}\\verb|(1,2,4)| \\verb|->| \\left(\\begin{array}{rrr}\n",
       "0 & 0 & -1 \\\\\n",
       "-1 & 0 & 0 \\\\\n",
       "0 & 1 & 0\n",
       "\\end{array}\\right)  \\left(\\begin{array}{rrrrrrrrr}\n",
       "0 & 0 & 0 & 0 & 0 & 0 & 0 & 0 & 1 \\\\\n",
       "0 & 0 & 0 & 0 & 0 & 0 & 1 & 0 & 0 \\\\\n",
       "0 & 0 & 0 & 0 & 0 & 0 & 0 & 1 & 0 \\\\\n",
       "0 & 0 & 1 & 0 & 0 & 0 & 0 & 0 & 0 \\\\\n",
       "1 & 0 & 0 & 0 & 0 & 0 & 0 & 0 & 0 \\\\\n",
       "0 & 1 & 0 & 0 & 0 & 0 & 0 & 0 & 0 \\\\\n",
       "0 & 0 & 0 & 0 & 0 & 1 & 0 & 0 & 0 \\\\\n",
       "0 & 0 & 0 & 1 & 0 & 0 & 0 & 0 & 0 \\\\\n",
       "0 & 0 & 0 & 0 & 1 & 0 & 0 & 0 & 0\n",
       "\\end{array}\\right)</script></html>"
      ],
      "text/plain": [
       "'(1,2,4)' '->' \\left(\\begin{array}{rrr}\n",
       "0 & 0 & -1 \\\\\n",
       "-1 & 0 & 0 \\\\\n",
       "0 & 1 & 0\n",
       "\\end{array}\\right) ' ' \\left(\\begin{array}{rrrrrrrrr}\n",
       "0 & 0 & 0 & 0 & 0 & 0 & 0 & 0 & 1 \\\\\n",
       "0 & 0 & 0 & 0 & 0 & 0 & 1 & 0 & 0 \\\\\n",
       "0 & 0 & 0 & 0 & 0 & 0 & 0 & 1 & 0 \\\\\n",
       "0 & 0 & 1 & 0 & 0 & 0 & 0 & 0 & 0 \\\\\n",
       "1 & 0 & 0 & 0 & 0 & 0 & 0 & 0 & 0 \\\\\n",
       "0 & 1 & 0 & 0 & 0 & 0 & 0 & 0 & 0 \\\\\n",
       "0 & 0 & 0 & 0 & 0 & 1 & 0 & 0 & 0 \\\\\n",
       "0 & 0 & 0 & 1 & 0 & 0 & 0 & 0 & 0 \\\\\n",
       "0 & 0 & 0 & 0 & 1 & 0 & 0 & 0 & 0\n",
       "\\end{array}\\right)"
      ]
     },
     "metadata": {},
     "output_type": "display_data"
    },
    {
     "data": {
      "text/html": [
       "<html><script type=\"math/tex; mode=display\">\\newcommand{\\Bold}[1]{\\mathbf{#1}}\\verb|(1,3,2)| \\verb|->| \\left(\\begin{array}{rrr}\n",
       "0 & 0 & 1 \\\\\n",
       "1 & 0 & 0 \\\\\n",
       "0 & 1 & 0\n",
       "\\end{array}\\right)  \\left(\\begin{array}{rrrrrrrrr}\n",
       "0 & 0 & 0 & 0 & 0 & 0 & 0 & 0 & 1 \\\\\n",
       "0 & 0 & 0 & 0 & 0 & 0 & -1 & 0 & 0 \\\\\n",
       "0 & 0 & 0 & 0 & 0 & 0 & 0 & -1 & 0 \\\\\n",
       "0 & 0 & -1 & 0 & 0 & 0 & 0 & 0 & 0 \\\\\n",
       "1 & 0 & 0 & 0 & 0 & 0 & 0 & 0 & 0 \\\\\n",
       "0 & 1 & 0 & 0 & 0 & 0 & 0 & 0 & 0 \\\\\n",
       "0 & 0 & 0 & 0 & 0 & -1 & 0 & 0 & 0 \\\\\n",
       "0 & 0 & 0 & 1 & 0 & 0 & 0 & 0 & 0 \\\\\n",
       "0 & 0 & 0 & 0 & 1 & 0 & 0 & 0 & 0\n",
       "\\end{array}\\right)</script></html>"
      ],
      "text/plain": [
       "'(1,3,2)' '->' \\left(\\begin{array}{rrr}\n",
       "0 & 0 & 1 \\\\\n",
       "1 & 0 & 0 \\\\\n",
       "0 & 1 & 0\n",
       "\\end{array}\\right) ' ' \\left(\\begin{array}{rrrrrrrrr}\n",
       "0 & 0 & 0 & 0 & 0 & 0 & 0 & 0 & 1 \\\\\n",
       "0 & 0 & 0 & 0 & 0 & 0 & -1 & 0 & 0 \\\\\n",
       "0 & 0 & 0 & 0 & 0 & 0 & 0 & -1 & 0 \\\\\n",
       "0 & 0 & -1 & 0 & 0 & 0 & 0 & 0 & 0 \\\\\n",
       "1 & 0 & 0 & 0 & 0 & 0 & 0 & 0 & 0 \\\\\n",
       "0 & 1 & 0 & 0 & 0 & 0 & 0 & 0 & 0 \\\\\n",
       "0 & 0 & 0 & 0 & 0 & -1 & 0 & 0 & 0 \\\\\n",
       "0 & 0 & 0 & 1 & 0 & 0 & 0 & 0 & 0 \\\\\n",
       "0 & 0 & 0 & 0 & 1 & 0 & 0 & 0 & 0\n",
       "\\end{array}\\right)"
      ]
     },
     "metadata": {},
     "output_type": "display_data"
    },
    {
     "data": {
      "text/html": [
       "<html><script type=\"math/tex; mode=display\">\\newcommand{\\Bold}[1]{\\mathbf{#1}}\\verb|(1,4,3)| \\verb|->| \\left(\\begin{array}{rrr}\n",
       "0 & 0 & -1 \\\\\n",
       "1 & 0 & 0 \\\\\n",
       "0 & -1 & 0\n",
       "\\end{array}\\right)  \\left(\\begin{array}{rrrrrrrrr}\n",
       "0 & 0 & 0 & 0 & 0 & 0 & 0 & 0 & 1 \\\\\n",
       "0 & 0 & 0 & 0 & 0 & 0 & -1 & 0 & 0 \\\\\n",
       "0 & 0 & 0 & 0 & 0 & 0 & 0 & 1 & 0 \\\\\n",
       "0 & 0 & -1 & 0 & 0 & 0 & 0 & 0 & 0 \\\\\n",
       "1 & 0 & 0 & 0 & 0 & 0 & 0 & 0 & 0 \\\\\n",
       "0 & -1 & 0 & 0 & 0 & 0 & 0 & 0 & 0 \\\\\n",
       "0 & 0 & 0 & 0 & 0 & 1 & 0 & 0 & 0 \\\\\n",
       "0 & 0 & 0 & -1 & 0 & 0 & 0 & 0 & 0 \\\\\n",
       "0 & 0 & 0 & 0 & 1 & 0 & 0 & 0 & 0\n",
       "\\end{array}\\right)</script></html>"
      ],
      "text/plain": [
       "'(1,4,3)' '->' \\left(\\begin{array}{rrr}\n",
       "0 & 0 & -1 \\\\\n",
       "1 & 0 & 0 \\\\\n",
       "0 & -1 & 0\n",
       "\\end{array}\\right) ' ' \\left(\\begin{array}{rrrrrrrrr}\n",
       "0 & 0 & 0 & 0 & 0 & 0 & 0 & 0 & 1 \\\\\n",
       "0 & 0 & 0 & 0 & 0 & 0 & -1 & 0 & 0 \\\\\n",
       "0 & 0 & 0 & 0 & 0 & 0 & 0 & 1 & 0 \\\\\n",
       "0 & 0 & -1 & 0 & 0 & 0 & 0 & 0 & 0 \\\\\n",
       "1 & 0 & 0 & 0 & 0 & 0 & 0 & 0 & 0 \\\\\n",
       "0 & -1 & 0 & 0 & 0 & 0 & 0 & 0 & 0 \\\\\n",
       "0 & 0 & 0 & 0 & 0 & 1 & 0 & 0 & 0 \\\\\n",
       "0 & 0 & 0 & -1 & 0 & 0 & 0 & 0 & 0 \\\\\n",
       "0 & 0 & 0 & 0 & 1 & 0 & 0 & 0 & 0\n",
       "\\end{array}\\right)"
      ]
     },
     "metadata": {},
     "output_type": "display_data"
    }
   ],
   "source": [
    "for i, g in enumerate(gs_tetra):\n",
    "    # if i>3:\n",
    "    show(g,\"->\", latex(matrix(mats_tetra_F[i])),\" \",latex(matrix(mats_tetra_FxF[i])))"
   ]
  },
  {
   "cell_type": "code",
   "execution_count": 290,
   "metadata": {
    "collapsed": true
   },
   "outputs": [
    {
     "name": "stdout",
     "output_type": "stream",
     "text": [
      "for element  (2,4,3)\n",
      "eigenvalue:\n"
     ]
    },
    {
     "data": {
      "text/html": [
       "<html><script type=\"math/tex; mode=display\">\\newcommand{\\Bold}[1]{\\mathbf{#1}}(1, 0, 0)</script></html>"
      ],
      "text/plain": [
       "(1, 0, 0)"
      ]
     },
     "metadata": {},
     "output_type": "display_data"
    },
    {
     "name": "stdout",
     "output_type": "stream",
     "text": [
      "basis func:\n"
     ]
    },
    {
     "data": {
      "text/html": [
       "<html><script type=\"math/tex; mode=display\">\\newcommand{\\Bold}[1]{\\mathbf{#1}}\\psi_{0}-\\psi_{1}+\\psi_{2}</script></html>"
      ],
      "text/plain": [
       "\\psi_{0}-\\psi_{1}+\\psi_{2}"
      ]
     },
     "metadata": {},
     "output_type": "display_data"
    },
    {
     "name": "stdout",
     "output_type": "stream",
     "text": [
      "##########\n",
      "for element  (2,4,3)\n",
      "eigenvalue:\n"
     ]
    },
    {
     "data": {
      "text/html": [
       "<html><script type=\"math/tex; mode=display\">\\newcommand{\\Bold}[1]{\\mathbf{#1}}(0, \\varepsilon^{2}, 0)</script></html>"
      ],
      "text/plain": [
       "(0, \\varepsilon^{2}, 0)"
      ]
     },
     "metadata": {},
     "output_type": "display_data"
    },
    {
     "name": "stdout",
     "output_type": "stream",
     "text": [
      "basis func:\n"
     ]
    },
    {
     "data": {
      "text/html": [
       "<html><script type=\"math/tex; mode=display\">\\newcommand{\\Bold}[1]{\\mathbf{#1}}\\psi_{0}+-\\varepsilon \\psi_{1}+\\varepsilon^{2} \\psi_{2}</script></html>"
      ],
      "text/plain": [
       "\\psi_{0}+-\\varepsilon \\psi_{1}+\\varepsilon^{2} \\psi_{2}"
      ]
     },
     "metadata": {},
     "output_type": "display_data"
    },
    {
     "name": "stdout",
     "output_type": "stream",
     "text": [
      "##########\n",
      "for element  (2,4,3)\n",
      "eigenvalue:\n"
     ]
    },
    {
     "data": {
      "text/html": [
       "<html><script type=\"math/tex; mode=display\">\\newcommand{\\Bold}[1]{\\mathbf{#1}}(0, 0, \\varepsilon)</script></html>"
      ],
      "text/plain": [
       "(0, 0, \\varepsilon)"
      ]
     },
     "metadata": {},
     "output_type": "display_data"
    },
    {
     "name": "stdout",
     "output_type": "stream",
     "text": [
      "basis func:\n"
     ]
    },
    {
     "data": {
      "text/html": [
       "<html><script type=\"math/tex; mode=display\">\\newcommand{\\Bold}[1]{\\mathbf{#1}}\\psi_{0}+-\\varepsilon^{2} \\psi_{1}+\\varepsilon \\psi_{2}</script></html>"
      ],
      "text/plain": [
       "\\psi_{0}+-\\varepsilon^{2} \\psi_{1}+\\varepsilon \\psi_{2}"
      ]
     },
     "metadata": {},
     "output_type": "display_data"
    },
    {
     "name": "stdout",
     "output_type": "stream",
     "text": [
      "##########\n"
     ]
    }
   ],
   "source": [
    "g_idx = 4\n",
    "for i in range(3):\n",
    "    print(\"for element \",gs_tetra[g_idx])\n",
    "    get_basis_func(mats_tetra_F[g_idx], i)"
   ]
  },
  {
   "cell_type": "markdown",
   "metadata": {},
   "source": [
    "### Representation of direct product $F\\times F$  of irreducible representation $F$ of degry 3 of group $T$  "
   ]
  },
  {
   "cell_type": "markdown",
   "metadata": {},
   "source": [
    "to get matrixes `mats_tetra_FxF` following `GAP` code used:\n",
    "```\n",
    "tetra:=Group((1,2)(3,4),(1,4)(2,3),(2,3,4));;\n",
    "tbl:=CharacterTable(tetra);;\n",
    "First(Irr(tbl),e->e[1]=3);;\n",
    "hom:=IrreducibleRepresentationsDixon(tetra,last:unary);;\n",
    "List(List(tetr),e->KroneckerProduct(Image(hom, e),Image(hom,e)));\n",
    "```"
   ]
  },
  {
   "cell_type": "code",
   "execution_count": 2,
   "metadata": {},
   "outputs": [],
   "source": [
    "gs_tetra=[ \"()\", \"(1,2)(3,4)\", \"(1,3)(2,4)\", \"(1,4)(2,3)\", \"(2,4,3)\", \"(1,2,3)\", \"(1,3,4)\", \n",
    "    \"(1,4,2)\", \"(2,3,4)\", \"(1,2,4)\", \"(1,3,2)\", \"(1,4,3)\" ]\n",
    "\n",
    "mats_tetra_FxF=[ [ [ 1, 0, 0, 0, 0, 0, 0, 0, 0 ], [ 0, 1, 0, 0, 0, 0, 0, 0, 0 ], \n",
    "      [ 0, 0, 1, 0, 0, 0, 0, 0, 0 ], [ 0, 0, 0, 1, 0, 0, 0, 0, 0 ], \n",
    "      [ 0, 0, 0, 0, 1, 0, 0, 0, 0 ], [ 0, 0, 0, 0, 0, 1, 0, 0, 0 ], \n",
    "      [ 0, 0, 0, 0, 0, 0, 1, 0, 0 ], [ 0, 0, 0, 0, 0, 0, 0, 1, 0 ], \n",
    "      [ 0, 0, 0, 0, 0, 0, 0, 0, 1 ] ], \n",
    "  [ [ 1, 0, 0, 0, 0, 0, 0, 0, 0 ], [ 0, -1, 0, 0, 0, 0, 0, 0, 0 ], \n",
    "      [ 0, 0, 1, 0, 0, 0, 0, 0, 0 ], [ 0, 0, 0, -1, 0, 0, 0, 0, 0 ], \n",
    "      [ 0, 0, 0, 0, 1, 0, 0, 0, 0 ], [ 0, 0, 0, 0, 0, -1, 0, 0, 0 ], \n",
    "      [ 0, 0, 0, 0, 0, 0, 1, 0, 0 ], [ 0, 0, 0, 0, 0, 0, 0, -1, 0 ], \n",
    "      [ 0, 0, 0, 0, 0, 0, 0, 0, 1 ] ], \n",
    "  [ [ 1, 0, 0, 0, 0, 0, 0, 0, 0 ], [ 0, -1, 0, 0, 0, 0, 0, 0, 0 ], \n",
    "      [ 0, 0, -1, 0, 0, 0, 0, 0, 0 ], [ 0, 0, 0, -1, 0, 0, 0, 0, 0 ], \n",
    "      [ 0, 0, 0, 0, 1, 0, 0, 0, 0 ], [ 0, 0, 0, 0, 0, 1, 0, 0, 0 ], \n",
    "      [ 0, 0, 0, 0, 0, 0, -1, 0, 0 ], [ 0, 0, 0, 0, 0, 0, 0, 1, 0 ], \n",
    "      [ 0, 0, 0, 0, 0, 0, 0, 0, 1 ] ], \n",
    "  [ [ 1, 0, 0, 0, 0, 0, 0, 0, 0 ], [ 0, 1, 0, 0, 0, 0, 0, 0, 0 ], \n",
    "      [ 0, 0, -1, 0, 0, 0, 0, 0, 0 ], [ 0, 0, 0, 1, 0, 0, 0, 0, 0 ], \n",
    "      [ 0, 0, 0, 0, 1, 0, 0, 0, 0 ], [ 0, 0, 0, 0, 0, -1, 0, 0, 0 ], \n",
    "      [ 0, 0, 0, 0, 0, 0, -1, 0, 0 ], [ 0, 0, 0, 0, 0, 0, 0, -1, 0 ], \n",
    "      [ 0, 0, 0, 0, 0, 0, 0, 0, 1 ] ], \n",
    "  [ [ 0, 0, 0, 0, 1, 0, 0, 0, 0 ], [ 0, 0, 0, 0, 0, -1, 0, 0, 0 ], \n",
    "      [ 0, 0, 0, 1, 0, 0, 0, 0, 0 ], [ 0, 0, 0, 0, 0, 0, 0, -1, 0 ], \n",
    "      [ 0, 0, 0, 0, 0, 0, 0, 0, 1 ], [ 0, 0, 0, 0, 0, 0, -1, 0, 0 ], \n",
    "      [ 0, 1, 0, 0, 0, 0, 0, 0, 0 ], [ 0, 0, -1, 0, 0, 0, 0, 0, 0 ], \n",
    "      [ 1, 0, 0, 0, 0, 0, 0, 0, 0 ] ], \n",
    "  [ [ 0, 0, 0, 0, 1, 0, 0, 0, 0 ], [ 0, 0, 0, 0, 0, 1, 0, 0, 0 ], \n",
    "      [ 0, 0, 0, -1, 0, 0, 0, 0, 0 ], [ 0, 0, 0, 0, 0, 0, 0, 1, 0 ], \n",
    "      [ 0, 0, 0, 0, 0, 0, 0, 0, 1 ], [ 0, 0, 0, 0, 0, 0, -1, 0, 0 ], \n",
    "      [ 0, -1, 0, 0, 0, 0, 0, 0, 0 ], [ 0, 0, -1, 0, 0, 0, 0, 0, 0 ], \n",
    "      [ 1, 0, 0, 0, 0, 0, 0, 0, 0 ] ], \n",
    "  [ [ 0, 0, 0, 0, 1, 0, 0, 0, 0 ], [ 0, 0, 0, 0, 0, -1, 0, 0, 0 ], \n",
    "      [ 0, 0, 0, -1, 0, 0, 0, 0, 0 ], [ 0, 0, 0, 0, 0, 0, 0, -1, 0 ], \n",
    "      [ 0, 0, 0, 0, 0, 0, 0, 0, 1 ], [ 0, 0, 0, 0, 0, 0, 1, 0, 0 ], \n",
    "      [ 0, -1, 0, 0, 0, 0, 0, 0, 0 ], [ 0, 0, 1, 0, 0, 0, 0, 0, 0 ], \n",
    "      [ 1, 0, 0, 0, 0, 0, 0, 0, 0 ] ], \n",
    "  [ [ 0, 0, 0, 0, 1, 0, 0, 0, 0 ], [ 0, 0, 0, 0, 0, 1, 0, 0, 0 ], \n",
    "      [ 0, 0, 0, 1, 0, 0, 0, 0, 0 ], [ 0, 0, 0, 0, 0, 0, 0, 1, 0 ], \n",
    "      [ 0, 0, 0, 0, 0, 0, 0, 0, 1 ], [ 0, 0, 0, 0, 0, 0, 1, 0, 0 ], \n",
    "      [ 0, 1, 0, 0, 0, 0, 0, 0, 0 ], [ 0, 0, 1, 0, 0, 0, 0, 0, 0 ], \n",
    "      [ 1, 0, 0, 0, 0, 0, 0, 0, 0 ] ], \n",
    "  [ [ 0, 0, 0, 0, 0, 0, 0, 0, 1 ], [ 0, 0, 0, 0, 0, 0, 1, 0, 0 ], \n",
    "      [ 0, 0, 0, 0, 0, 0, 0, -1, 0 ], [ 0, 0, 1, 0, 0, 0, 0, 0, 0 ], \n",
    "      [ 1, 0, 0, 0, 0, 0, 0, 0, 0 ], [ 0, -1, 0, 0, 0, 0, 0, 0, 0 ], \n",
    "      [ 0, 0, 0, 0, 0, -1, 0, 0, 0 ], [ 0, 0, 0, -1, 0, 0, 0, 0, 0 ], \n",
    "      [ 0, 0, 0, 0, 1, 0, 0, 0, 0 ] ], \n",
    "  [ [ 0, 0, 0, 0, 0, 0, 0, 0, 1 ], [ 0, 0, 0, 0, 0, 0, 1, 0, 0 ], \n",
    "      [ 0, 0, 0, 0, 0, 0, 0, 1, 0 ], [ 0, 0, 1, 0, 0, 0, 0, 0, 0 ], \n",
    "      [ 1, 0, 0, 0, 0, 0, 0, 0, 0 ], [ 0, 1, 0, 0, 0, 0, 0, 0, 0 ], \n",
    "      [ 0, 0, 0, 0, 0, 1, 0, 0, 0 ], [ 0, 0, 0, 1, 0, 0, 0, 0, 0 ], \n",
    "      [ 0, 0, 0, 0, 1, 0, 0, 0, 0 ] ], \n",
    "  [ [ 0, 0, 0, 0, 0, 0, 0, 0, 1 ], [ 0, 0, 0, 0, 0, 0, -1, 0, 0 ], \n",
    "      [ 0, 0, 0, 0, 0, 0, 0, -1, 0 ], [ 0, 0, -1, 0, 0, 0, 0, 0, 0 ], \n",
    "      [ 1, 0, 0, 0, 0, 0, 0, 0, 0 ], [ 0, 1, 0, 0, 0, 0, 0, 0, 0 ], \n",
    "      [ 0, 0, 0, 0, 0, -1, 0, 0, 0 ], [ 0, 0, 0, 1, 0, 0, 0, 0, 0 ], \n",
    "      [ 0, 0, 0, 0, 1, 0, 0, 0, 0 ] ], \n",
    "  [ [ 0, 0, 0, 0, 0, 0, 0, 0, 1 ], [ 0, 0, 0, 0, 0, 0, -1, 0, 0 ], \n",
    "      [ 0, 0, 0, 0, 0, 0, 0, 1, 0 ], [ 0, 0, -1, 0, 0, 0, 0, 0, 0 ], \n",
    "      [ 1, 0, 0, 0, 0, 0, 0, 0, 0 ], [ 0, -1, 0, 0, 0, 0, 0, 0, 0 ], \n",
    "      [ 0, 0, 0, 0, 0, 1, 0, 0, 0 ], [ 0, 0, 0, -1, 0, 0, 0, 0, 0 ], \n",
    "      [ 0, 0, 0, 0, 1, 0, 0, 0, 0 ] ] ]\n"
   ]
  },
  {
   "cell_type": "code",
   "execution_count": null,
   "metadata": {},
   "outputs": [],
   "source": [
    "for i, g in enumerate(gs_tetra):\n",
    "    # if i>3:\n",
    "    show(g,\"->\", latex(matrix(mats_tetra_FxF[i])))"
   ]
  },
  {
   "cell_type": "code",
   "execution_count": 17,
   "metadata": {},
   "outputs": [
    {
     "name": "stdout",
     "output_type": "stream",
     "text": [
      "for element  (2,4,3)\n",
      "eigenvalue:\n"
     ]
    },
    {
     "data": {
      "text/html": [
       "<html><script type=\"math/tex; mode=display\">\\newcommand{\\Bold}[1]{\\mathbf{#1}}(1, 0, 0, 0, 0, 0, 0, 0, 0)</script></html>"
      ],
      "text/plain": [
       "(1, 0, 0, 0, 0, 0, 0, 0, 0)"
      ]
     },
     "metadata": {},
     "output_type": "display_data"
    },
    {
     "name": "stdout",
     "output_type": "stream",
     "text": [
      "basis func:\n"
     ]
    },
    {
     "data": {
      "text/html": [
       "<html><script type=\"math/tex; mode=display\">\\newcommand{\\Bold}[1]{\\mathbf{#1}}\\psi_{0}+\\psi_{4}+\\psi_{8}</script></html>"
      ],
      "text/plain": [
       "\\psi_{0}+\\psi_{4}+\\psi_{8}"
      ]
     },
     "metadata": {},
     "output_type": "display_data"
    },
    {
     "name": "stdout",
     "output_type": "stream",
     "text": [
      "##########\n",
      "for element  (2,4,3)\n",
      "eigenvalue:\n"
     ]
    },
    {
     "data": {
      "text/html": [
       "<html><script type=\"math/tex; mode=display\">\\newcommand{\\Bold}[1]{\\mathbf{#1}}(0, 1, 0, 0, 0, 0, 0, 0, 0)</script></html>"
      ],
      "text/plain": [
       "(0, 1, 0, 0, 0, 0, 0, 0, 0)"
      ]
     },
     "metadata": {},
     "output_type": "display_data"
    },
    {
     "name": "stdout",
     "output_type": "stream",
     "text": [
      "basis func:\n"
     ]
    },
    {
     "data": {
      "text/html": [
       "<html><script type=\"math/tex; mode=display\">\\newcommand{\\Bold}[1]{\\mathbf{#1}}\\psi_{1}-\\psi_{5}+\\psi_{6}</script></html>"
      ],
      "text/plain": [
       "\\psi_{1}-\\psi_{5}+\\psi_{6}"
      ]
     },
     "metadata": {},
     "output_type": "display_data"
    },
    {
     "name": "stdout",
     "output_type": "stream",
     "text": [
      "##########\n",
      "for element  (2,4,3)\n",
      "eigenvalue:\n"
     ]
    },
    {
     "data": {
      "text/html": [
       "<html><script type=\"math/tex; mode=display\">\\newcommand{\\Bold}[1]{\\mathbf{#1}}(0, 0, 1, 0, 0, 0, 0, 0, 0)</script></html>"
      ],
      "text/plain": [
       "(0, 0, 1, 0, 0, 0, 0, 0, 0)"
      ]
     },
     "metadata": {},
     "output_type": "display_data"
    },
    {
     "name": "stdout",
     "output_type": "stream",
     "text": [
      "basis func:\n"
     ]
    },
    {
     "data": {
      "text/html": [
       "<html><script type=\"math/tex; mode=display\">\\newcommand{\\Bold}[1]{\\mathbf{#1}}\\psi_{2}+\\psi_{3}-\\psi_{7}</script></html>"
      ],
      "text/plain": [
       "\\psi_{2}+\\psi_{3}-\\psi_{7}"
      ]
     },
     "metadata": {},
     "output_type": "display_data"
    },
    {
     "name": "stdout",
     "output_type": "stream",
     "text": [
      "##########\n",
      "for element  (2,4,3)\n",
      "eigenvalue:\n"
     ]
    },
    {
     "data": {
      "text/html": [
       "<html><script type=\"math/tex; mode=display\">\\newcommand{\\Bold}[1]{\\mathbf{#1}}(0, 0, 0, \\varepsilon^{2}, 0, 0, 0, 0, 0)</script></html>"
      ],
      "text/plain": [
       "(0, 0, 0, \\varepsilon^{2}, 0, 0, 0, 0, 0)"
      ]
     },
     "metadata": {},
     "output_type": "display_data"
    },
    {
     "name": "stdout",
     "output_type": "stream",
     "text": [
      "basis func:\n"
     ]
    },
    {
     "data": {
      "text/html": [
       "<html><script type=\"math/tex; mode=display\">\\newcommand{\\Bold}[1]{\\mathbf{#1}}\\psi_{0}+\\varepsilon \\psi_{4}+\\varepsilon^{2} \\psi_{8}</script></html>"
      ],
      "text/plain": [
       "\\psi_{0}+\\varepsilon \\psi_{4}+\\varepsilon^{2} \\psi_{8}"
      ]
     },
     "metadata": {},
     "output_type": "display_data"
    },
    {
     "name": "stdout",
     "output_type": "stream",
     "text": [
      "##########\n",
      "for element  (2,4,3)\n",
      "eigenvalue:\n"
     ]
    },
    {
     "data": {
      "text/html": [
       "<html><script type=\"math/tex; mode=display\">\\newcommand{\\Bold}[1]{\\mathbf{#1}}(0, 0, 0, 0, \\varepsilon^{2}, 0, 0, 0, 0)</script></html>"
      ],
      "text/plain": [
       "(0, 0, 0, 0, \\varepsilon^{2}, 0, 0, 0, 0)"
      ]
     },
     "metadata": {},
     "output_type": "display_data"
    },
    {
     "name": "stdout",
     "output_type": "stream",
     "text": [
      "basis func:\n"
     ]
    },
    {
     "data": {
      "text/html": [
       "<html><script type=\"math/tex; mode=display\">\\newcommand{\\Bold}[1]{\\mathbf{#1}}\\psi_{1}+-\\varepsilon \\psi_{5}+\\varepsilon^{2} \\psi_{6}</script></html>"
      ],
      "text/plain": [
       "\\psi_{1}+-\\varepsilon \\psi_{5}+\\varepsilon^{2} \\psi_{6}"
      ]
     },
     "metadata": {},
     "output_type": "display_data"
    },
    {
     "name": "stdout",
     "output_type": "stream",
     "text": [
      "##########\n",
      "for element  (2,4,3)\n",
      "eigenvalue:\n"
     ]
    },
    {
     "data": {
      "text/html": [
       "<html><script type=\"math/tex; mode=display\">\\newcommand{\\Bold}[1]{\\mathbf{#1}}(0, 0, 0, 0, 0, \\varepsilon^{2}, 0, 0, 0)</script></html>"
      ],
      "text/plain": [
       "(0, 0, 0, 0, 0, \\varepsilon^{2}, 0, 0, 0)"
      ]
     },
     "metadata": {},
     "output_type": "display_data"
    },
    {
     "name": "stdout",
     "output_type": "stream",
     "text": [
      "basis func:\n"
     ]
    },
    {
     "data": {
      "text/html": [
       "<html><script type=\"math/tex; mode=display\">\\newcommand{\\Bold}[1]{\\mathbf{#1}}\\psi_{2}+\\varepsilon \\psi_{3}+-\\varepsilon^{2} \\psi_{7}</script></html>"
      ],
      "text/plain": [
       "\\psi_{2}+\\varepsilon \\psi_{3}+-\\varepsilon^{2} \\psi_{7}"
      ]
     },
     "metadata": {},
     "output_type": "display_data"
    },
    {
     "name": "stdout",
     "output_type": "stream",
     "text": [
      "##########\n",
      "for element  (2,4,3)\n",
      "eigenvalue:\n"
     ]
    },
    {
     "data": {
      "text/html": [
       "<html><script type=\"math/tex; mode=display\">\\newcommand{\\Bold}[1]{\\mathbf{#1}}(0, 0, 0, 0, 0, 0, \\varepsilon, 0, 0)</script></html>"
      ],
      "text/plain": [
       "(0, 0, 0, 0, 0, 0, \\varepsilon, 0, 0)"
      ]
     },
     "metadata": {},
     "output_type": "display_data"
    },
    {
     "name": "stdout",
     "output_type": "stream",
     "text": [
      "basis func:\n"
     ]
    },
    {
     "data": {
      "text/html": [
       "<html><script type=\"math/tex; mode=display\">\\newcommand{\\Bold}[1]{\\mathbf{#1}}\\psi_{0}+\\varepsilon^{2} \\psi_{4}+\\varepsilon \\psi_{8}</script></html>"
      ],
      "text/plain": [
       "\\psi_{0}+\\varepsilon^{2} \\psi_{4}+\\varepsilon \\psi_{8}"
      ]
     },
     "metadata": {},
     "output_type": "display_data"
    },
    {
     "name": "stdout",
     "output_type": "stream",
     "text": [
      "##########\n",
      "for element  (2,4,3)\n",
      "eigenvalue:\n"
     ]
    },
    {
     "data": {
      "text/html": [
       "<html><script type=\"math/tex; mode=display\">\\newcommand{\\Bold}[1]{\\mathbf{#1}}(0, 0, 0, 0, 0, 0, 0, \\varepsilon, 0)</script></html>"
      ],
      "text/plain": [
       "(0, 0, 0, 0, 0, 0, 0, \\varepsilon, 0)"
      ]
     },
     "metadata": {},
     "output_type": "display_data"
    },
    {
     "name": "stdout",
     "output_type": "stream",
     "text": [
      "basis func:\n"
     ]
    },
    {
     "data": {
      "text/html": [
       "<html><script type=\"math/tex; mode=display\">\\newcommand{\\Bold}[1]{\\mathbf{#1}}\\psi_{1}+-\\varepsilon^{2} \\psi_{5}+\\varepsilon \\psi_{6}</script></html>"
      ],
      "text/plain": [
       "\\psi_{1}+-\\varepsilon^{2} \\psi_{5}+\\varepsilon \\psi_{6}"
      ]
     },
     "metadata": {},
     "output_type": "display_data"
    },
    {
     "name": "stdout",
     "output_type": "stream",
     "text": [
      "##########\n",
      "for element  (2,4,3)\n",
      "eigenvalue:\n"
     ]
    },
    {
     "data": {
      "text/html": [
       "<html><script type=\"math/tex; mode=display\">\\newcommand{\\Bold}[1]{\\mathbf{#1}}(0, 0, 0, 0, 0, 0, 0, 0, \\varepsilon)</script></html>"
      ],
      "text/plain": [
       "(0, 0, 0, 0, 0, 0, 0, 0, \\varepsilon)"
      ]
     },
     "metadata": {},
     "output_type": "display_data"
    },
    {
     "name": "stdout",
     "output_type": "stream",
     "text": [
      "basis func:\n"
     ]
    },
    {
     "data": {
      "text/html": [
       "<html><script type=\"math/tex; mode=display\">\\newcommand{\\Bold}[1]{\\mathbf{#1}}\\psi_{2}+\\varepsilon^{2} \\psi_{3}+-\\varepsilon \\psi_{7}</script></html>"
      ],
      "text/plain": [
       "\\psi_{2}+\\varepsilon^{2} \\psi_{3}+-\\varepsilon \\psi_{7}"
      ]
     },
     "metadata": {},
     "output_type": "display_data"
    },
    {
     "name": "stdout",
     "output_type": "stream",
     "text": [
      "##########\n"
     ]
    }
   ],
   "source": [
    "g_idx = 4\n",
    "for i in range(9):\n",
    "    print(\"for element \",gs_tetra[g_idx])\n",
    "    get_basis_func(mats_tetra_FxF[g_idx], i)"
   ]
  },
  {
   "cell_type": "markdown",
   "metadata": {},
   "source": [
    "### To get some orbits of `mats_tetra_FxF` representation of group $T$"
   ]
  },
  {
   "cell_type": "markdown",
   "metadata": {},
   "source": [
    "```\n",
    "\n",
    "gap> mats:=List(tetra, e->KroneckerProduct(Image(hom, e),Image(hom, e)));\n",
    "gap> mg2:=Group(mats);\n",
    "gap> orbits:=Orbits(mg2,[[[1,0,0,0, 0, 0,0,0,0]],[[0,1,0,0,0,0,0,0,0]],[[0,0,1,0,0,0,0,0,0]],[[0,0,0,1,0,0,0,0,0]],[[0,0,0,0,1,0,0,0,0]],[[0,0,0,0,0,1,0,0,0]],[[0,0,0,0,0,0,1,0,0]],[[0,0,0,0,0,0,0,1,0]],[[0,0,0,0,0,0,0,0,1]]],OnSets);\n",
    "\n",
    "```"
   ]
  },
  {
   "cell_type": "code",
   "execution_count": 14,
   "metadata": {},
   "outputs": [],
   "source": [
    "orbits=[ [ [ [ 1, 0, 0, 0, 0, 0, 0, 0, 0 ] ], [ [ 0, 0, 0, 0, 1, 0, 0, 0, 0 ] ]\n",
    "        , [ [ 0, 0, 0, 0, 0, 0, 0, 0, 1 ] ] ], \n",
    "  [ [ [ 0, 0, 0, 0, 0, 0, 0, 1, 0 ] ], \n",
    "      [ [ 0, 0, 0, 0, 0, 0, 0, -1, 0 ] ], \n",
    "      [ [ 0, 0, -1, 0, 0, 0, 0, 0, 0 ] ], \n",
    "      [ [ 0, 0, 1, 0, 0, 0, 0, 0, 0 ] ], \n",
    "      [ [ 0, 0, 0, -1, 0, 0, 0, 0, 0 ] ], \n",
    "      [ [ 0, 0, 0, 1, 0, 0, 0, 0, 0 ] ] ], \n",
    "  [ [ [ 0, 0, 0, 0, 0, 0, 1, 0, 0 ] ], \n",
    "      [ [ 0, 0, 0, 0, 0, 0, -1, 0, 0 ] ], \n",
    "      [ [ 0, 1, 0, 0, 0, 0, 0, 0, 0 ] ], \n",
    "      [ [ 0, -1, 0, 0, 0, 0, 0, 0, 0 ] ], \n",
    "      [ [ 0, 0, 0, 0, 0, -1, 0, 0, 0 ] ], \n",
    "      [ [ 0, 0, 0, 0, 0, 1, 0, 0, 0 ] ] ] ]\n"
   ]
  },
  {
   "cell_type": "code",
   "execution_count": 15,
   "metadata": {},
   "outputs": [
    {
     "name": "stdout",
     "output_type": "stream",
     "text": [
      "orbit 0\n"
     ]
    },
    {
     "data": {
      "text/html": [
       "<html><script type=\"math/tex; mode=display\">\\newcommand{\\Bold}[1]{\\mathbf{#1}}\\left[\\psi_{0}, \\psi_{4}, \\psi_{8}\\right]</script></html>"
      ],
      "text/plain": [
       "[\\psi_{0}, \\psi_{4}, \\psi_{8}]"
      ]
     },
     "metadata": {},
     "output_type": "display_data"
    },
    {
     "name": "stdout",
     "output_type": "stream",
     "text": [
      "orbit 1\n"
     ]
    },
    {
     "data": {
      "text/html": [
       "<html><script type=\"math/tex; mode=display\">\\newcommand{\\Bold}[1]{\\mathbf{#1}}\\left[\\psi_{7}, -\\psi_{7}, -\\psi_{2}, \\psi_{2}, -\\psi_{3}, \\psi_{3}\\right]</script></html>"
      ],
      "text/plain": [
       "[\\psi_{7}, -\\psi_{7}, -\\psi_{2}, \\psi_{2}, -\\psi_{3}, \\psi_{3}]"
      ]
     },
     "metadata": {},
     "output_type": "display_data"
    },
    {
     "name": "stdout",
     "output_type": "stream",
     "text": [
      "orbit 2\n"
     ]
    },
    {
     "data": {
      "text/html": [
       "<html><script type=\"math/tex; mode=display\">\\newcommand{\\Bold}[1]{\\mathbf{#1}}\\left[\\psi_{6}, -\\psi_{6}, \\psi_{1}, -\\psi_{1}, -\\psi_{5}, \\psi_{5}\\right]</script></html>"
      ],
      "text/plain": [
       "[\\psi_{6}, -\\psi_{6}, \\psi_{1}, -\\psi_{1}, -\\psi_{5}, \\psi_{5}]"
      ]
     },
     "metadata": {},
     "output_type": "display_data"
    }
   ],
   "source": [
    "for idx, orbit in enumerate(orbits):\n",
    "    print(\"orbit %d\"%idx)    \n",
    "    show([LatexExpr(replacer(str(to_lin_comb(e[0])))) for e in orbit])\n",
    "        "
   ]
  },
  {
   "cell_type": "code",
   "execution_count": 53,
   "metadata": {},
   "outputs": [
    {
     "data": {
      "text/html": [
       "<html><script type=\"math/tex; mode=display\">\\newcommand{\\Bold}[1]{\\mathbf{#1}}\\sum</script></html>"
      ],
      "text/plain": [
       "\\sum"
      ]
     },
     "metadata": {},
     "output_type": "display_data"
    }
   ],
   "source": [
    "pretty_print(LatexExpr(r\"\\sum\"))\n"
   ]
  },
  {
   "cell_type": "markdown",
   "metadata": {},
   "source": [
    "### to find $D(g) H = H D'(g)$ where $D'(g)$ is block-diagonal matrix of given (i.e. fixed) element g"
   ]
  },
  {
   "cell_type": "markdown",
   "metadata": {},
   "source": [
    "Defining $H$:"
   ]
  },
  {
   "cell_type": "code",
   "execution_count": 4,
   "metadata": {},
   "outputs": [
    {
     "data": {
      "text/plain": [
       "[[h00, h01, h02, h03, h04, h05, h06, h07, h08],\n",
       " [h10, h11, h12, h13, h14, h15, h16, h17, h18],\n",
       " [h20, h21, h22, h23, h24, h25, h26, h27, h28],\n",
       " [h30, h31, h32, h33, h34, h35, h36, h37, h38],\n",
       " [h40, h41, h42, h43, h44, h45, h46, h47, h48],\n",
       " [h50, h51, h52, h53, h54, h55, h56, h57, h58],\n",
       " [h60, h61, h62, h63, h64, h65, h66, h67, h68],\n",
       " [h70, h71, h72, h73, h74, h75, h76, h77, h78],\n",
       " [h80, h81, h82, h83, h84, h85, h86, h87, h88]]"
      ]
     },
     "execution_count": 4,
     "metadata": {},
     "output_type": "execute_result"
    }
   ],
   "source": [
    "hs = [list(var(\"\".join([\"h%d%d \"%(i, j) for j in range(9)]))) for i in range(9)]\n",
    "hs"
   ]
  },
  {
   "cell_type": "markdown",
   "metadata": {},
   "source": [
    "Defining $D$ and $D'$ (block-diagonal) representation matrix of element 4 of group:"
   ]
  },
  {
   "cell_type": "code",
   "execution_count": 104,
   "metadata": {},
   "outputs": [],
   "source": [
    "# m.tensor_product?"
   ]
  },
  {
   "cell_type": "code",
   "execution_count": 17,
   "metadata": {},
   "outputs": [
    {
     "data": {
      "text/plain": [
       "[     1      0      0      0      0      0      0      0      0]\n",
       "[     0 E(3)^2      0      0      0      0      0      0      0]\n",
       "[     0      0   E(3)      0      0      0      0      0      0]\n",
       "[     0      0      0      0     -1      0      0      0      0]\n",
       "[     0      0      0      0      0     -1      0      0      0]\n",
       "[     0      0      0      1      0      0      0      0      0]\n",
       "[     0      0      0      0      0      0      0     -1      0]\n",
       "[     0      0      0      0      0      0      0      0     -1]\n",
       "[     0      0      0      0      0      0      1      0      0]"
      ]
     },
     "execution_count": 17,
     "metadata": {},
     "output_type": "execute_result"
    }
   ],
   "source": [
    "A1 = matrix(mats_tetra_A1[4])\n",
    "E1 = matrix(mats_tetra_E1[4])\n",
    "E2 = matrix(mats_tetra_E2[4])\n",
    "F = matrix(mats_tetra_F[4])\n",
    "\n",
    "# FxF1 = F.block_sum(F).block_sum(E2).block_sum(E1).block_sum(A1)\n",
    "FxF1 = A1.block_sum(E1).block_sum(E2).block_sum(F).block_sum(F)\n",
    "FxF1"
   ]
  },
  {
   "cell_type": "code",
   "execution_count": 18,
   "metadata": {},
   "outputs": [
    {
     "data": {
      "text/plain": [
       "[ 0  0  0  0  1  0  0  0  0]\n",
       "[ 0  0  0  0  0 -1  0  0  0]\n",
       "[ 0  0  0  1  0  0  0  0  0]\n",
       "[ 0  0  0  0  0  0  0 -1  0]\n",
       "[ 0  0  0  0  0  0  0  0  1]\n",
       "[ 0  0  0  0  0  0 -1  0  0]\n",
       "[ 0  1  0  0  0  0  0  0  0]\n",
       "[ 0  0 -1  0  0  0  0  0  0]\n",
       "[ 1  0  0  0  0  0  0  0  0]"
      ]
     },
     "execution_count": 18,
     "metadata": {},
     "output_type": "execute_result"
    }
   ],
   "source": [
    "FxF=matrix(mats_tetra_FxF[4])\n",
    "FxF"
   ]
  },
  {
   "cell_type": "markdown",
   "metadata": {},
   "source": [
    "Defining equation:"
   ]
  },
  {
   "cell_type": "code",
   "execution_count": 23,
   "metadata": {},
   "outputs": [],
   "source": [
    "\n",
    "h=matrix(SR,hs)\n",
    "\n",
    "# for coordinats (H x):\n",
    "cleft=h*FxF\n",
    "cright = FxF1*h\n",
    "\n",
    "# for vectors (e H):\n",
    "vleft=FxF*h\n",
    "vright = h*FxF1"
   ]
  },
  {
   "cell_type": "code",
   "execution_count": 219,
   "metadata": {},
   "outputs": [],
   "source": [
    "dim = h.dimensions()[0]\n",
    "vproblem = [[(vleft[i,j]==vright[i,j]) for j in range(dim)]\n",
    "            for i in range(dim) ]\n",
    "cproblem = [[(cleft[i,j]==cright[i,j]) for j in range(dim)]\n",
    "            for i in range(dim) ]\n",
    "\n",
    "# problem"
   ]
  },
  {
   "cell_type": "markdown",
   "metadata": {},
   "source": [
    "Solve it:"
   ]
  },
  {
   "cell_type": "code",
   "execution_count": 220,
   "metadata": {},
   "outputs": [],
   "source": [
    "vs=solve(sum(vproblem,[]),sum(hs,[]),solution_dict=True)"
   ]
  },
  {
   "cell_type": "code",
   "execution_count": 221,
   "metadata": {},
   "outputs": [],
   "source": [
    "cs=solve(sum(cproblem,[]),sum(hs,[]),solution_dict=True)"
   ]
  },
  {
   "cell_type": "code",
   "execution_count": 222,
   "metadata": {},
   "outputs": [],
   "source": [
    "# s"
   ]
  },
  {
   "cell_type": "code",
   "execution_count": 19,
   "metadata": {},
   "outputs": [
    {
     "data": {
      "text/plain": [
       "(xx, xy, xz, yx, yy, yz, zx, zy, zz)"
      ]
     },
     "execution_count": 19,
     "metadata": {},
     "output_type": "execute_result"
    }
   ],
   "source": [
    "es=var('xx xy xz yx yy yz zx zy zz')\n",
    "es"
   ]
  },
  {
   "cell_type": "code",
   "execution_count": 224,
   "metadata": {},
   "outputs": [],
   "source": [
    "vC = matrix([[vs[0][hh] for hh in h] for h in hs])\n",
    "cC =matrix([[cs[0][hh] for hh in h] for h in hs])\n"
   ]
  },
  {
   "cell_type": "code",
   "execution_count": 225,
   "metadata": {},
   "outputs": [
    {
     "data": {
      "text/plain": [
       "[xx xy xz yx yy yz zx zy zz]"
      ]
     },
     "execution_count": 225,
     "metadata": {},
     "output_type": "execute_result"
    }
   ],
   "source": [
    "v = matrix(SR,es)\n",
    "v"
   ]
  },
  {
   "cell_type": "code",
   "execution_count": 226,
   "metadata": {},
   "outputs": [],
   "source": [
    "\n",
    "vres = v*vC\n",
    "cres = cC*identity_matrix(9)"
   ]
  },
  {
   "cell_type": "code",
   "execution_count": 239,
   "metadata": {
    "collapsed": true
   },
   "outputs": [
    {
     "data": {
      "text/plain": [
       "[                          r128]\n",
       "[-1/2*I*sqrt(3)*r121 - 1/2*r121]\n",
       "[-1/2*I*sqrt(3)*r120 - 1/2*r120]\n",
       "[                          r126]\n",
       "[                         -r134]\n",
       "[                          r130]\n",
       "[                          r109]\n",
       "[                         -r113]\n",
       "[                          r117]"
      ]
     },
     "execution_count": 239,
     "metadata": {},
     "output_type": "execute_result"
    }
   ],
   "source": [
    "cres[:,0]"
   ]
  },
  {
   "cell_type": "markdown",
   "metadata": {},
   "source": [
    "First subbasis of functions of irr component F in FxF1:"
   ]
  },
  {
   "cell_type": "code",
   "execution_count": 284,
   "metadata": {},
   "outputs": [
    {
     "name": "stdout",
     "output_type": "stream",
     "text": [
      "-r86*xx - r104*xy + r95*xz - r96*yx + r87*yy - r105*yz + r103*zx + r94*zy + r85*zz\n",
      "r85*xx + r103*xy - r94*xz + r95*yx - r86*yy + r104*yz + r105*zx + r96*zy + r87*zz\n",
      "-r87*xx - r105*xy + r96*xz + r94*yx - r85*yy + r103*yz + r104*zx + r95*zy + r86*zz\n"
     ]
    }
   ],
   "source": [
    "print(vres[0][5])\n",
    "print(vres[0][3])\n",
    "print(vres[0][4])\n"
   ]
  },
  {
   "cell_type": "code",
   "execution_count": 285,
   "metadata": {},
   "outputs": [
    {
     "name": "stdout",
     "output_type": "stream",
     "text": [
      "-r86*xx - r104*xy + r95*xz - r96*yx + r87*yy - r105*yz + r103*zx + r94*zy + r85*zz\n",
      "-r85*xx - r103*xy + r94*xz - r95*yx + r86*yy - r104*yz - r105*zx - r96*zy - r87*zz\n",
      "r87*xx + r105*xy - r96*xz - r94*yx + r85*yy - r103*yz - r104*zx - r95*zy - r86*zz\n"
     ]
    }
   ],
   "source": [
    "print(((vres*FxF1)[0][3]))\n",
    "print((vres*FxF1)[0][4])\n",
    "print((vres*FxF1)[0][5])"
   ]
  },
  {
   "cell_type": "code",
   "execution_count": 275,
   "metadata": {},
   "outputs": [
    {
     "name": "stdout",
     "output_type": "stream",
     "text": [
      "[     1      0      0      0      0      0      0      0      0]\n",
      "[     0 E(3)^2      0      0      0      0      0      0      0]\n",
      "[     0      0   E(3)      0      0      0      0      0      0]\n",
      "[     0      0      0      0     -1      0      0      0      0]\n",
      "[     0      0      0      0      0     -1      0      0      0]\n",
      "[     0      0      0      1      0      0      0      0      0]\n",
      "[     0      0      0      0      0      0      0     -1      0]\n",
      "[     0      0      0      0      0      0      0      0     -1]\n",
      "[     0      0      0      0      0      0      1      0      0]\n"
     ]
    }
   ],
   "source": [
    "print(FxF1)"
   ]
  },
  {
   "cell_type": "markdown",
   "metadata": {},
   "source": [
    "Exercise: what is the subbasis of second component of $F$ in $F\\times F$?"
   ]
  },
  {
   "cell_type": "markdown",
   "metadata": {},
   "source": [
    " $vC * D = D' * vC$ and $D * cC = cC * D'$ follows that $cC * vC * D' = D' * cC * vC$:"
   ]
  },
  {
   "cell_type": "code",
   "execution_count": 269,
   "metadata": {},
   "outputs": [
    {
     "data": {
      "text/plain": [
       "True"
      ]
     },
     "execution_count": 269,
     "metadata": {},
     "output_type": "execute_result"
    }
   ],
   "source": [
    "# expensive:\n",
    "cC*vC*FxF1==FxF1*cC*vC"
   ]
  },
  {
   "cell_type": "code",
   "execution_count": 172,
   "metadata": {},
   "outputs": [],
   "source": [
    "# show(latex((v*C).transpose()))"
   ]
  },
  {
   "cell_type": "markdown",
   "metadata": {},
   "source": [
    "### To find $D(g) H = H D(g) \\ \\ \\  \\forall g \\in G$\n",
    "This means to find (according to E.P.Wigner theorem) almost block diagonal matrix $H$:\n",
    "\\begin{equation}\n",
    "\\label{eq:H}\n",
    "\\begin{pmatrix}\n",
    "H_{1} & H_{2} & 0 \\\\\n",
    "H_{3} & H_{4} & 0 \\\\\n",
    "0 & 0 & H_{5}\n",
    "\\end{pmatrix} \\ \\ \\ \\ \\ (1)\n",
    "\\end{equation}\n",
    "\n",
    "for a given representation $D$ of group $G$, whose all matrixes can be transformed\n",
    "to the form:\n",
    "\n",
    "\\begin{pmatrix}\n",
    "D_{1} & 0 & 0 \\\\\n",
    "0 & D_{1} & 0 \\\\\n",
    "0 & 0 & D_{2}\n",
    "\\end{pmatrix}\n",
    "\n",
    "for an reducible representation $D$ (=$F\\times F$ in our example), which can be reduced to irreducible components $D_{1}$ and $D_{2}$ i.e.if representation $D$ contained from irreducible representations $D_{1}$ and $D_{2}$ \n",
    "where $D_{1}$ contained in $D$ twice ($F\\times F=A+E+2F$ in our example). \n",
    "\n",
    "where each of $H_{i}$ is a diagonal matrix of the form $H_{i}=h_{i}*E$.\n",
    "\n",
    "\n"
   ]
  },
  {
   "cell_type": "code",
   "execution_count": 5,
   "metadata": {},
   "outputs": [],
   "source": [
    "FxFs=[matrix(m) for m in mats_tetra_FxF]"
   ]
  },
  {
   "cell_type": "code",
   "execution_count": 6,
   "metadata": {},
   "outputs": [],
   "source": [
    "h=matrix(SR,hs)\n",
    "dim = h.dimensions()[0]\n",
    "lefts=[m*h for m in FxFs]\n",
    "rights = [h*m for m in FxFs]"
   ]
  },
  {
   "cell_type": "code",
   "execution_count": null,
   "metadata": {},
   "outputs": [],
   "source": []
  },
  {
   "cell_type": "code",
   "execution_count": 7,
   "metadata": {},
   "outputs": [],
   "source": [
    "problems = [(lefts[k][i,j]==rights[k][i,j]) for j in range(dim)\n",
    "            for i in range(dim) for k in range(len(lefts))]"
   ]
  },
  {
   "cell_type": "code",
   "execution_count": 8,
   "metadata": {},
   "outputs": [],
   "source": [
    "s = solve(problems,sum(hs,[]),solution_dict=True)"
   ]
  },
  {
   "cell_type": "code",
   "execution_count": 22,
   "metadata": {},
   "outputs": [],
   "source": [
    "Cs = matrix([[s[0][hh] for hh in h] for h in hs])"
   ]
  },
  {
   "cell_type": "code",
   "execution_count": 23,
   "metadata": {},
   "outputs": [
    {
     "data": {
      "text/plain": [
       "[r1  0  0  0 r3  0  0  0 r5]\n",
       "[ 0 r7  0 r2  0  0  0  0  0]\n",
       "[ 0  0 r6  0  0  0 r4  0  0]\n",
       "[ 0 r4  0 r6  0  0  0  0  0]\n",
       "[r5  0  0  0 r1  0  0  0 r3]\n",
       "[ 0  0  0  0  0 r7  0 r2  0]\n",
       "[ 0  0 r2  0  0  0 r7  0  0]\n",
       "[ 0  0  0  0  0 r4  0 r6  0]\n",
       "[r3  0  0  0 r5  0  0  0 r1]"
      ]
     },
     "execution_count": 23,
     "metadata": {},
     "output_type": "execute_result"
    }
   ],
   "source": [
    "\n",
    "Cs"
   ]
  },
  {
   "cell_type": "markdown",
   "metadata": {},
   "source": [
    "This matrix is not in the form (1) above, but can be tansformed to such since it contain\n",
    "only 7 different variables (as in matrix H in (1) each for each representation, but two for representation of $E$ since it break apart at two $E1$ and $E2$ (i.e. diagonal for all $g$ in $G$))"
   ]
  },
  {
   "cell_type": "code",
   "execution_count": 3,
   "metadata": {},
   "outputs": [
    {
     "data": {
      "text/plain": [
       "[r1  0  0  0 r3  0  0  0 r5]\n",
       "[ 0 r7  0 r2  0  0  0  0  0]\n",
       "[ 0  0 r6  0  0  0 r4  0  0]\n",
       "[ 0 r4  0 r6  0  0  0  0  0]\n",
       "[r5  0  0  0 r1  0  0  0 r3]\n",
       "[ 0  0  0  0  0 r7  0 r2  0]\n",
       "[ 0  0 r2  0  0  0 r7  0  0]\n",
       "[ 0  0  0  0  0 r4  0 r6  0]\n",
       "[r3  0  0  0 r5  0  0  0 r1]"
      ]
     },
     "execution_count": 3,
     "metadata": {},
     "output_type": "execute_result"
    }
   ],
   "source": [
    "r1, r2, r3, r4, r5, r6, r7 = var('r1 r2 r3 r4 r5 r6 r7')\n",
    "Cs = matrix(SR,\n",
    "            [[r1,  0,  0,  0, r3,  0,  0,  0, r5],\n",
    "             [ 0, r7,  0, r2,  0,  0,  0,  0,  0],\n",
    "             [ 0,  0, r6,  0,  0,  0, r4,  0,  0],\n",
    "             [ 0, r4,  0, r6,  0,  0,  0,  0,  0],\n",
    "             [r5,  0,  0,  0, r1,  0,  0,  0, r3],\n",
    "             [ 0,  0,  0,  0,  0, r7,  0, r2,  0],\n",
    "             [ 0,  0, r2,  0, 0,  0, r7,  0,  0],\n",
    "             [ 0,  0,  0,  0,  0, r4,  0, r6,  0],\n",
    "             [r3,  0,  0,  0, r5,  0,  0,  0, r1]])\n",
    "Cs"
   ]
  },
  {
   "cell_type": "code",
   "execution_count": 4,
   "metadata": {},
   "outputs": [],
   "source": [
    "sigma = ((2,5),(3,9),(8,4,6,7))\n",
    "Cs.permute_rows_and_columns(Permutation(sigma),Permutation(sigma))\n",
    "# Cs.permute_rows_and_columns(Permutation((2,5)),Permutation((2,5)))\n",
    "# Cs.permute_rows_and_columns(Permutation((3,9)),Permutation((3,9)))\n",
    "# Cs.permute_rows_and_columns(Permutation((4,7)),Permutation((4,7)))\n",
    "# Cs.permute_rows_and_columns(Permutation((4,6)),Permutation((4,6)))\n",
    "# Cs.permute_rows_and_columns(Permutation((7,8)),Permutation((7,8)))\n",
    "'''\n",
    "Cs.permute_rows_and_columns(Permutation((4,2)),Permutation((4,2)))\n",
    "Cs.permute_rows_and_columns(Permutation((9,3)),Permutation((9,3)))\n",
    "Cs.permute_rows_and_columns(Permutation((5,7)),Permutation((5,7)))\n",
    "Cs.permute_columns(Permutation((8,9)))\n",
    "Cs.permute_rows(Permutation((8,9)))\n",
    "Cs.permute_rows_and_columns(Permutation((5,7)),Permutation((5,7)))\n",
    "Cs\n",
    "'''\n",
    "pass"
   ]
  },
  {
   "cell_type": "code",
   "execution_count": 5,
   "metadata": {},
   "outputs": [
    {
     "data": {
      "text/plain": [
       "[r1 r3 r5  0  0  0  0  0  0]\n",
       "[r5 r1 r3  0  0  0  0  0  0]\n",
       "[r3 r5 r1  0  0  0  0  0  0]\n",
       "[ 0  0  0 r7  0  0 r2  0  0]\n",
       "[ 0  0  0  0 r7  0  0 r2  0]\n",
       "[ 0  0  0  0  0 r7  0  0 r2]\n",
       "[ 0  0  0 r4  0  0 r6  0  0]\n",
       "[ 0  0  0  0 r4  0  0 r6  0]\n",
       "[ 0  0  0  0  0 r4  0  0 r6]"
      ]
     },
     "execution_count": 5,
     "metadata": {},
     "output_type": "execute_result"
    }
   ],
   "source": [
    "Cs"
   ]
  },
  {
   "cell_type": "code",
   "execution_count": 20,
   "metadata": {},
   "outputs": [
    {
     "data": {
      "text/plain": [
       "[r1 r3 r5  0  0  0  0  0  0]\n",
       "[r5 r1 r3  0  0  0  0  0  0]\n",
       "[r3 r5 r1  0  0  0  0  0  0]\n",
       "[ 0  0  0 r7  0  0 r2  0  0]\n",
       "[ 0  0  0  0 r7  0  0 r2  0]\n",
       "[ 0  0  0  0  0 r7  0  0 r2]\n",
       "[ 0  0  0 r4  0  0 r6  0  0]\n",
       "[ 0  0  0  0 r4  0  0 r6  0]\n",
       "[ 0  0  0  0  0 r4  0  0 r6]"
      ]
     },
     "execution_count": 20,
     "metadata": {},
     "output_type": "execute_result"
    }
   ],
   "source": [
    "Cs"
   ]
  },
  {
   "cell_type": "code",
   "execution_count": 10,
   "metadata": {},
   "outputs": [],
   "source": [
    "m=matrix(SR, [[r1, r3,r5],[r5,r1,r3],[r3,r5,r1]])"
   ]
  },
  {
   "cell_type": "code",
   "execution_count": 65,
   "metadata": {},
   "outputs": [
    {
     "data": {
      "text/plain": [
       "[-1/2*r5*(I*sqrt(3) + 1) - 1/2*r3*(-I*sqrt(3) + 1) + r1,\n",
       " 1/2*r5*(I*sqrt(3) - 1) + 1/2*r3*(-I*sqrt(3) - 1) + r1,\n",
       " r1 + r3 + r5]"
      ]
     },
     "execution_count": 65,
     "metadata": {},
     "output_type": "execute_result"
    }
   ],
   "source": [
    "m.eigenvalues()"
   ]
  },
  {
   "cell_type": "markdown",
   "metadata": {},
   "source": [
    "Convert diagonal matrix with complex eigenvalues to 2d rotation  matrix with real ones  "
   ]
  },
  {
   "cell_type": "code",
   "execution_count": 14,
   "metadata": {},
   "outputs": [],
   "source": [
    "a = m.eigenmatrix_left()"
   ]
  },
  {
   "cell_type": "code",
   "execution_count": 19,
   "metadata": {},
   "outputs": [
    {
     "data": {
      "text/plain": [
       "-(r3*(I*sqrt(3) + 1) + r5*(I*sqrt(3) - 1))/(r5*(I*sqrt(3) + 1) + 2*r3) - (r5*(I*sqrt(3) + 1) + r3*(I*sqrt(3) - 1))/(r5*(I*sqrt(3) - 1) - 2*r3)"
      ]
     },
     "execution_count": 19,
     "metadata": {},
     "output_type": "execute_result"
    }
   ],
   "source": [
    "(a[1][0]+a[1][1])[1]"
   ]
  },
  {
   "cell_type": "code",
   "execution_count": 35,
   "metadata": {},
   "outputs": [
    {
     "data": {
      "text/plain": [
       "False"
      ]
     },
     "execution_count": 35,
     "metadata": {},
     "output_type": "execute_result"
    }
   ],
   "source": [
    "(a[1][0]+a[1][1])[1].is_real()"
   ]
  },
  {
   "cell_type": "code",
   "execution_count": 22,
   "metadata": {},
   "outputs": [
    {
     "data": {
      "text/plain": [
       "(1, 1, 1)"
      ]
     },
     "execution_count": 22,
     "metadata": {},
     "output_type": "execute_result"
    }
   ],
   "source": [
    "a[1][2]"
   ]
  },
  {
   "cell_type": "code",
   "execution_count": 20,
   "metadata": {},
   "outputs": [],
   "source": [
    "sample?"
   ]
  },
  {
   "cell_type": "code",
   "execution_count": 60,
   "metadata": {},
   "outputs": [],
   "source": [
    "# Cs.jordan_form(subdivide=False)"
   ]
  },
  {
   "cell_type": "code",
   "execution_count": 44,
   "metadata": {},
   "outputs": [
    {
     "data": {
      "text/plain": [
       "12"
      ]
     },
     "execution_count": 44,
     "metadata": {},
     "output_type": "execute_result"
    }
   ],
   "source": [
    "len(FxFs)"
   ]
  },
  {
   "cell_type": "markdown",
   "metadata": {},
   "source": [
    "We can see that each eigenspaces corespond to an irreducible representation component,\n",
    "contained in $F\\times F=A+E+2 F$:"
   ]
  },
  {
   "cell_type": "code",
   "execution_count": 341,
   "metadata": {},
   "outputs": [],
   "source": [
    "a = Cs.eigenvectors_left()"
   ]
  },
  {
   "cell_type": "code",
   "execution_count": 56,
   "metadata": {},
   "outputs": [
    {
     "data": {
      "text/plain": [
       "[-1/2*r19*(I*sqrt(3) + 1) - 1/2*r17*(-I*sqrt(3) + 1) + r15,\n",
       " 1/2*r19*(I*sqrt(3) - 1) + 1/2*r17*(-I*sqrt(3) - 1) + r15,\n",
       " r15 + r17 + r19,\n",
       " 1/2*r20 + 1/2*r21 - 1/2*sqrt(4*r16*r18 + r20^2 - 2*r20*r21 + r21^2),\n",
       " 1/2*r20 + 1/2*r21 - 1/2*sqrt(4*r16*r18 + r20^2 - 2*r20*r21 + r21^2),\n",
       " 1/2*r20 + 1/2*r21 - 1/2*sqrt(4*r16*r18 + r20^2 - 2*r20*r21 + r21^2),\n",
       " 1/2*r20 + 1/2*r21 + 1/2*sqrt(4*r16*r18 + r20^2 - 2*r20*r21 + r21^2),\n",
       " 1/2*r20 + 1/2*r21 + 1/2*sqrt(4*r16*r18 + r20^2 - 2*r20*r21 + r21^2),\n",
       " 1/2*r20 + 1/2*r21 + 1/2*sqrt(4*r16*r18 + r20^2 - 2*r20*r21 + r21^2)]"
      ]
     },
     "execution_count": 56,
     "metadata": {},
     "output_type": "execute_result"
    }
   ],
   "source": [
    "Cs.eigenvalues()"
   ]
  },
  {
   "cell_type": "code",
   "execution_count": 347,
   "metadata": {
    "collapsed": true
   },
   "outputs": [
    {
     "name": "stdout",
     "output_type": "stream",
     "text": [
      "eigenvalue:\n"
     ]
    },
    {
     "data": {
      "text/html": [
       "<html><script type=\"math/tex; mode=display\">\\newcommand{\\Bold}[1]{\\mathbf{#1}}(-1/2*r140*(I*sqrt(3) + 1) - 1/2*r138*(-I*sqrt(3) + 1) + r136, 0, 0, 0, 0, 0, 0, 0, 0)</script></html>"
      ],
      "text/plain": [
       "(-1/2*r140*(I*sqrt(3) + 1) - 1/2*r138*(-I*sqrt(3) + 1) + r136, 0, 0, 0, 0, 0, 0, 0, 0)"
      ]
     },
     "metadata": {},
     "output_type": "display_data"
    },
    {
     "name": "stdout",
     "output_type": "stream",
     "text": [
      "basis func:\n"
     ]
    },
    {
     "data": {
      "text/html": [
       "<html><script type=\"math/tex; mode=display\">\\newcommand{\\Bold}[1]{\\mathbf{#1}}\\psi_{0}+(r138*(-I*sqrt(3) + 1) + 2*r140)/(r138*(I*sqrt(3) + 1) + r140*(I*sqrt(3) - 1)) \\psi_{4}+-(r140*(I*sqrt(3) + 1) + 2*r138)/(r138*(I*sqrt(3) + 1) + r140*(I*sqrt(3) - 1)) \\psi_{8}</script></html>"
      ],
      "text/plain": [
       "\\psi_{0}+(r138*(-I*sqrt(3) + 1) + 2*r140)/(r138*(I*sqrt(3) + 1) + r140*(I*sqrt(3) - 1)) \\psi_{4}+-(r140*(I*sqrt(3) + 1) + 2*r138)/(r138*(I*sqrt(3) + 1) + r140*(I*sqrt(3) - 1)) \\psi_{8}"
      ]
     },
     "metadata": {},
     "output_type": "display_data"
    },
    {
     "name": "stdout",
     "output_type": "stream",
     "text": [
      "##########\n",
      "eigenvalue:\n"
     ]
    },
    {
     "data": {
      "text/html": [
       "<html><script type=\"math/tex; mode=display\">\\newcommand{\\Bold}[1]{\\mathbf{#1}}(0, 1/2*r140*(I*sqrt(3) - 1) + 1/2*r138*(-I*sqrt(3) - 1) + r136, 0, 0, 0, 0, 0, 0, 0)</script></html>"
      ],
      "text/plain": [
       "(0, 1/2*r140*(I*sqrt(3) - 1) + 1/2*r138*(-I*sqrt(3) - 1) + r136, 0, 0, 0, 0, 0, 0, 0)"
      ]
     },
     "metadata": {},
     "output_type": "display_data"
    },
    {
     "name": "stdout",
     "output_type": "stream",
     "text": [
      "basis func:\n"
     ]
    },
    {
     "data": {
      "text/html": [
       "<html><script type=\"math/tex; mode=display\">\\newcommand{\\Bold}[1]{\\mathbf{#1}}\\psi_{0}+-(r138*(I*sqrt(3) + 1) + 2*r140)/(r140*(I*sqrt(3) + 1) + r138*(I*sqrt(3) - 1)) \\psi_{4}+-(r140*(I*sqrt(3) - 1) - 2*r138)/(r140*(I*sqrt(3) + 1) + r138*(I*sqrt(3) - 1)) \\psi_{8}</script></html>"
      ],
      "text/plain": [
       "\\psi_{0}+-(r138*(I*sqrt(3) + 1) + 2*r140)/(r140*(I*sqrt(3) + 1) + r138*(I*sqrt(3) - 1)) \\psi_{4}+-(r140*(I*sqrt(3) - 1) - 2*r138)/(r140*(I*sqrt(3) + 1) + r138*(I*sqrt(3) - 1)) \\psi_{8}"
      ]
     },
     "metadata": {},
     "output_type": "display_data"
    },
    {
     "name": "stdout",
     "output_type": "stream",
     "text": [
      "##########\n",
      "eigenvalue:\n"
     ]
    },
    {
     "data": {
      "text/html": [
       "<html><script type=\"math/tex; mode=display\">\\newcommand{\\Bold}[1]{\\mathbf{#1}}(0, 0, r136 + r138 + r140, 0, 0, 0, 0, 0, 0)</script></html>"
      ],
      "text/plain": [
       "(0, 0, r136 + r138 + r140, 0, 0, 0, 0, 0, 0)"
      ]
     },
     "metadata": {},
     "output_type": "display_data"
    },
    {
     "name": "stdout",
     "output_type": "stream",
     "text": [
      "basis func:\n"
     ]
    },
    {
     "data": {
      "text/html": [
       "<html><script type=\"math/tex; mode=display\">\\newcommand{\\Bold}[1]{\\mathbf{#1}}\\psi_{0}+\\psi_{4}+\\psi_{8}</script></html>"
      ],
      "text/plain": [
       "\\psi_{0}+\\psi_{4}+\\psi_{8}"
      ]
     },
     "metadata": {},
     "output_type": "display_data"
    },
    {
     "name": "stdout",
     "output_type": "stream",
     "text": [
      "##########\n",
      "eigenvalue:\n"
     ]
    },
    {
     "data": {
      "text/html": [
       "<html><script type=\"math/tex; mode=display\">\\newcommand{\\Bold}[1]{\\mathbf{#1}}(0, 0, 0, 1/2*r141 + 1/2*r142 - 1/2*sqrt(4*r137*r139 + r141^2 - 2*r141*r142 + r142^2), 0, 0, 0, 0, 0)</script></html>"
      ],
      "text/plain": [
       "(0, 0, 0, 1/2*r141 + 1/2*r142 - 1/2*sqrt(4*r137*r139 + r141^2 - 2*r141*r142 + r142^2), 0, 0, 0, 0, 0)"
      ]
     },
     "metadata": {},
     "output_type": "display_data"
    },
    {
     "name": "stdout",
     "output_type": "stream",
     "text": [
      "basis func:\n"
     ]
    },
    {
     "data": {
      "text/html": [
       "<html><script type=\"math/tex; mode=display\">\\newcommand{\\Bold}[1]{\\mathbf{#1}}\\psi_{1}+1/2*(r141 - r142 - sqrt(4*r137*r139 + r141^2 - 2*r141*r142 + r142^2))/r139 \\psi_{3}</script></html>"
      ],
      "text/plain": [
       "\\psi_{1}+1/2*(r141 - r142 - sqrt(4*r137*r139 + r141^2 - 2*r141*r142 + r142^2))/r139 \\psi_{3}"
      ]
     },
     "metadata": {},
     "output_type": "display_data"
    },
    {
     "name": "stdout",
     "output_type": "stream",
     "text": [
      "##########\n",
      "eigenvalue:\n"
     ]
    },
    {
     "data": {
      "text/html": [
       "<html><script type=\"math/tex; mode=display\">\\newcommand{\\Bold}[1]{\\mathbf{#1}}(0, 0, 0, 0, 1/2*r141 + 1/2*r142 - 1/2*sqrt(4*r137*r139 + r141^2 - 2*r141*r142 + r142^2), 0, 0, 0, 0)</script></html>"
      ],
      "text/plain": [
       "(0, 0, 0, 0, 1/2*r141 + 1/2*r142 - 1/2*sqrt(4*r137*r139 + r141^2 - 2*r141*r142 + r142^2), 0, 0, 0, 0)"
      ]
     },
     "metadata": {},
     "output_type": "display_data"
    },
    {
     "name": "stdout",
     "output_type": "stream",
     "text": [
      "basis func:\n"
     ]
    },
    {
     "data": {
      "text/html": [
       "<html><script type=\"math/tex; mode=display\">\\newcommand{\\Bold}[1]{\\mathbf{#1}}\\psi_{2}+-1/2*(r141 - r142 + sqrt(4*r137*r139 + r141^2 - 2*r141*r142 + r142^2))/r137 \\psi_{6}</script></html>"
      ],
      "text/plain": [
       "\\psi_{2}+-1/2*(r141 - r142 + sqrt(4*r137*r139 + r141^2 - 2*r141*r142 + r142^2))/r137 \\psi_{6}"
      ]
     },
     "metadata": {},
     "output_type": "display_data"
    },
    {
     "name": "stdout",
     "output_type": "stream",
     "text": [
      "##########\n",
      "eigenvalue:\n"
     ]
    },
    {
     "data": {
      "text/html": [
       "<html><script type=\"math/tex; mode=display\">\\newcommand{\\Bold}[1]{\\mathbf{#1}}(0, 0, 0, 0, 0, 1/2*r141 + 1/2*r142 - 1/2*sqrt(4*r137*r139 + r141^2 - 2*r141*r142 + r142^2), 0, 0, 0)</script></html>"
      ],
      "text/plain": [
       "(0, 0, 0, 0, 0, 1/2*r141 + 1/2*r142 - 1/2*sqrt(4*r137*r139 + r141^2 - 2*r141*r142 + r142^2), 0, 0, 0)"
      ]
     },
     "metadata": {},
     "output_type": "display_data"
    },
    {
     "name": "stdout",
     "output_type": "stream",
     "text": [
      "basis func:\n"
     ]
    },
    {
     "data": {
      "text/html": [
       "<html><script type=\"math/tex; mode=display\">\\newcommand{\\Bold}[1]{\\mathbf{#1}}\\psi_{5}+1/2*(r141 - r142 - sqrt(4*r137*r139 + r141^2 - 2*r141*r142 + r142^2))/r139 \\psi_{7}</script></html>"
      ],
      "text/plain": [
       "\\psi_{5}+1/2*(r141 - r142 - sqrt(4*r137*r139 + r141^2 - 2*r141*r142 + r142^2))/r139 \\psi_{7}"
      ]
     },
     "metadata": {},
     "output_type": "display_data"
    },
    {
     "name": "stdout",
     "output_type": "stream",
     "text": [
      "##########\n",
      "eigenvalue:\n"
     ]
    },
    {
     "data": {
      "text/html": [
       "<html><script type=\"math/tex; mode=display\">\\newcommand{\\Bold}[1]{\\mathbf{#1}}(0, 0, 0, 0, 0, 0, 1/2*r141 + 1/2*r142 + 1/2*sqrt(4*r137*r139 + r141^2 - 2*r141*r142 + r142^2), 0, 0)</script></html>"
      ],
      "text/plain": [
       "(0, 0, 0, 0, 0, 0, 1/2*r141 + 1/2*r142 + 1/2*sqrt(4*r137*r139 + r141^2 - 2*r141*r142 + r142^2), 0, 0)"
      ]
     },
     "metadata": {},
     "output_type": "display_data"
    },
    {
     "name": "stdout",
     "output_type": "stream",
     "text": [
      "basis func:\n"
     ]
    },
    {
     "data": {
      "text/html": [
       "<html><script type=\"math/tex; mode=display\">\\newcommand{\\Bold}[1]{\\mathbf{#1}}\\psi_{1}+1/2*(r141 - r142 + sqrt(4*r137*r139 + r141^2 - 2*r141*r142 + r142^2))/r139 \\psi_{3}</script></html>"
      ],
      "text/plain": [
       "\\psi_{1}+1/2*(r141 - r142 + sqrt(4*r137*r139 + r141^2 - 2*r141*r142 + r142^2))/r139 \\psi_{3}"
      ]
     },
     "metadata": {},
     "output_type": "display_data"
    },
    {
     "name": "stdout",
     "output_type": "stream",
     "text": [
      "##########\n",
      "eigenvalue:\n"
     ]
    },
    {
     "data": {
      "text/html": [
       "<html><script type=\"math/tex; mode=display\">\\newcommand{\\Bold}[1]{\\mathbf{#1}}(0, 0, 0, 0, 0, 0, 0, 1/2*r141 + 1/2*r142 + 1/2*sqrt(4*r137*r139 + r141^2 - 2*r141*r142 + r142^2), 0)</script></html>"
      ],
      "text/plain": [
       "(0, 0, 0, 0, 0, 0, 0, 1/2*r141 + 1/2*r142 + 1/2*sqrt(4*r137*r139 + r141^2 - 2*r141*r142 + r142^2), 0)"
      ]
     },
     "metadata": {},
     "output_type": "display_data"
    },
    {
     "name": "stdout",
     "output_type": "stream",
     "text": [
      "basis func:\n"
     ]
    },
    {
     "data": {
      "text/html": [
       "<html><script type=\"math/tex; mode=display\">\\newcommand{\\Bold}[1]{\\mathbf{#1}}\\psi_{2}+-1/2*(r141 - r142 - sqrt(4*r137*r139 + r141^2 - 2*r141*r142 + r142^2))/r137 \\psi_{6}</script></html>"
      ],
      "text/plain": [
       "\\psi_{2}+-1/2*(r141 - r142 - sqrt(4*r137*r139 + r141^2 - 2*r141*r142 + r142^2))/r137 \\psi_{6}"
      ]
     },
     "metadata": {},
     "output_type": "display_data"
    },
    {
     "name": "stdout",
     "output_type": "stream",
     "text": [
      "##########\n",
      "eigenvalue:\n"
     ]
    },
    {
     "data": {
      "text/html": [
       "<html><script type=\"math/tex; mode=display\">\\newcommand{\\Bold}[1]{\\mathbf{#1}}(0, 0, 0, 0, 0, 0, 0, 0, 1/2*r141 + 1/2*r142 + 1/2*sqrt(4*r137*r139 + r141^2 - 2*r141*r142 + r142^2))</script></html>"
      ],
      "text/plain": [
       "(0, 0, 0, 0, 0, 0, 0, 0, 1/2*r141 + 1/2*r142 + 1/2*sqrt(4*r137*r139 + r141^2 - 2*r141*r142 + r142^2))"
      ]
     },
     "metadata": {},
     "output_type": "display_data"
    },
    {
     "name": "stdout",
     "output_type": "stream",
     "text": [
      "basis func:\n"
     ]
    },
    {
     "data": {
      "text/html": [
       "<html><script type=\"math/tex; mode=display\">\\newcommand{\\Bold}[1]{\\mathbf{#1}}\\psi_{5}+1/2*(r141 - r142 + sqrt(4*r137*r139 + r141^2 - 2*r141*r142 + r142^2))/r139 \\psi_{7}</script></html>"
      ],
      "text/plain": [
       "\\psi_{5}+1/2*(r141 - r142 + sqrt(4*r137*r139 + r141^2 - 2*r141*r142 + r142^2))/r139 \\psi_{7}"
      ]
     },
     "metadata": {},
     "output_type": "display_data"
    },
    {
     "name": "stdout",
     "output_type": "stream",
     "text": [
      "##########\n"
     ]
    }
   ],
   "source": [
    "for i in range(9):\n",
    "    get_basis_func(Cs,i)"
   ]
  },
  {
   "cell_type": "markdown",
   "metadata": {},
   "source": [
    "##### To find $D(g) H = H D(g) \\ \\ \\  \\forall g \\in G$ for reresentation $F$\n"
   ]
  },
  {
   "cell_type": "code",
   "execution_count": 6,
   "metadata": {},
   "outputs": [],
   "source": [
    "Fs=[matrix(m) for m in mats_tetra_F]\n",
    "hs = [list(var(\"\".join([\"h%d%d \"%(i, j) for j in range(3)]))) for i in range(3)]\n",
    "h=matrix(SR,hs)\n",
    "dim = h.dimensions()[0]\n",
    "lefts=[m*h for m in Fs]\n",
    "rights = [h*m for m in Fs]\n",
    "problems = [(lefts[k][i,j]==rights[k][i,j]) for j in range(dim)\n",
    "            for i in range(dim) for k in range(len(lefts))]\n",
    "s = solve(problems,sum(hs,[]),solution_dict=True)\n",
    "Cs = matrix([[s[0][hh] for hh in h] for h in hs])"
   ]
  },
  {
   "cell_type": "code",
   "execution_count": 7,
   "metadata": {},
   "outputs": [
    {
     "data": {
      "text/plain": [
       "[r1  0  0]\n",
       "[ 0 r1  0]\n",
       "[ 0  0 r1]"
      ]
     },
     "execution_count": 7,
     "metadata": {},
     "output_type": "execute_result"
    }
   ],
   "source": [
    "Cs"
   ]
  },
  {
   "cell_type": "code",
   "execution_count": 24,
   "metadata": {},
   "outputs": [
    {
     "data": {
      "text/html": [
       "<html><script type=\"math/tex; mode=display\">\\newcommand{\\Bold}[1]{\\mathbf{#1}}\\left(\\begin{array}{r|rr}\n",
       "1 & 0 & 0 \\\\\n",
       "\\hline\n",
       " 0 & 3 & 1 \\\\\n",
       "0 & 0 & 3\n",
       "\\end{array}\\right)</script></html>"
      ],
      "text/plain": [
       "[1|0 0]\n",
       "[-+---]\n",
       "[0|3 1]\n",
       "[0|0 3]"
      ]
     },
     "metadata": {},
     "output_type": "display_data"
    }
   ],
   "source": [
    "m = matrix([[1, 0 , 0],[0,3,1],[0,0,3]])\n",
    "a = m.jordan_form(subdivide=True)\n",
    "# show(a)\n",
    "# LatexExpr(a)\n",
    "# print(a)\n",
    "pretty_print(a)"
   ]
  },
  {
   "cell_type": "markdown",
   "metadata": {},
   "source": [
    "$\\left$"
   ]
  },
  {
   "cell_type": "code",
   "execution_count": 344,
   "metadata": {},
   "outputs": [
    {
     "data": {
      "text/plain": [
       "[(1, 0, 0, 0, (r138*(-I*sqrt(3) + 1) + 2*r140)/(r138*(I*sqrt(3) + 1) + r140*(I*sqrt(3) - 1)), 0, 0, 0, -(r140*(I*sqrt(3) + 1) + 2*r138)/(r138*(I*sqrt(3) + 1) + r140*(I*sqrt(3) - 1)))]"
      ]
     },
     "execution_count": 344,
     "metadata": {},
     "output_type": "execute_result"
    }
   ],
   "source": [
    "a[0][1]"
   ]
  },
  {
   "cell_type": "code",
   "execution_count": 42,
   "metadata": {},
   "outputs": [],
   "source": [
    "from sympy.physics.quantum.cg import CG"
   ]
  },
  {
   "cell_type": "code",
   "execution_count": 43,
   "metadata": {},
   "outputs": [],
   "source": [
    "CG?"
   ]
  },
  {
   "cell_type": "markdown",
   "metadata": {},
   "source": [
    "##### Attempt to find $P_{i,k}^{j}$ for $F$ in FxF"
   ]
  },
  {
   "cell_type": "code",
   "execution_count": 20,
   "metadata": {},
   "outputs": [
    {
     "name": "stdout",
     "output_type": "stream",
     "text": [
      "[ 0 -1  0]\n",
      "[ 0  0 -1]\n",
      "[ 1  0  0]\n"
     ]
    },
    {
     "data": {
      "text/plain": [
       "(0, -1, 1)"
      ]
     },
     "execution_count": 20,
     "metadata": {},
     "output_type": "execute_result"
    }
   ],
   "source": [
    "m = matrix(mats_tetra_F[4])\n",
    "print(m)\n",
    "v = vector([1, 0,1])\n",
    "m*v"
   ]
  },
  {
   "cell_type": "code",
   "execution_count": 21,
   "metadata": {},
   "outputs": [
    {
     "data": {
      "text/plain": [
       "3"
      ]
     },
     "execution_count": 21,
     "metadata": {},
     "output_type": "execute_result"
    }
   ],
   "source": [
    "len(v)"
   ]
  },
  {
   "cell_type": "code",
   "execution_count": 15,
   "metadata": {},
   "outputs": [],
   "source": [
    "x, y, z = var('x y z')"
   ]
  },
  {
   "cell_type": "code",
   "execution_count": 53,
   "metadata": {},
   "outputs": [],
   "source": [
    "class vdp():\n",
    "    '''vectors direct product'''\n",
    "    def __init__(self, v1, v2):\n",
    "        self.n = len(v1)\n",
    "        if len(v1)!=len(v2):\n",
    "            print(\"error\")\n",
    "        self.first = vector(v1)\n",
    "        self.second = vector(v2)\n",
    "    def __add__(self, v):\n",
    "        return(vdp(self.first+v.first, self.second+v.second))\n",
    "    \n",
    "    def __mul__(self, A):\n",
    "        '''$A*(e_{1}\\times e_{2}) = (A e_{1}) \\times e_{2}$\n",
    "        if dim A = n or A is a Number,\n",
    "        $=A*(e_{1}e_{2})$ if dim A = n*n'''\n",
    "        \n",
    "        # in case A is of a type a Number:\n",
    "        if not ('dimensions' in dir(A)):\n",
    "            return(vdp(A*self.first,self.second))\n",
    "        \n",
    "        if A.dimensions() == (self.n, self.n):\n",
    "            return(vdp(A*self.first,self.second))\n",
    "        elif A.dimensions() == (self.n**2,self.n**2):\n",
    "\n",
    "            i = self.index(self.first)\n",
    "            j = self.index(self.second)\n",
    "            v = self.convert(self.n*i+j, self.n**2)\n",
    "            # print(i,j)\n",
    "            # print(v)\n",
    "\n",
    "            k = self.index(A*v)\n",
    "\n",
    "            i = k // self.n\n",
    "            j = k-i*self.n\n",
    "            return(vdp(self.convert(i, self.n), self.convert(j, self.n)))\n",
    "            \n",
    "    def convert(self, idx, n):\n",
    "        return(vector([0]*(idx)+[1]+[0]*(n-(idx+1))))\n",
    "    \n",
    "    def index(self, v):\n",
    "        lv = v.list()\n",
    "        try:\n",
    "            idx = lv.index(next(filter(lambda x: x!=0, lv)))\n",
    "        except StopIteration:\n",
    "            idx = -1\n",
    "        return(idx)\n",
    "    \n",
    "    def __str__(self):\n",
    "        i = self.index(self.first)\n",
    "        j = self.index(self.second)\n",
    "        return((\"(\"+str(self.first[i]*self.second[j])+\")\" if self.first[i]*self.second[j] != 1 else \"\") + r\"\\psi_{%d} \\phi_{%d}\"%(i,j))\n",
    "    \n",
    "    def __call__(self):\n",
    "        return(self.first, self.second)"
   ]
  },
  {
   "cell_type": "code",
   "execution_count": 47,
   "metadata": {},
   "outputs": [
    {
     "data": {
      "text/plain": [
       "True"
      ]
     },
     "execution_count": 47,
     "metadata": {},
     "output_type": "execute_result"
    }
   ],
   "source": [
    "'dimensions' in dir(m)"
   ]
  },
  {
   "cell_type": "code",
   "execution_count": 25,
   "metadata": {},
   "outputs": [
    {
     "name": "stdout",
     "output_type": "stream",
     "text": [
      "[ 0  0  0  0  1  0  0  0  0]\n",
      "[ 0  0  0  0  0 -1  0  0  0]\n",
      "[ 0  0  0  1  0  0  0  0  0]\n",
      "[ 0  0  0  0  0  0  0 -1  0]\n",
      "[ 0  0  0  0  0  0  0  0  1]\n",
      "[ 0  0  0  0  0  0 -1  0  0]\n",
      "[ 0  1  0  0  0  0  0  0  0]\n",
      "[ 0  0 -1  0  0  0  0  0  0]\n",
      "[ 1  0  0  0  0  0  0  0  0]\n",
      "2 1\n",
      "(0, 0, 0, 0, 0, 0, 0, 1, 0)\n"
     ]
    },
    {
     "data": {
      "text/html": [
       "<html><script type=\"math/tex; mode=display\">\\newcommand{\\Bold}[1]{\\mathbf{#1}}\\psi_{1} \\phi_{0}</script></html>"
      ],
      "text/plain": [
       "\\psi_{1} \\phi_{0}"
      ]
     },
     "metadata": {},
     "output_type": "display_data"
    },
    {
     "name": "stdout",
     "output_type": "stream",
     "text": [
      "[ 0 -1  0]\n",
      "[ 0  0 -1]\n",
      "[ 1  0  0]\n"
     ]
    },
    {
     "data": {
      "text/html": [
       "<html><script type=\"math/tex; mode=display\">\\newcommand{\\Bold}[1]{\\mathbf{#1}}-1\\psi_{1} \\phi_{1}</script></html>"
      ],
      "text/plain": [
       "-1\\psi_{1} \\phi_{1}"
      ]
     },
     "metadata": {},
     "output_type": "display_data"
    },
    {
     "data": {
      "text/plain": [
       "((0, -1, 0), (0, 1, 0))"
      ]
     },
     "execution_count": 25,
     "metadata": {},
     "output_type": "execute_result"
    }
   ],
   "source": [
    "m = matrix(mats_tetra_F[4])\n",
    "vv=vdp((0,0,1),(0,1,0))\n",
    "m1 = matrix(mats_tetra_FxF[4])\n",
    "print(m1)\n",
    "show(LatexExpr(vv*m1))\n",
    "print(m)\n",
    "result = vv*m \n",
    "show(LatexExpr(result))\n",
    "result()"
   ]
  },
  {
   "cell_type": "code",
   "execution_count": 64,
   "metadata": {},
   "outputs": [],
   "source": [
    "def get_p(e_e, i, k):\n",
    "    \n",
    "    r = [(e_e*matrix(mats_tetra_FxF[idx]))*matrix(mats_tetra_F[idx])[i, k]\n",
    "         for idx, g in enumerate(gs_tetra)]\n",
    "    show(list(map(lambda e:LatexExpr(e), r)))\n",
    "    show(LatexExpr(reduce(lambda acc, e: acc+e, r, vdp((0,0,0),(0,0,0)))))"
   ]
  },
  {
   "cell_type": "code",
   "execution_count": 92,
   "metadata": {},
   "outputs": [
    {
     "data": {
      "text/html": [
       "<html><script type=\"math/tex; mode=display\">\\newcommand{\\Bold}[1]{\\mathbf{#1}}\\left[(0)\\psi_{-1} \\phi_{0}, (0)\\psi_{-1} \\phi_{0}, (0)\\psi_{-1} \\phi_{0}, (0)\\psi_{-1} \\phi_{0}, (0)\\psi_{-1} \\phi_{2}, (0)\\psi_{-1} \\phi_{2}, (0)\\psi_{-1} \\phi_{2}, (0)\\psi_{-1} \\phi_{2}, \\psi_{2} \\phi_{1}, (-1)\\psi_{2} \\phi_{1}, \\psi_{2} \\phi_{1}, (-1)\\psi_{2} \\phi_{1}\\right]</script></html>"
      ],
      "text/plain": [
       "[(0)\\psi_{-1} \\phi_{0},\n",
       " (0)\\psi_{-1} \\phi_{0},\n",
       " (0)\\psi_{-1} \\phi_{0},\n",
       " (0)\\psi_{-1} \\phi_{0},\n",
       " (0)\\psi_{-1} \\phi_{2},\n",
       " (0)\\psi_{-1} \\phi_{2},\n",
       " (0)\\psi_{-1} \\phi_{2},\n",
       " (0)\\psi_{-1} \\phi_{2},\n",
       " \\psi_{2} \\phi_{1},\n",
       " (-1)\\psi_{2} \\phi_{1},\n",
       " \\psi_{2} \\phi_{1},\n",
       " (-1)\\psi_{2} \\phi_{1}]"
      ]
     },
     "metadata": {},
     "output_type": "display_data"
    },
    {
     "data": {
      "text/html": [
       "<html><script type=\"math/tex; mode=display\">\\newcommand{\\Bold}[1]{\\mathbf{#1}}(0)\\psi_{-1} \\phi_{0}</script></html>"
      ],
      "text/plain": [
       "(0)\\psi_{-1} \\phi_{0}"
      ]
     },
     "metadata": {},
     "output_type": "display_data"
    }
   ],
   "source": [
    "ex_ez=vdp((1,0,0),(0,0,1))\n",
    "ey_ex=vdp((0,1,0),(1,0,0))\n",
    "ex_ex=vdp((1,0,0),(1,0,0))\n",
    "ex_ex=vdp((1,0,0),(1,0,0))\n",
    "\n",
    "get_p(ey_ex, 0,2)"
   ]
  },
  {
   "cell_type": "code",
   "execution_count": 32,
   "metadata": {},
   "outputs": [
    {
     "data": {
      "text/plain": [
       "[0, 0, 0, 1, 0, 0, 0, 0, 0]"
      ]
     },
     "execution_count": 32,
     "metadata": {},
     "output_type": "execute_result"
    }
   ],
   "source": [
    "[0]*3+[1]+[0]*(9-(3+1))"
   ]
  },
  {
   "cell_type": "markdown",
   "metadata": {},
   "source": [
    "### $F_{3}$ component"
   ]
  },
  {
   "cell_type": "code",
   "execution_count": 5,
   "metadata": {},
   "outputs": [],
   "source": [
    "r7, r2, r4, r6 = var('r7 r2 r4 r6')\n",
    "m = matrix(SR, \n",
    "           [[ r7,  0,  0, r2,  0,  0],\n",
    "            [ 0, r7,  0,  0, r2,  0],\n",
    "            [0,  0, r7,  0,  0, r2],\n",
    "            [r4,  0,  0, r6,  0,  0],\n",
    "            [0, r4,  0,  0, r6,  0],\n",
    "            [0,  0, r4,  0,  0, r6]])\n",
    "m1 = m.jordan_form(subdivide=False)"
   ]
  },
  {
   "cell_type": "code",
   "execution_count": 11,
   "metadata": {},
   "outputs": [
    {
     "data": {
      "text/plain": [
       "[1/2*r6 + 1/2*r7 - 1/2*sqrt(4*r2*r4 + r6^2 - 2*r6*r7 + r7^2),\n",
       " 1/2*r6 + 1/2*r7 - 1/2*sqrt(4*r2*r4 + r6^2 - 2*r6*r7 + r7^2),\n",
       " 1/2*r6 + 1/2*r7 - 1/2*sqrt(4*r2*r4 + r6^2 - 2*r6*r7 + r7^2),\n",
       " 1/2*r6 + 1/2*r7 + 1/2*sqrt(4*r2*r4 + r6^2 - 2*r6*r7 + r7^2),\n",
       " 1/2*r6 + 1/2*r7 + 1/2*sqrt(4*r2*r4 + r6^2 - 2*r6*r7 + r7^2),\n",
       " 1/2*r6 + 1/2*r7 + 1/2*sqrt(4*r2*r4 + r6^2 - 2*r6*r7 + r7^2)]"
      ]
     },
     "execution_count": 11,
     "metadata": {},
     "output_type": "execute_result"
    }
   ],
   "source": [
    "# pretty_print(LatexExpr(m1[]))\n",
    "m.eigenvalues()"
   ]
  },
  {
   "cell_type": "code",
   "execution_count": 14,
   "metadata": {},
   "outputs": [],
   "source": [
    "e = m.eigenmatrix_left()"
   ]
  },
  {
   "cell_type": "code",
   "execution_count": null,
   "metadata": {},
   "outputs": [],
   "source": []
  },
  {
   "cell_type": "code",
   "execution_count": 23,
   "metadata": {},
   "outputs": [
    {
     "data": {
      "text/plain": [
       "[                                                       1                                                        0                                                        0 1/2*(r6 - r7 - sqrt(4*r2*r4 + r6^2 - 2*r6*r7 + r7^2))/r4                                                        0                                                        0]\n",
       "[                                                       0                                                        1                                                        0                                                        0 1/2*(r6 - r7 - sqrt(4*r2*r4 + r6^2 - 2*r6*r7 + r7^2))/r4                                                        0]\n",
       "[                                                       0                                                        0                                                        1                                                        0                                                        0 1/2*(r6 - r7 - sqrt(4*r2*r4 + r6^2 - 2*r6*r7 + r7^2))/r4]\n",
       "[                                                       1                                                        0                                                        0 1/2*(r6 - r7 + sqrt(4*r2*r4 + r6^2 - 2*r6*r7 + r7^2))/r4                                                        0                                                        0]\n",
       "[                                                       0                                                        1                                                        0                                                        0 1/2*(r6 - r7 + sqrt(4*r2*r4 + r6^2 - 2*r6*r7 + r7^2))/r4                                                        0]\n",
       "[                                                       0                                                        0                                                        1                                                        0                                                        0 1/2*(r6 - r7 + sqrt(4*r2*r4 + r6^2 - 2*r6*r7 + r7^2))/r4]"
      ]
     },
     "execution_count": 23,
     "metadata": {},
     "output_type": "execute_result"
    }
   ],
   "source": [
    "a = matrix(SR, e[1])\n",
    "a"
   ]
  },
  {
   "cell_type": "code",
   "execution_count": 24,
   "metadata": {},
   "outputs": [
    {
     "data": {
      "text/plain": [
       "[(r6 - r7 - sqrt(4*r2*r4 + r6^2 - 2*r6*r7 + r7^2))/(r4*((r6 - r7 + sqrt(4*r2*r4 + r6^2 - 2*r6*r7 + r7^2))/r4 - (r6 - r7 - sqrt(4*r2*r4 + r6^2 - 2*r6*r7 + r7^2))/r4)) + 1                                                                                                                                                                        0                                                                                                                                                                        0    -(r6 - r7 - sqrt(4*r2*r4 + r6^2 - 2*r6*r7 + r7^2))/(r4*((r6 - r7 + sqrt(4*r2*r4 + r6^2 - 2*r6*r7 + r7^2))/r4 - (r6 - r7 - sqrt(4*r2*r4 + r6^2 - 2*r6*r7 + r7^2))/r4))                                                                                                                                                                        0                                                                                                                                                                        0]\n",
       "[                                                                                                                                                                       0 (r6 - r7 - sqrt(4*r2*r4 + r6^2 - 2*r6*r7 + r7^2))/(r4*((r6 - r7 + sqrt(4*r2*r4 + r6^2 - 2*r6*r7 + r7^2))/r4 - (r6 - r7 - sqrt(4*r2*r4 + r6^2 - 2*r6*r7 + r7^2))/r4)) + 1                                                                                                                                                                        0                                                                                                                                                                        0    -(r6 - r7 - sqrt(4*r2*r4 + r6^2 - 2*r6*r7 + r7^2))/(r4*((r6 - r7 + sqrt(4*r2*r4 + r6^2 - 2*r6*r7 + r7^2))/r4 - (r6 - r7 - sqrt(4*r2*r4 + r6^2 - 2*r6*r7 + r7^2))/r4))                                                                                                                                                                        0]\n",
       "[                                                                                                                                                                       0                                                                                                                                                                        0 (r6 - r7 - sqrt(4*r2*r4 + r6^2 - 2*r6*r7 + r7^2))/(r4*((r6 - r7 + sqrt(4*r2*r4 + r6^2 - 2*r6*r7 + r7^2))/r4 - (r6 - r7 - sqrt(4*r2*r4 + r6^2 - 2*r6*r7 + r7^2))/r4)) + 1                                                                                                                                                                        0                                                                                                                                                                        0    -(r6 - r7 - sqrt(4*r2*r4 + r6^2 - 2*r6*r7 + r7^2))/(r4*((r6 - r7 + sqrt(4*r2*r4 + r6^2 - 2*r6*r7 + r7^2))/r4 - (r6 - r7 - sqrt(4*r2*r4 + r6^2 - 2*r6*r7 + r7^2))/r4))]\n",
       "[                                                        -2/((r6 - r7 + sqrt(4*r2*r4 + r6^2 - 2*r6*r7 + r7^2))/r4 - (r6 - r7 - sqrt(4*r2*r4 + r6^2 - 2*r6*r7 + r7^2))/r4)                                                                                                                                                                        0                                                                                                                                                                        0                                                          2/((r6 - r7 + sqrt(4*r2*r4 + r6^2 - 2*r6*r7 + r7^2))/r4 - (r6 - r7 - sqrt(4*r2*r4 + r6^2 - 2*r6*r7 + r7^2))/r4)                                                                                                                                                                        0                                                                                                                                                                        0]\n",
       "[                                                                                                                                                                       0                                                         -2/((r6 - r7 + sqrt(4*r2*r4 + r6^2 - 2*r6*r7 + r7^2))/r4 - (r6 - r7 - sqrt(4*r2*r4 + r6^2 - 2*r6*r7 + r7^2))/r4)                                                                                                                                                                        0                                                                                                                                                                        0                                                          2/((r6 - r7 + sqrt(4*r2*r4 + r6^2 - 2*r6*r7 + r7^2))/r4 - (r6 - r7 - sqrt(4*r2*r4 + r6^2 - 2*r6*r7 + r7^2))/r4)                                                                                                                                                                        0]\n",
       "[                                                                                                                                                                       0                                                                                                                                                                        0                                                         -2/((r6 - r7 + sqrt(4*r2*r4 + r6^2 - 2*r6*r7 + r7^2))/r4 - (r6 - r7 - sqrt(4*r2*r4 + r6^2 - 2*r6*r7 + r7^2))/r4)                                                                                                                                                                        0                                                                                                                                                                        0                                                          2/((r6 - r7 + sqrt(4*r2*r4 + r6^2 - 2*r6*r7 + r7^2))/r4 - (r6 - r7 - sqrt(4*r2*r4 + r6^2 - 2*r6*r7 + r7^2))/r4)]"
      ]
     },
     "execution_count": 24,
     "metadata": {},
     "output_type": "execute_result"
    }
   ],
   "source": [
    "a.inverse()"
   ]
  },
  {
   "cell_type": "code",
   "execution_count": 22,
   "metadata": {},
   "outputs": [
    {
     "data": {
      "text/plain": [
       "[1/2*(r6 + r7 - sqrt(4*r2*r4 + r6^2 - 2*r6*r7 + r7^2))*((r6 - r7 - sqrt(4*r2*r4 + r6^2 - 2*r6*r7 + r7^2))/(r4*((r6 - r7 + sqrt(4*r2*r4 + r6^2 - 2*r6*r7 + r7^2))/r4 - (r6 - r7 - sqrt(4*r2*r4 + r6^2 - 2*r6*r7 + r7^2))/r4)) + 1) - (2*r2 + (r6 - r7 - sqrt(4*r2*r4 + r6^2 - 2*r6*r7 + r7^2))*r6/r4)/((r6 - r7 + sqrt(4*r2*r4 + r6^2 - 2*r6*r7 + r7^2))/r4 - (r6 - r7 - sqrt(4*r2*r4 + r6^2 - 2*r6*r7 + r7^2))/r4)                                                                                                                                                                                                                                                                                                                                                                                                                 0                                                                                                                                                                                                                                                                                                                                                                                                                 0       (2*r2 + (r6 - r7 - sqrt(4*r2*r4 + r6^2 - 2*r6*r7 + r7^2))*r6/r4)/((r6 - r7 + sqrt(4*r2*r4 + r6^2 - 2*r6*r7 + r7^2))/r4 - (r6 - r7 - sqrt(4*r2*r4 + r6^2 - 2*r6*r7 + r7^2))/r4) - 1/2*(r6 + r7 - sqrt(4*r2*r4 + r6^2 - 2*r6*r7 + r7^2))*(r6 - r7 - sqrt(4*r2*r4 + r6^2 - 2*r6*r7 + r7^2))/(r4*((r6 - r7 + sqrt(4*r2*r4 + r6^2 - 2*r6*r7 + r7^2))/r4 - (r6 - r7 - sqrt(4*r2*r4 + r6^2 - 2*r6*r7 + r7^2))/r4))                                                                                                                                                                                                                                                                                                                                                                                                                 0                                                                                                                                                                                                                                                                                                                                                                                                                 0]\n",
       "[                                                                                                                                                                                                                                                                                                                                                                                                                0 1/2*(r6 + r7 - sqrt(4*r2*r4 + r6^2 - 2*r6*r7 + r7^2))*((r6 - r7 - sqrt(4*r2*r4 + r6^2 - 2*r6*r7 + r7^2))/(r4*((r6 - r7 + sqrt(4*r2*r4 + r6^2 - 2*r6*r7 + r7^2))/r4 - (r6 - r7 - sqrt(4*r2*r4 + r6^2 - 2*r6*r7 + r7^2))/r4)) + 1) - (2*r2 + (r6 - r7 - sqrt(4*r2*r4 + r6^2 - 2*r6*r7 + r7^2))*r6/r4)/((r6 - r7 + sqrt(4*r2*r4 + r6^2 - 2*r6*r7 + r7^2))/r4 - (r6 - r7 - sqrt(4*r2*r4 + r6^2 - 2*r6*r7 + r7^2))/r4)                                                                                                                                                                                                                                                                                                                                                                                                                 0                                                                                                                                                                                                                                                                                                                                                                                                                 0       (2*r2 + (r6 - r7 - sqrt(4*r2*r4 + r6^2 - 2*r6*r7 + r7^2))*r6/r4)/((r6 - r7 + sqrt(4*r2*r4 + r6^2 - 2*r6*r7 + r7^2))/r4 - (r6 - r7 - sqrt(4*r2*r4 + r6^2 - 2*r6*r7 + r7^2))/r4) - 1/2*(r6 + r7 - sqrt(4*r2*r4 + r6^2 - 2*r6*r7 + r7^2))*(r6 - r7 - sqrt(4*r2*r4 + r6^2 - 2*r6*r7 + r7^2))/(r4*((r6 - r7 + sqrt(4*r2*r4 + r6^2 - 2*r6*r7 + r7^2))/r4 - (r6 - r7 - sqrt(4*r2*r4 + r6^2 - 2*r6*r7 + r7^2))/r4))                                                                                                                                                                                                                                                                                                                                                                                                                 0]\n",
       "[                                                                                                                                                                                                                                                                                                                                                                                                                0                                                                                                                                                                                                                                                                                                                                                                                                                 0 1/2*(r6 + r7 - sqrt(4*r2*r4 + r6^2 - 2*r6*r7 + r7^2))*((r6 - r7 - sqrt(4*r2*r4 + r6^2 - 2*r6*r7 + r7^2))/(r4*((r6 - r7 + sqrt(4*r2*r4 + r6^2 - 2*r6*r7 + r7^2))/r4 - (r6 - r7 - sqrt(4*r2*r4 + r6^2 - 2*r6*r7 + r7^2))/r4)) + 1) - (2*r2 + (r6 - r7 - sqrt(4*r2*r4 + r6^2 - 2*r6*r7 + r7^2))*r6/r4)/((r6 - r7 + sqrt(4*r2*r4 + r6^2 - 2*r6*r7 + r7^2))/r4 - (r6 - r7 - sqrt(4*r2*r4 + r6^2 - 2*r6*r7 + r7^2))/r4)                                                                                                                                                                                                                                                                                                                                                                                                                 0                                                                                                                                                                                                                                                                                                                                                                                                                 0       (2*r2 + (r6 - r7 - sqrt(4*r2*r4 + r6^2 - 2*r6*r7 + r7^2))*r6/r4)/((r6 - r7 + sqrt(4*r2*r4 + r6^2 - 2*r6*r7 + r7^2))/r4 - (r6 - r7 - sqrt(4*r2*r4 + r6^2 - 2*r6*r7 + r7^2))/r4) - 1/2*(r6 + r7 - sqrt(4*r2*r4 + r6^2 - 2*r6*r7 + r7^2))*(r6 - r7 - sqrt(4*r2*r4 + r6^2 - 2*r6*r7 + r7^2))/(r4*((r6 - r7 + sqrt(4*r2*r4 + r6^2 - 2*r6*r7 + r7^2))/r4 - (r6 - r7 - sqrt(4*r2*r4 + r6^2 - 2*r6*r7 + r7^2))/r4))]\n",
       "[1/2*(r6 + r7 + sqrt(4*r2*r4 + r6^2 - 2*r6*r7 + r7^2))*((r6 - r7 - sqrt(4*r2*r4 + r6^2 - 2*r6*r7 + r7^2))/(r4*((r6 - r7 + sqrt(4*r2*r4 + r6^2 - 2*r6*r7 + r7^2))/r4 - (r6 - r7 - sqrt(4*r2*r4 + r6^2 - 2*r6*r7 + r7^2))/r4)) + 1) - (2*r2 + (r6 - r7 + sqrt(4*r2*r4 + r6^2 - 2*r6*r7 + r7^2))*r6/r4)/((r6 - r7 + sqrt(4*r2*r4 + r6^2 - 2*r6*r7 + r7^2))/r4 - (r6 - r7 - sqrt(4*r2*r4 + r6^2 - 2*r6*r7 + r7^2))/r4)                                                                                                                                                                                                                                                                                                                                                                                                                 0                                                                                                                                                                                                                                                                                                                                                                                                                 0       (2*r2 + (r6 - r7 + sqrt(4*r2*r4 + r6^2 - 2*r6*r7 + r7^2))*r6/r4)/((r6 - r7 + sqrt(4*r2*r4 + r6^2 - 2*r6*r7 + r7^2))/r4 - (r6 - r7 - sqrt(4*r2*r4 + r6^2 - 2*r6*r7 + r7^2))/r4) - 1/2*(r6 + r7 + sqrt(4*r2*r4 + r6^2 - 2*r6*r7 + r7^2))*(r6 - r7 - sqrt(4*r2*r4 + r6^2 - 2*r6*r7 + r7^2))/(r4*((r6 - r7 + sqrt(4*r2*r4 + r6^2 - 2*r6*r7 + r7^2))/r4 - (r6 - r7 - sqrt(4*r2*r4 + r6^2 - 2*r6*r7 + r7^2))/r4))                                                                                                                                                                                                                                                                                                                                                                                                                 0                                                                                                                                                                                                                                                                                                                                                                                                                 0]\n",
       "[                                                                                                                                                                                                                                                                                                                                                                                                                0 1/2*(r6 + r7 + sqrt(4*r2*r4 + r6^2 - 2*r6*r7 + r7^2))*((r6 - r7 - sqrt(4*r2*r4 + r6^2 - 2*r6*r7 + r7^2))/(r4*((r6 - r7 + sqrt(4*r2*r4 + r6^2 - 2*r6*r7 + r7^2))/r4 - (r6 - r7 - sqrt(4*r2*r4 + r6^2 - 2*r6*r7 + r7^2))/r4)) + 1) - (2*r2 + (r6 - r7 + sqrt(4*r2*r4 + r6^2 - 2*r6*r7 + r7^2))*r6/r4)/((r6 - r7 + sqrt(4*r2*r4 + r6^2 - 2*r6*r7 + r7^2))/r4 - (r6 - r7 - sqrt(4*r2*r4 + r6^2 - 2*r6*r7 + r7^2))/r4)                                                                                                                                                                                                                                                                                                                                                                                                                 0                                                                                                                                                                                                                                                                                                                                                                                                                 0       (2*r2 + (r6 - r7 + sqrt(4*r2*r4 + r6^2 - 2*r6*r7 + r7^2))*r6/r4)/((r6 - r7 + sqrt(4*r2*r4 + r6^2 - 2*r6*r7 + r7^2))/r4 - (r6 - r7 - sqrt(4*r2*r4 + r6^2 - 2*r6*r7 + r7^2))/r4) - 1/2*(r6 + r7 + sqrt(4*r2*r4 + r6^2 - 2*r6*r7 + r7^2))*(r6 - r7 - sqrt(4*r2*r4 + r6^2 - 2*r6*r7 + r7^2))/(r4*((r6 - r7 + sqrt(4*r2*r4 + r6^2 - 2*r6*r7 + r7^2))/r4 - (r6 - r7 - sqrt(4*r2*r4 + r6^2 - 2*r6*r7 + r7^2))/r4))                                                                                                                                                                                                                                                                                                                                                                                                                 0]\n",
       "[                                                                                                                                                                                                                                                                                                                                                                                                                0                                                                                                                                                                                                                                                                                                                                                                                                                 0 1/2*(r6 + r7 + sqrt(4*r2*r4 + r6^2 - 2*r6*r7 + r7^2))*((r6 - r7 - sqrt(4*r2*r4 + r6^2 - 2*r6*r7 + r7^2))/(r4*((r6 - r7 + sqrt(4*r2*r4 + r6^2 - 2*r6*r7 + r7^2))/r4 - (r6 - r7 - sqrt(4*r2*r4 + r6^2 - 2*r6*r7 + r7^2))/r4)) + 1) - (2*r2 + (r6 - r7 + sqrt(4*r2*r4 + r6^2 - 2*r6*r7 + r7^2))*r6/r4)/((r6 - r7 + sqrt(4*r2*r4 + r6^2 - 2*r6*r7 + r7^2))/r4 - (r6 - r7 - sqrt(4*r2*r4 + r6^2 - 2*r6*r7 + r7^2))/r4)                                                                                                                                                                                                                                                                                                                                                                                                                 0                                                                                                                                                                                                                                                                                                                                                                                                                 0       (2*r2 + (r6 - r7 + sqrt(4*r2*r4 + r6^2 - 2*r6*r7 + r7^2))*r6/r4)/((r6 - r7 + sqrt(4*r2*r4 + r6^2 - 2*r6*r7 + r7^2))/r4 - (r6 - r7 - sqrt(4*r2*r4 + r6^2 - 2*r6*r7 + r7^2))/r4) - 1/2*(r6 + r7 + sqrt(4*r2*r4 + r6^2 - 2*r6*r7 + r7^2))*(r6 - r7 - sqrt(4*r2*r4 + r6^2 - 2*r6*r7 + r7^2))/(r4*((r6 - r7 + sqrt(4*r2*r4 + r6^2 - 2*r6*r7 + r7^2))/r4 - (r6 - r7 - sqrt(4*r2*r4 + r6^2 - 2*r6*r7 + r7^2))/r4))]"
      ]
     },
     "execution_count": 22,
     "metadata": {},
     "output_type": "execute_result"
    }
   ],
   "source": [
    "a*m*a.inverse()"
   ]
  },
  {
   "cell_type": "code",
   "execution_count": null,
   "metadata": {},
   "outputs": [],
   "source": []
  },
  {
   "cell_type": "code",
   "execution_count": null,
   "metadata": {},
   "outputs": [],
   "source": []
  }
 ],
 "metadata": {
  "kernelspec": {
   "display_name": "SageMath 9.0",
   "language": "sage",
   "name": "sagemath"
  },
  "language_info": {
   "codemirror_mode": {
    "name": "ipython",
    "version": 3
   },
   "file_extension": ".py",
   "mimetype": "text/x-python",
   "name": "python",
   "nbconvert_exporter": "python",
   "pygments_lexer": "ipython3",
   "version": "3.7.3"
  }
 },
 "nbformat": 4,
 "nbformat_minor": 2
}
